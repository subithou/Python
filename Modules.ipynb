
{
  "nbformat": 4,
  "nbformat_minor": 0,
  "metadata": {
    "colab": {
      "name": "Modules.ipynb",
      "provenance": [],
      "authorship_tag": "ABX9TyMLuuGZ/bwUhHQjnT5jo6zM",
      "include_colab_link": true
    },
    "kernelspec": {
      "name": "python3",
      "display_name": "Python 3"
    },
    "language_info": {
      "name": "python"
    },
    "accelerator": "TPU"
  },
  "cells": [
    {
      "cell_type": "markdown",
      "metadata": {
        "id": "view-in-github",
        "colab_type": "text"
      },
      "source": [
        "<a href=\"https://colab.research.google.com/github/subithou/Python/blob/main/Modules.ipynb\" target=\"_parent\"><img src=\"https://colab.research.google.com/assets/colab-badge.svg\" alt=\"Open In Colab\"/></a>"
      ]
    },
    {
      "cell_type": "markdown",
      "source": [
        "# **Python Modules**\n",
        "\n",
        "---\n",
        "\n",
        "\n",
        "\n",
        "* Consider a module to be the same as a code library.\n",
        "\n",
        "* A file containing a set of functions you want to include in your application."
      ],
      "metadata": {
        "id": "jqy9iAws-Cpt"
      }
    },
    {
      "cell_type": "markdown",
      "source": [
        "## **Create a Module**\n",
        "To create a module just save the code you want in a file with the file extension .py"
      ],
      "metadata": {
        "id": "5J52H_H_-UYc"
      }
    },
    {
      "cell_type": "markdown",
      "source": [
        "Save this code in a file named mymodule.py\n"
      ],
      "metadata": {
        "id": "V6ECqQVo-hKX"
      }
    },
    {
      "cell_type": "code",
      "execution_count": null,
      "metadata": {
        "id": "9L9DwwOH-Ait"
      },
      "outputs": [],
      "source": [
        "def greeting(name):\n",
        "  print(\"Hello, \" + name)"
      ]
    },
    {
      "cell_type": "markdown",
      "source": [
        "## **Use a Module**\n",
        "Now we can use the module we just created, by using the import statement."
      ],
      "metadata": {
        "id": "sURTF__O-jRq"
      }
    },
    {
      "cell_type": "markdown",
      "source": [
        "Import the module named mymodule, and call the greeting function."
      ],
      "metadata": {
        "id": "XJbaEVUS-o0i"
      }
    },
    {
      "cell_type": "code",
      "source": [
        "import mymodule\n",
        "\n",
        "mymodule.greeting(\"Jonathan\")"
      ],
      "metadata": {
        "id": "M-T5Xc_8-oZi"
      },
      "execution_count": null,
      "outputs": []
    },
    {
      "cell_type": "markdown",
      "source": [
        "## **Variables in Module**\n",
        "The module can contain functions, as already described, but also variables of all types (arrays, dictionaries, objects etc)."
      ],
      "metadata": {
        "id": "MYfyCtq5-uvO"
      }
    },
    {
      "cell_type": "markdown",
      "source": [
        "Save this code in the file mymodule.py"
      ],
      "metadata": {
        "id": "hZKHxied-0Z6"
      }
    },
    {
      "cell_type": "code",
      "source": [
        "fruits = ['Orange', 'Mango', 'Apple']"
      ],
      "metadata": {
        "id": "IS960qWH-2xR"
      },
      "execution_count": null,
      "outputs": []
    },
    {
      "cell_type": "markdown",
      "source": [
        "Import the module named mymodule, and access the person1 dictionary."
      ],
      "metadata": {
        "id": "38VVWChj-6V0"
      }
    },
    {
      "cell_type": "code",
      "source": [
        "import mymodule\n",
        "\n",
        "a = mymodule.fruits[0]\n",
        "print(a)"
      ],
      "metadata": {
        "id": "qVeHFART_vR9"
      },
      "execution_count": null,
      "outputs": []
    },
    {
      "cell_type": "markdown",
      "source": [
        "## **Naming a Module**\n",
        "You can name the module file whatever you like, but it must have the file extension .py\n"
      ],
      "metadata": {
        "id": "iR-0tX_l_zzb"
      }
    },
    {
      "cell_type": "markdown",
      "source": [
        "## **Re-naming a Module**\n",
        "You can create an alias when you import a module, by using the as keyword."
      ],
      "metadata": {
        "id": "Kq1Tn-eT_3y_"
      }
    },
    {
      "cell_type": "markdown",
      "source": [
        "Create an alias for mymodule called mx."
      ],
      "metadata": {
        "id": "fcM71-o7_-_C"
      }
    },
    {
      "cell_type": "code",
      "source": [
        "import mymodule as mx\n",
        "\n",
        "a = mx.fruits[0]\n",
        "print(a)"
      ],
      "metadata": {
        "id": "g-QPRor3ABar"
      },
      "execution_count": null,
      "outputs": []
    },
    {
      "cell_type": "markdown",
      "source": [
        "## **Built-in Modules**\n",
        "There are several built-in modules in Python, which you can import whenever you like.\n",
        "\n",
        "**Examples** : random, os ..."
      ],
      "metadata": {
        "id": "3fihJukTAHNC"
      }
    },
    {
      "cell_type": "markdown",
      "source": [
        "### **Python Random Module**\n",
        "Python Random module is an in-built module of Python which is used to generate random numbers. These are pseudo-random numbers means these are not truly random. This module can be used to perform random actions such as generating random numbers, print random a value for a list or string, etc."
      ],
      "metadata": {
        "id": "bvxnQ0WlAJeA"
      }
    },
    {
      "cell_type": "markdown",
      "source": [
        "**Example:** Printing a random value from a list"
      ],
      "metadata": {
        "id": "uArtuVlpAs2J"
      }
    },
    {
      "cell_type": "code",
      "source": [
        "# import random\n",
        "import random\n",
        "  \n",
        "# prints a random value from the list\n",
        "list1 = [1, 2, 3, 4, 5, 6]\n",
        "print(random.choice(list1))"
      ],
      "metadata": {
        "colab": {
          "base_uri": "https://localhost:8080/"
        },
        "id": "leIesRdPA1d6",
        "outputId": "bc0f50b6-7fe5-414e-b153-eec1b03bf1ed"
      },
      "execution_count": null,
      "outputs": [
        {
          "output_type": "stream",
          "name": "stdout",
          "text": [
            "4\n"
          ]
        }
      ]
    },
    {
      "cell_type": "markdown",
      "source": [
        "#### **Creating Random Integers**\n",
        "random.randint() method is used to generate random integers between the given range."
      ],
      "metadata": {
        "id": "iA9ixyjLA-WH"
      }
    },
    {
      "cell_type": "markdown",
      "source": [
        "**Syntax :**\n",
        "\n",
        "    randint(start, end)"
      ],
      "metadata": {
        "id": "DqkR4v7MBFsS"
      }
    },
    {
      "cell_type": "markdown",
      "source": [
        "**Example:** Creating random integers."
      ],
      "metadata": {
        "id": "d9PUFFS4BNfT"
      }
    },
    {
      "cell_type": "code",
      "source": [
        "# import random module\n",
        "import random\n",
        "  \n",
        "# Generates a random number between\n",
        "# a given positive range\n",
        "r1 = random.randint(5, 15)\n",
        "print(\"Random number between 5 and 15 is \", (r1))\n",
        "  \n",
        "# Generates a random number between\n",
        "# two given negative range\n",
        "r2 = random.randint(-10, -2)\n",
        "print(\"Random number between -10 and -2 is \", (r2))"
      ],
      "metadata": {
        "colab": {
          "base_uri": "https://localhost:8080/"
        },
        "id": "9DE0_7heBZHF",
        "outputId": "bf4b941b-fcbf-4efb-af1d-7f400add5e42"
      },
      "execution_count": 2,
      "outputs": [
        {
          "output_type": "stream",
          "name": "stdout",
          "text": [
            "Random number between 5 and 15 is  13\n",
            "Random number between -10 and -2 is  -7\n"
          ]
        }
      ]
    }
  ]
}
