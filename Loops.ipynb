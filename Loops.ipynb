{
  "cells": [
    {
      "cell_type": "markdown",
      "metadata": {
        "id": "view-in-github",
        "colab_type": "text"
      },
      "source": [
        "<a href=\"https://colab.research.google.com/github/subithou/Python/blob/main/Loops.ipynb\" target=\"_parent\"><img src=\"https://colab.research.google.com/assets/colab-badge.svg\" alt=\"Open In Colab\"/></a>"
      ]
    },
    {
      "cell_type": "markdown",
      "source": [
        "#**Python Loops**\n",
        "\n",
        "---\n",
        "\n",
        "\n",
        "Python has two primitive loop commands:\n",
        "\n",
        "* while loops\n",
        "* for loops"
      ],
      "metadata": {
        "id": "P5oYZJ0F8_P2"
      },
      "id": "P5oYZJ0F8_P2"
    },
    {
      "cell_type": "markdown",
      "source": [
        "##**The while Loop**\n",
        "\n",
        "With the while loop we can execute a set of statements as long as a condition is true.\n",
        "\n",
        "**Note:** remember to increment i, or else the loop will continue forever.\n",
        "\n"
      ],
      "metadata": {
        "id": "L7VP3yjd92gJ"
      },
      "id": "L7VP3yjd92gJ"
    },
    {
      "cell_type": "code",
      "execution_count": null,
      "id": "8ad4ea5a",
      "metadata": {
        "id": "8ad4ea5a",
        "outputId": "3bb54b0b-19e4-4bd5-ec5e-bc25b0a21853"
      },
      "outputs": [
        {
          "name": "stdout",
          "output_type": "stream",
          "text": [
            "1\n",
            "2\n",
            "3\n",
            "4\n",
            "5\n"
          ]
        }
      ],
      "source": [
        "# Print i as long as i is less than 6\n",
        "\n",
        "i = 1\n",
        "while i < 6:\n",
        "  print(i)\n",
        "  i += 1 # Same as i = i+1"
      ]
    },
    {
      "cell_type": "markdown",
      "source": [
        "###**The break Statement**\n",
        "With the break statement we can stop the loop even if the while condition is true"
      ],
      "metadata": {
        "id": "7sNyGHIg-Uep"
      },
      "id": "7sNyGHIg-Uep"
    },
    {
      "cell_type": "code",
      "execution_count": null,
      "id": "d147943b",
      "metadata": {
        "id": "d147943b",
        "outputId": "868774e7-c6ec-452f-9baa-4dc95b7e02f1",
        "colab": {
          "base_uri": "https://localhost:8080/"
        }
      },
      "outputs": [
        {
          "output_type": "stream",
          "name": "stdout",
          "text": [
            "1\n",
            "2\n",
            "3\n"
          ]
        }
      ],
      "source": [
        "# Exit the loop when i is 3:\n",
        "\n",
        "i = 1\n",
        "while i < 6:\n",
        "  print(i)\n",
        "  if i == 3:\n",
        "    break\n",
        "  i += 1"
      ]
    },
    {
      "cell_type": "markdown",
      "source": [
        "###**The continue Statement**\n",
        "With the continue statement we can stop the current iteration, and continue with the next."
      ],
      "metadata": {
        "id": "vQiCNSzR-fcR"
      },
      "id": "vQiCNSzR-fcR"
    },
    {
      "cell_type": "code",
      "execution_count": null,
      "id": "770401fa",
      "metadata": {
        "id": "770401fa",
        "outputId": "7556aa70-f8a6-4040-badb-67d43b8a5fce",
        "colab": {
          "base_uri": "https://localhost:8080/"
        }
      },
      "outputs": [
        {
          "output_type": "stream",
          "name": "stdout",
          "text": [
            "1\n",
            "2\n",
            "4\n",
            "5\n",
            "6\n"
          ]
        }
      ],
      "source": [
        "# Continue to the next iteration if i is 3:\n",
        "\n",
        "i = 0\n",
        "while i < 6:\n",
        "  i += 1\n",
        "  if i == 3:\n",
        "    continue\n",
        "  print(i)"
      ]
    },
    {
      "cell_type": "markdown",
      "source": [
        "###**The else Statement**\n",
        "With the else statement we can run a block of code once when the condition no longer is true"
      ],
      "metadata": {
        "id": "9rBMLqJe-qaw"
      },
      "id": "9rBMLqJe-qaw"
    },
    {
      "cell_type": "code",
      "execution_count": null,
      "id": "2c8ec365",
      "metadata": {
        "id": "2c8ec365",
        "outputId": "05e56c3f-0a82-4187-9e11-dcd6ed86b43f"
      },
      "outputs": [
        {
          "name": "stdout",
          "output_type": "stream",
          "text": [
            "1\n",
            "2\n",
            "3\n",
            "4\n",
            "5\n",
            "i is no longer less than 6\n"
          ]
        }
      ],
      "source": [
        "# Print a message once the condition is false:\n",
        "\n",
        "i = 1\n",
        "while i < 6:\n",
        "  print(i)\n",
        "  i += 1\n",
        "else:\n",
        "  print(\"i is no longer less than 6\")"
      ]
    },
    {
      "cell_type": "markdown",
      "source": [
        "##**Python For Loops**\n",
        "\n",
        "* A for loop is used for iterating over a sequence (that is either a list, a tuple, a dictionary, a set, or a string).\n",
        "* This is less like the for keyword in other programming languages, and works more like an iterator method as found in \n",
        "other object-orientated programming languages.\n",
        "* With the for loop we can execute a set of statements, once for each item in a list, tuple, set etc.\n"
      ],
      "metadata": {
        "id": "XVSsynIe-znQ"
      },
      "id": "XVSsynIe-znQ"
    },
    {
      "cell_type": "code",
      "execution_count": null,
      "id": "526a7b98",
      "metadata": {
        "id": "526a7b98",
        "outputId": "ecedc0c3-143d-49d5-9165-d46682374cf9"
      },
      "outputs": [
        {
          "name": "stdout",
          "output_type": "stream",
          "text": [
            "apple\n",
            "banana\n",
            "cherry\n"
          ]
        }
      ],
      "source": [
        "# Print each fruit in a fruit list:\n",
        "\n",
        "fruits = [\"apple\", \"banana\", \"cherry\"]\n",
        "for x in fruits:\n",
        "  print(x)"
      ]
    },
    {
      "cell_type": "markdown",
      "source": [
        "###**Looping Through a String**\n",
        "Even strings are iterable objects, they contain a sequence of characters."
      ],
      "metadata": {
        "id": "Yy0cKzpM_B9L"
      },
      "id": "Yy0cKzpM_B9L"
    },
    {
      "cell_type": "code",
      "execution_count": null,
      "id": "478e9202",
      "metadata": {
        "id": "478e9202",
        "outputId": "d19af6f8-44f7-4356-9327-a41757c44d25",
        "colab": {
          "base_uri": "https://localhost:8080/"
        }
      },
      "outputs": [
        {
          "output_type": "stream",
          "name": "stdout",
          "text": [
            "b\n",
            "a\n",
            "n\n",
            "a\n",
            "n\n",
            "a\n"
          ]
        }
      ],
      "source": [
        "# Even strings are iterable objects, they contain a sequence of characters:\n",
        "\n",
        "for x in (\"banana\"):\n",
        "  print(x)\n"
      ]
    },
    {
      "cell_type": "markdown",
      "source": [
        "###**The break Statement**\n",
        "With the break statement we can stop the loop before it has looped through all the items."
      ],
      "metadata": {
        "id": "og9dew32_Kuo"
      },
      "id": "og9dew32_Kuo"
    },
    {
      "cell_type": "code",
      "execution_count": null,
      "id": "662311d1",
      "metadata": {
        "id": "662311d1",
        "outputId": "cede6988-6982-4f7b-9cf2-3ce71f3c6d80"
      },
      "outputs": [
        {
          "name": "stdout",
          "output_type": "stream",
          "text": [
            "apple\n",
            "banana\n"
          ]
        }
      ],
      "source": [
        "# Exit the loop when x is \"banana\":\n",
        "\n",
        "fruits = [\"apple\", \"banana\", \"cherry\"]\n",
        "for x in fruits:\n",
        "  print(x)\n",
        "  if x == \"banana\":\n",
        "    break\n"
      ]
    },
    {
      "cell_type": "code",
      "execution_count": null,
      "id": "2b3b3ff6",
      "metadata": {
        "id": "2b3b3ff6",
        "outputId": "f4407a02-b3a7-49c0-8838-74bb3f6ce26a"
      },
      "outputs": [
        {
          "name": "stdout",
          "output_type": "stream",
          "text": [
            "apple\n"
          ]
        }
      ],
      "source": [
        "# Exit the loop when x is \"banana\", but this time the break comes before the print:\n",
        "\n",
        "fruits = [\"apple\", \"banana\", \"cherry\"]\n",
        "for x in fruits:\n",
        "  if x == \"banana\":\n",
        "    break\n",
        "  print(x)"
      ]
    },
    {
      "cell_type": "markdown",
      "source": [
        "###**The continue Statement**\n",
        "With the continue statement we can stop the current iteration of the loop, and continue with the next"
      ],
      "metadata": {
        "id": "eiGxVtns_SZi"
      },
      "id": "eiGxVtns_SZi"
    },
    {
      "cell_type": "code",
      "execution_count": null,
      "id": "ede5d467",
      "metadata": {
        "id": "ede5d467",
        "outputId": "c6ffa109-642f-4d95-e3cb-6faac09f01f4",
        "colab": {
          "base_uri": "https://localhost:8080/"
        }
      },
      "outputs": [
        {
          "output_type": "stream",
          "name": "stdout",
          "text": [
            "apple\n",
            "cherry\n"
          ]
        }
      ],
      "source": [
        "# Do not print banana:\n",
        "\n",
        "fruits = [\"apple\", \"banana\", \"cherry\"]\n",
        "for x in fruits:\n",
        "  if x == \"banana\":\n",
        "    continue\n",
        "  print(x)"
      ]
    },
    {
      "cell_type": "markdown",
      "source": [
        "###**The range() Function**\n",
        "To loop through a set of code a specified number of times, we can use the range() function.\n",
        "\n",
        "The range() function returns a sequence of numbers, starting from 0 by default, and increments by 1 (by default), and ends at a specified number."
      ],
      "metadata": {
        "id": "mAAPayul_cKK"
      },
      "id": "mAAPayul_cKK"
    },
    {
      "cell_type": "code",
      "execution_count": null,
      "id": "22b7fefa",
      "metadata": {
        "id": "22b7fefa",
        "outputId": "231fcfc7-3d3e-48ff-f586-5c6d81032937"
      },
      "outputs": [
        {
          "name": "stdout",
          "output_type": "stream",
          "text": [
            "0\n",
            "1\n",
            "2\n",
            "3\n",
            "4\n",
            "5\n"
          ]
        }
      ],
      "source": [
        "# Using the range() function:\n",
        "\n",
        "for x in range(6):\n",
        "  print(x)\n",
        "\n",
        "# Note: that range(6) is not the values of 0 to 6, but the values 0 to 5."
      ]
    },
    {
      "cell_type": "markdown",
      "source": [
        "The range() function defaults to 0 as a starting value, \n",
        "however it is possible to specify the starting value by adding a parameter: range(2, 6), \n",
        "which means values from 2 to 6 (but not including 6)."
      ],
      "metadata": {
        "id": "DzTvFa8Q_vG6"
      },
      "id": "DzTvFa8Q_vG6"
    },
    {
      "cell_type": "code",
      "execution_count": null,
      "id": "7cf32582",
      "metadata": {
        "id": "7cf32582",
        "outputId": "408aa805-20a3-4ea7-c97e-5fdb207d6829"
      },
      "outputs": [
        {
          "name": "stdout",
          "output_type": "stream",
          "text": [
            "2\n",
            "3\n",
            "4\n",
            "5\n"
          ]
        }
      ],
      "source": [
        "# Using the start parameter:\n",
        "\n",
        "for x in range(2, 6):\n",
        "  print(x)"
      ]
    },
    {
      "cell_type": "markdown",
      "source": [
        "The range() function defaults to increment the sequence by 1, \n",
        "however it is possible to specify the increment value by adding a third parameter: range(2, 30, 3).\n"
      ],
      "metadata": {
        "id": "UXPU5kXe_2Uo"
      },
      "id": "UXPU5kXe_2Uo"
    },
    {
      "cell_type": "code",
      "execution_count": null,
      "id": "fdc4f501",
      "metadata": {
        "id": "fdc4f501",
        "outputId": "a0034e99-4cb6-4551-bb27-69efbcc1960a"
      },
      "outputs": [
        {
          "name": "stdout",
          "output_type": "stream",
          "text": [
            "2\n",
            "5\n",
            "8\n",
            "11\n",
            "14\n",
            "17\n",
            "20\n",
            "23\n",
            "26\n",
            "29\n"
          ]
        }
      ],
      "source": [
        "# Increment the sequence with 3 (default is 1):\n",
        "\n",
        "for x in range(2, 30, 3):\n",
        "  print(x)"
      ]
    },
    {
      "cell_type": "markdown",
      "source": [
        "###**Else in For Loop**\n",
        "The else keyword in a for loop specifies a block of code to be executed when the loop is finished.\n",
        "\n",
        "\n"
      ],
      "metadata": {
        "id": "MbEWURGx_6__"
      },
      "id": "MbEWURGx_6__"
    },
    {
      "cell_type": "code",
      "execution_count": null,
      "id": "cdc1ebe0",
      "metadata": {
        "id": "cdc1ebe0",
        "outputId": "51ff919a-2102-45b4-ea3b-2dc17819949f"
      },
      "outputs": [
        {
          "name": "stdout",
          "output_type": "stream",
          "text": [
            "0\n",
            "1\n",
            "2\n",
            "3\n",
            "4\n",
            "5\n",
            "Finally finished!\n"
          ]
        }
      ],
      "source": [
        "# Print all numbers from 0 to 5, and print a message when the loop has ended:\n",
        "\n",
        "for x in range(6):\n",
        "  print(x)\n",
        "else:\n",
        "  print(\"Finally finished!\")\n",
        "\n",
        "\n"
      ]
    },
    {
      "cell_type": "markdown",
      "source": [
        "**Note:** The else block will NOT be executed if the loop is stopped by a break statement."
      ],
      "metadata": {
        "id": "0sw6NVxzAUbo"
      },
      "id": "0sw6NVxzAUbo"
    },
    {
      "cell_type": "code",
      "source": [
        "# Break the loop when x is 3, and see what happens with the else block:\n",
        "\n",
        "for x in range(6):\n",
        "  if x == 3: break\n",
        "  print(x)\n",
        "else:\n",
        "  print(\"Finally finished!\")"
      ],
      "metadata": {
        "colab": {
          "base_uri": "https://localhost:8080/"
        },
        "id": "_X0qbnAaAWv3",
        "outputId": "7e61fde4-9cb9-46af-f33a-430ec7adf288"
      },
      "id": "_X0qbnAaAWv3",
      "execution_count": null,
      "outputs": [
        {
          "output_type": "stream",
          "name": "stdout",
          "text": [
            "0\n",
            "1\n",
            "2\n"
          ]
        }
      ]
    },
    {
      "cell_type": "markdown",
      "source": [
        "###**Nested Loops**\n",
        "A nested loop is a loop inside a loop.\n",
        "\n",
        "The \"inner loop\" will be executed one time for each iteration of the \"outer loop\"."
      ],
      "metadata": {
        "id": "8gYxU4nyAcRA"
      },
      "id": "8gYxU4nyAcRA"
    },
    {
      "cell_type": "code",
      "execution_count": null,
      "id": "0778a503",
      "metadata": {
        "id": "0778a503"
      },
      "outputs": [],
      "source": [
        "# Print each adjective for every fruit:\n",
        "\n",
        "adj = [\"red\", \"big\", \"tasty\"]\n",
        "fruits = [\"apple\", \"banana\", \"cherry\"]\n",
        "\n",
        "for x in adj:\n",
        "  for y in fruits:\n",
        "    print(x, y)"
      ]
    },
    {
      "cell_type": "markdown",
      "source": [
        "###**The pass Statement**\n",
        "for loops cannot be empty, but if you for some reason have a for loop with no content, put in the pass statement to avoid getting an error."
      ],
      "metadata": {
        "id": "bEk7ZuRKAmIG"
      },
      "id": "bEk7ZuRKAmIG"
    },
    {
      "cell_type": "code",
      "execution_count": null,
      "id": "5b9120cb",
      "metadata": {
        "id": "5b9120cb"
      },
      "outputs": [],
      "source": [
        "for x in [0, 1, 2]:\n",
        "  pass"
      ]
    }
  ],
  "metadata": {
    "kernelspec": {
      "display_name": "Python 3 (ipykernel)",
      "language": "python",
      "name": "python3"
    },
    "language_info": {
      "codemirror_mode": {
        "name": "ipython",
        "version": 3
      },
      "file_extension": ".py",
      "mimetype": "text/x-python",
      "name": "python",
      "nbconvert_exporter": "python",
      "pygments_lexer": "ipython3",
      "version": "3.9.7"
    },
    "colab": {
      "name": "Loops.ipynb",
      "provenance": [],
      "collapsed_sections": [],
      "include_colab_link": true
    }
  },
  "nbformat": 4,
  "nbformat_minor": 5
}