{
  "cells": [
    {
      "cell_type": "markdown",
      "metadata": {
        "id": "view-in-github",
        "colab_type": "text"
      },
      "source": [
        "<a href=\"https://colab.research.google.com/github/subithou/Python/blob/main/Conditional_statements.ipynb\" target=\"_parent\"><img src=\"https://colab.research.google.com/assets/colab-badge.svg\" alt=\"Open In Colab\"/></a>"
      ]
    },
    {
      "cell_type": "markdown",
      "source": [
        "#**Python If...Else**\n",
        "\n",
        "---\n",
        "###**Python Conditions and If statements**\n",
        "Python supports the usual logical conditions from mathematics:\n",
        "\n",
        "* Equals: a == b\n",
        "* Not Equals: a != b\n",
        "* Less than: a < b\n",
        "* Less than or equal to: a <= b\n",
        "* Greater than: a > b\n",
        "* Greater than or equal to: a >= b\n",
        "* These conditions can be used in several ways, most commonly in \"if statements\" and loops."
      ],
      "metadata": {
        "id": "TRFIyejgoIzS"
      },
      "id": "TRFIyejgoIzS"
    },
    {
      "cell_type": "code",
      "execution_count": null,
      "id": "deae49bb",
      "metadata": {
        "id": "deae49bb",
        "outputId": "022f44b2-08ee-486d-edf0-7743610c06d6",
        "colab": {
          "base_uri": "https://localhost:8080/"
        }
      },
      "outputs": [
        {
          "output_type": "stream",
          "name": "stdout",
          "text": [
            "b is greater than a\n"
          ]
        }
      ],
      "source": [
        "# If statement\n",
        "\n",
        "a = 33\n",
        "b = 200\n",
        "if b > a:\n",
        "  print(\"b is greater than a\")"
      ]
    },
    {
      "cell_type": "markdown",
      "source": [
        "In this example we use two variables, a and b, which are used as part of the \n",
        "if statement to test whether b is greater than a. As a is 33, and b is 200,\n",
        " \n",
        "we know that 200 is greater than 33, and so we print to screen that \"b is greater than a\".'''"
      ],
      "metadata": {
        "id": "vxwM3yjpoy7O"
      },
      "id": "vxwM3yjpoy7O"
    },
    {
      "cell_type": "markdown",
      "source": [
        "####**Indentation**\n",
        "Python relies on indentation (whitespace at the beginning of a line) to define scope in the code. \n",
        "\n",
        "Other programming languages often use curly-brackets for this purpose."
      ],
      "metadata": {
        "id": "sY4GcvLKo4Qe"
      },
      "id": "sY4GcvLKo4Qe"
    },
    {
      "cell_type": "code",
      "execution_count": null,
      "id": "2e121e73",
      "metadata": {
        "id": "2e121e73",
        "outputId": "a749eb47-a158-4a99-96bf-92102602e57b",
        "colab": {
          "base_uri": "https://localhost:8080/",
          "height": 131
        }
      },
      "outputs": [
        {
          "output_type": "error",
          "ename": "IndentationError",
          "evalue": "ignored",
          "traceback": [
            "\u001b[0;36m  File \u001b[0;32m\"<ipython-input-1-b5068c6b8877>\"\u001b[0;36m, line \u001b[0;32m5\u001b[0m\n\u001b[0;31m    print(\"b is greater than a\") # you will get an error\u001b[0m\n\u001b[0m        ^\u001b[0m\n\u001b[0;31mIndentationError\u001b[0m\u001b[0;31m:\u001b[0m expected an indented block\n"
          ]
        }
      ],
      "source": [
        "# If statement, without indentation (will raise an error):\n",
        "a = 33\n",
        "b = 200\n",
        "if b > a:\n",
        "print(\"b is greater than a\") # you will get an error\n"
      ]
    },
    {
      "cell_type": "markdown",
      "source": [
        "###**elif**\n",
        "\n",
        "The elif keyword is pythons way of saying \"if the previous conditions were not true, then try this condition\".\n"
      ],
      "metadata": {
        "id": "4s5firovpJ_w"
      },
      "id": "4s5firovpJ_w"
    },
    {
      "cell_type": "code",
      "execution_count": null,
      "id": "5559afc9",
      "metadata": {
        "id": "5559afc9",
        "outputId": "47c66a7b-1a90-4239-82a4-6578661dd2e4"
      },
      "outputs": [
        {
          "name": "stdout",
          "output_type": "stream",
          "text": [
            "a and b are equal\n"
          ]
        }
      ],
      "source": [
        "a = 33\n",
        "b = 33\n",
        "if b > a:\n",
        "  print(\"b is greater than a\")\n",
        "elif a == b:\n",
        "  print(\"a and b are equal\")"
      ]
    },
    {
      "cell_type": "markdown",
      "source": [
        "###**else**\n",
        "\n",
        "The else keyword catches anything which isn't caught by the preceding conditions.\n"
      ],
      "metadata": {
        "id": "OwxLMhECpZZ3"
      },
      "id": "OwxLMhECpZZ3"
    },
    {
      "cell_type": "code",
      "execution_count": null,
      "id": "c23a1b27",
      "metadata": {
        "id": "c23a1b27",
        "outputId": "c2bd483e-fd06-48e1-b0cc-54102dc5de5e"
      },
      "outputs": [
        {
          "name": "stdout",
          "output_type": "stream",
          "text": [
            "a is greater than b\n"
          ]
        }
      ],
      "source": [
        "a = 200\n",
        "b = 33\n",
        "if b > a:\n",
        "  print(\"b is greater than a\")\n",
        "elif a == b:\n",
        "  print(\"a and b are equal\")\n",
        "else:\n",
        "  print(\"a is greater than b\")\n",
        "\n"
      ]
    },
    {
      "cell_type": "markdown",
      "source": [
        "In this example a is greater than b, so the first condition is not true, \n",
        "also the elif condition is not true, so we go to the else condition and print to screen that \"a is greater than b\".\n",
        "You can also have an else without the elif.\n"
      ],
      "metadata": {
        "id": "H1YYMeotpmHz"
      },
      "id": "H1YYMeotpmHz"
    },
    {
      "cell_type": "code",
      "execution_count": null,
      "id": "af4e8277",
      "metadata": {
        "id": "af4e8277",
        "outputId": "b88302f9-14d5-4782-b207-79e8d01446ae",
        "colab": {
          "base_uri": "https://localhost:8080/"
        }
      },
      "outputs": [
        {
          "output_type": "stream",
          "name": "stdout",
          "text": [
            "b is not greater than a\n"
          ]
        }
      ],
      "source": [
        "a = 200\n",
        "b = 33\n",
        "if b > a:\n",
        "  print(\"b is greater than a\")\n",
        "  \n",
        "else:\n",
        "  print(\"b is not greater than a\")"
      ]
    },
    {
      "cell_type": "markdown",
      "source": [
        "###**Short Hand If**\n",
        "If you have only one statement to execute, you can put it on the same line as the if statement\n"
      ],
      "metadata": {
        "id": "sgqn_iqMp6nl"
      },
      "id": "sgqn_iqMp6nl"
    },
    {
      "cell_type": "code",
      "execution_count": null,
      "id": "76b119e6",
      "metadata": {
        "id": "76b119e6",
        "outputId": "d59fdfee-cfe0-4d8f-a369-04deffbbe0f8",
        "colab": {
          "base_uri": "https://localhost:8080/"
        }
      },
      "outputs": [
        {
          "output_type": "stream",
          "name": "stdout",
          "text": [
            "a is greater than b\n"
          ]
        }
      ],
      "source": [
        "a, b = 100, 20 \n",
        "if a > b: print(\"a is greater than b\")"
      ]
    },
    {
      "cell_type": "markdown",
      "source": [
        "###**Short Hand If ... Else**\n",
        "If you have only one statement to execute, one for if, and one for else, you can put it all on the same line.\n",
        "\n",
        "\n",
        "This technique is known as Ternary Operators, or Conditional Expressions.\n"
      ],
      "metadata": {
        "id": "6jmltI6uqNyI"
      },
      "id": "6jmltI6uqNyI"
    },
    {
      "cell_type": "code",
      "execution_count": null,
      "id": "ac519a20",
      "metadata": {
        "id": "ac519a20",
        "outputId": "10f53b85-5b03-4a64-e011-2cb3c2dc6100"
      },
      "outputs": [
        {
          "name": "stdout",
          "output_type": "stream",
          "text": [
            "B\n"
          ]
        }
      ],
      "source": [
        "a = 2\n",
        "b = 330\n",
        "print(\"A\") if a > b else print(\"B\")"
      ]
    },
    {
      "cell_type": "markdown",
      "source": [
        "You can also have multiple else statements on the same line:\n",
        "\n",
        "One line if else statement, with 3 conditions"
      ],
      "metadata": {
        "id": "kmjbbx0gqf68"
      },
      "id": "kmjbbx0gqf68"
    },
    {
      "cell_type": "code",
      "execution_count": null,
      "id": "dc1d5908",
      "metadata": {
        "id": "dc1d5908",
        "outputId": "1ddc9f77-6d41-4b98-b5d7-04c381cd31e7"
      },
      "outputs": [
        {
          "name": "stdout",
          "output_type": "stream",
          "text": [
            "=\n"
          ]
        }
      ],
      "source": [
        "a = 330\n",
        "b = 330\n",
        "print(\"A\") if a > b else print(\"=\") if a == b else print(\"B\")"
      ]
    },
    {
      "cell_type": "markdown",
      "source": [
        "###**And**\n",
        "\n",
        "The and keyword is a logical operator, and is used to combine conditional statements:\n",
        "\n",
        "Test if a is greater than b, AND if c is greater than a:"
      ],
      "metadata": {
        "id": "tZu7w-KOqrcJ"
      },
      "id": "tZu7w-KOqrcJ"
    },
    {
      "cell_type": "code",
      "execution_count": null,
      "id": "80ef562f",
      "metadata": {
        "id": "80ef562f",
        "outputId": "ed73e844-5515-4ad7-b76a-980103cad59c"
      },
      "outputs": [
        {
          "name": "stdout",
          "output_type": "stream",
          "text": [
            "Both conditions are True\n"
          ]
        }
      ],
      "source": [
        "a = 200\n",
        "b = 33\n",
        "c = 500\n",
        "if a > b and c > a:\n",
        "  print(\"Both conditions are True\")"
      ]
    },
    {
      "cell_type": "markdown",
      "source": [
        "###**Or**\n",
        "\n",
        "The or keyword is a logical operator, and is used to combine conditional statements:\n",
        "Test if a is greater than b, OR if a is greater than c."
      ],
      "metadata": {
        "id": "BE1shcOFrDMN"
      },
      "id": "BE1shcOFrDMN"
    },
    {
      "cell_type": "code",
      "execution_count": null,
      "id": "9bac2892",
      "metadata": {
        "id": "9bac2892",
        "outputId": "31f03a19-7587-440c-9fcd-9609842bf0be"
      },
      "outputs": [
        {
          "name": "stdout",
          "output_type": "stream",
          "text": [
            "At least one of the conditions is True\n"
          ]
        }
      ],
      "source": [
        "a = 200\n",
        "b = 33\n",
        "c = 500\n",
        "if a > b or a > c:\n",
        "  print(\"At least one of the conditions is True\")"
      ]
    },
    {
      "cell_type": "markdown",
      "source": [
        "###**Nested If**\n",
        "You can have if statements inside if statements, this is called nested if statements.\n"
      ],
      "metadata": {
        "id": "uRb_b60hrKzW"
      },
      "id": "uRb_b60hrKzW"
    },
    {
      "cell_type": "code",
      "execution_count": null,
      "id": "265241cf",
      "metadata": {
        "colab": {
          "base_uri": "https://localhost:8080/"
        },
        "id": "265241cf",
        "outputId": "b8e2fde9-aa77-4e1f-df72-9d3eda5894a5"
      },
      "outputs": [
        {
          "output_type": "stream",
          "name": "stdout",
          "text": [
            "Above ten,\n",
            "and also above 20!\n"
          ]
        }
      ],
      "source": [
        "x = 41\n",
        "\n",
        "if x > 10:\n",
        "  print(\"Above ten,\")\n",
        "  if x > 20:\n",
        "    print(\"and also above 20!\")\n",
        "  else:\n",
        "    print(\"but not above 20.\")"
      ]
    },
    {
      "cell_type": "markdown",
      "source": [
        "###**The pass Statement**\n",
        "if statements cannot be empty, but if you for some reason have an if statement with no content, put in the pass statement to avoid getting an error.\n"
      ],
      "metadata": {
        "id": "naKmDGb5rdYz"
      },
      "id": "naKmDGb5rdYz"
    },
    {
      "cell_type": "code",
      "execution_count": null,
      "id": "fd498f39",
      "metadata": {
        "id": "fd498f39"
      },
      "outputs": [],
      "source": [
        "a = 33\n",
        "b = 200\n",
        "\n",
        "if b > a:\n",
        "  pass"
      ]
    },
    {
      "cell_type": "code",
      "source": [
        "print(10<12)"
      ],
      "metadata": {
        "colab": {
          "base_uri": "https://localhost:8080/"
        },
        "id": "gCtvXvLCNAnA",
        "outputId": "ee693d46-32c0-4ac1-c156-b0775eb06841"
      },
      "id": "gCtvXvLCNAnA",
      "execution_count": null,
      "outputs": [
        {
          "output_type": "stream",
          "name": "stdout",
          "text": [
            "True\n"
          ]
        }
      ]
    }
  ],
  "metadata": {
    "kernelspec": {
      "display_name": "Python 3 (ipykernel)",
      "language": "python",
      "name": "python3"
    },
    "language_info": {
      "codemirror_mode": {
        "name": "ipython",
        "version": 3
      },
      "file_extension": ".py",
      "mimetype": "text/x-python",
      "name": "python",
      "nbconvert_exporter": "python",
      "pygments_lexer": "ipython3",
      "version": "3.9.7"
    },
    "colab": {
      "name": "Conditional statements.ipynb",
      "provenance": [],
      "collapsed_sections": [],
      "include_colab_link": true
    }
  },
  "nbformat": 4,
  "nbformat_minor": 5
}