{
  "cells": [
    {
      "cell_type": "markdown",
      "metadata": {
        "id": "view-in-github",
        "colab_type": "text"
      },
      "source": [
        "<a href=\"https://colab.research.google.com/github/subithou/Python/blob/main/Set.ipynb\" target=\"_parent\"><img src=\"https://colab.research.google.com/assets/colab-badge.svg\" alt=\"Open In Colab\"/></a>"
      ]
    },
    {
      "cell_type": "markdown",
      "source": [
        "[Home](https://github.com/subithou/Python) / Python Set\n",
        "#**SET**\n",
        "------\n",
        "1. unordered\n",
        "2. unchangeable*\n",
        "3. unindexed\n",
        "4. Duplicates Not Allowed\n",
        "\n",
        "* Set items are unchangeable, but you can remove items and add new items."
      ],
      "metadata": {
        "id": "p7cQsmEI8DZU"
      },
      "id": "p7cQsmEI8DZU"
    },
    {
      "cell_type": "markdown",
      "source": [
        "##**Creat a list**"
      ],
      "metadata": {
        "id": "Qpqm7FZI8keA"
      },
      "id": "Qpqm7FZI8keA"
    },
    {
      "cell_type": "code",
      "execution_count": null,
      "id": "8f978ab4",
      "metadata": {
        "colab": {
          "base_uri": "https://localhost:8080/"
        },
        "id": "8f978ab4",
        "outputId": "d77d0fb2-cb56-416c-ee49-60dadcd62413"
      },
      "outputs": [
        {
          "output_type": "stream",
          "name": "stdout",
          "text": [
            "{'banana', 'cherry', 'apple'}\n"
          ]
        }
      ],
      "source": [
        "myset = {\"apple\", \"banana\", \"cherry\"}\n",
        "print(myset)"
      ]
    },
    {
      "cell_type": "markdown",
      "source": [
        "##**The set() Constructor**\n",
        "It is also possible to use the set() constructor to make a set."
      ],
      "metadata": {
        "id": "kk93IV2l8d0Y"
      },
      "id": "kk93IV2l8d0Y"
    },
    {
      "cell_type": "code",
      "source": [
        "# Using the set() constructor to make a set:\n",
        "\n",
        "thisset = set((\"apple\", \"banana\", \"cherry\")) # note the double round-brackets\n",
        "print(thisset)"
      ],
      "metadata": {
        "colab": {
          "base_uri": "https://localhost:8080/"
        },
        "id": "mAtrG9EP8h4B",
        "outputId": "03172525-f57f-460f-9403-5d1e5fccf726"
      },
      "id": "mAtrG9EP8h4B",
      "execution_count": null,
      "outputs": [
        {
          "output_type": "stream",
          "name": "stdout",
          "text": [
            "{'apple', 'banana', 'cherry'}\n"
          ]
        }
      ]
    },
    {
      "cell_type": "markdown",
      "source": [
        "##**Get the Length of a Set**\n",
        "To determine how many items a set has, use the len() function."
      ],
      "metadata": {
        "id": "PLQqmcyu8Mh0"
      },
      "id": "PLQqmcyu8Mh0"
    },
    {
      "cell_type": "code",
      "source": [
        "# Get the number of items in a set:\n",
        "\n",
        "thisset = {\"apple\", \"banana\", \"cherry\"}\n",
        "\n",
        "print(len(thisset))"
      ],
      "metadata": {
        "colab": {
          "base_uri": "https://localhost:8080/"
        },
        "id": "H-v-QnII8XZT",
        "outputId": "a986cbcf-9661-4e2f-fbd7-8da4474bae88"
      },
      "id": "H-v-QnII8XZT",
      "execution_count": null,
      "outputs": [
        {
          "output_type": "stream",
          "name": "stdout",
          "text": [
            "3\n"
          ]
        }
      ]
    },
    {
      "cell_type": "markdown",
      "source": [
        "##**Access Set Items**"
      ],
      "metadata": {
        "id": "nqFKlUCz8s10"
      },
      "id": "nqFKlUCz8s10"
    },
    {
      "cell_type": "markdown",
      "source": [
        "###**Access Items**\n",
        "You cannot access items in a set by referring to an index or a key.\n",
        "\n",
        "But you can loop through the set items using a for loop, or ask if a specified value is present in a set, by using the in keyword."
      ],
      "metadata": {
        "id": "eW1IYqDW8uhV"
      },
      "id": "eW1IYqDW8uhV"
    },
    {
      "cell_type": "code",
      "source": [
        "# Loop through the set, and print the values:\n",
        "\n",
        "thisset = {\"apple\", \"banana\", \"cherry\"}\n",
        "\n",
        "for x in thisset:\n",
        "  print(x)"
      ],
      "metadata": {
        "colab": {
          "base_uri": "https://localhost:8080/"
        },
        "id": "7bvnWpbo8ych",
        "outputId": "6a6d507f-ab6f-499f-c408-b1a7d11d2871"
      },
      "id": "7bvnWpbo8ych",
      "execution_count": null,
      "outputs": [
        {
          "output_type": "stream",
          "name": "stdout",
          "text": [
            "apple\n",
            "banana\n",
            "cherry\n"
          ]
        }
      ]
    },
    {
      "cell_type": "code",
      "source": [
        "# Check if \"banana\" is present in the set:\n",
        "\n",
        "thisset = {\"apple\", \"banana\", \"cherry\"}\n",
        "\n",
        "print(\"banana\" in thisset)"
      ],
      "metadata": {
        "colab": {
          "base_uri": "https://localhost:8080/"
        },
        "id": "B4_Lzbdy80aX",
        "outputId": "416eac8e-abdf-4683-c80c-d35943f8bfda"
      },
      "id": "B4_Lzbdy80aX",
      "execution_count": null,
      "outputs": [
        {
          "output_type": "stream",
          "name": "stdout",
          "text": [
            "True\n"
          ]
        }
      ]
    },
    {
      "cell_type": "markdown",
      "source": [
        "##**Add Set Items**"
      ],
      "metadata": {
        "id": "E3PZXJeZ84pD"
      },
      "id": "E3PZXJeZ84pD"
    },
    {
      "cell_type": "markdown",
      "source": [
        "###**Add Items**\n",
        "Once a set is created, you cannot change its items, but you can add new items.\n",
        "\n",
        "To add one item to a set use the add() method."
      ],
      "metadata": {
        "id": "ISCqpi9S87G_"
      },
      "id": "ISCqpi9S87G_"
    },
    {
      "cell_type": "code",
      "source": [
        "# Add an item to a set, using the add() method:\n",
        "\n",
        "thisset = {\"apple\", \"banana\", \"cherry\"}\n",
        "\n",
        "thisset.add(\"orange\")\n",
        "\n",
        "print(thisset)"
      ],
      "metadata": {
        "colab": {
          "base_uri": "https://localhost:8080/"
        },
        "id": "4oXEZRVz9Bs_",
        "outputId": "5f294cef-1801-4529-a1a0-ea8a4546dd16"
      },
      "id": "4oXEZRVz9Bs_",
      "execution_count": null,
      "outputs": [
        {
          "output_type": "stream",
          "name": "stdout",
          "text": [
            "{'apple', 'banana', 'orange', 'cherry'}\n"
          ]
        }
      ]
    },
    {
      "cell_type": "markdown",
      "source": [
        "###**Add Sets**\n",
        "To add items from another set into the current set, use the update() method."
      ],
      "metadata": {
        "id": "Hfeg8o_R9Dzx"
      },
      "id": "Hfeg8o_R9Dzx"
    },
    {
      "cell_type": "code",
      "source": [
        "# Add elements from tropical into thisset\n",
        "\n",
        "thisset = {\"apple\", \"banana\", \"cherry\"}\n",
        "tropical = {\"pineapple\", \"mango\", \"papaya\"}\n",
        "\n",
        "thisset.update(tropical)\n",
        "\n",
        "print(thisset)\n"
      ],
      "metadata": {
        "colab": {
          "base_uri": "https://localhost:8080/"
        },
        "id": "fKJI0KJ29Gcm",
        "outputId": "817bee2d-d2c8-44d6-aca8-df4dc0b89123"
      },
      "id": "fKJI0KJ29Gcm",
      "execution_count": null,
      "outputs": [
        {
          "output_type": "stream",
          "name": "stdout",
          "text": [
            "{'apple', 'papaya', 'pineapple', 'mango', 'banana', 'cherry'}\n"
          ]
        }
      ]
    },
    {
      "cell_type": "markdown",
      "source": [
        "###**Add Any Iterable**\n",
        "The object in the update() method does not have to be a set, it can be any iterable object (tuples, lists, dictionaries etc.)."
      ],
      "metadata": {
        "id": "f07Zlupk9JWt"
      },
      "id": "f07Zlupk9JWt"
    },
    {
      "cell_type": "code",
      "source": [
        "# Add elements of a list to at set:\n",
        "\n",
        "thisset = {\"apple\", \"banana\", \"cherry\"}\n",
        "mylist = [\"kiwi\", \"orange\"]\n",
        "\n",
        "thisset.update(mylist)\n",
        "\n",
        "print(thisset)\n"
      ],
      "metadata": {
        "colab": {
          "base_uri": "https://localhost:8080/"
        },
        "id": "AEgIiZF19OIj",
        "outputId": "f2760471-8cd5-440e-aefd-f6f118e0a2ac"
      },
      "id": "AEgIiZF19OIj",
      "execution_count": null,
      "outputs": [
        {
          "output_type": "stream",
          "name": "stdout",
          "text": [
            "{'apple', 'banana', 'cherry', 'kiwi', 'orange'}\n"
          ]
        }
      ]
    },
    {
      "cell_type": "markdown",
      "source": [
        "##**Remove Set Items**"
      ],
      "metadata": {
        "id": "SfvqvGsJ9RCQ"
      },
      "id": "SfvqvGsJ9RCQ"
    },
    {
      "cell_type": "markdown",
      "source": [
        "###**Remove Item**\n",
        "To remove an item in a set, use the remove(), or the discard() method."
      ],
      "metadata": {
        "id": "cyLUtKEC9UYA"
      },
      "id": "cyLUtKEC9UYA"
    },
    {
      "cell_type": "code",
      "source": [
        "# Remove \"banana\" by using the remove() method:\n",
        "\n",
        "thisset = {\"apple\", \"banana\", \"cherry\"}\n",
        "\n",
        "thisset.remove(\"banana\")\n",
        "\n",
        "print(thisset)"
      ],
      "metadata": {
        "colab": {
          "base_uri": "https://localhost:8080/"
        },
        "id": "Ri6pA8ai9XOA",
        "outputId": "cab81488-5af8-4231-8867-3eebd754de33"
      },
      "id": "Ri6pA8ai9XOA",
      "execution_count": null,
      "outputs": [
        {
          "output_type": "stream",
          "name": "stdout",
          "text": [
            "{'apple', 'cherry'}\n"
          ]
        }
      ]
    },
    {
      "cell_type": "markdown",
      "source": [
        "**Note: If the item to remove does not exist, remove() will raise an error.**"
      ],
      "metadata": {
        "id": "gBqnQ9vF9Zo7"
      },
      "id": "gBqnQ9vF9Zo7"
    },
    {
      "cell_type": "code",
      "source": [
        "# Remove \"banana\" by using the discard() method:\n",
        "\n",
        "thisset = {\"apple\", \"banana\", \"cherry\"}\n",
        "\n",
        "thisset.discard(\"banana\")\n",
        "\n",
        "print(thisset)"
      ],
      "metadata": {
        "colab": {
          "base_uri": "https://localhost:8080/"
        },
        "id": "SWhCGpCn9cMB",
        "outputId": "a6af18b5-1e9d-44d9-b0f2-6ac54062e65b"
      },
      "id": "SWhCGpCn9cMB",
      "execution_count": null,
      "outputs": [
        {
          "output_type": "stream",
          "name": "stdout",
          "text": [
            "{'apple', 'cherry'}\n"
          ]
        }
      ]
    },
    {
      "cell_type": "markdown",
      "source": [
        "**Note: If the item to remove does not exist, discard() will NOT raise an error.**"
      ],
      "metadata": {
        "id": "svvP7Wrc9eWz"
      },
      "id": "svvP7Wrc9eWz"
    },
    {
      "cell_type": "markdown",
      "source": [
        "You can also use the pop() method to remove an item, but this method will remove the last item. Remember that sets are unordered, so you will not know what item that gets removed.\n",
        "\n",
        "The return value of the pop() method is the removed item.\n",
        "\n"
      ],
      "metadata": {
        "id": "NVZeKQ1g9hSK"
      },
      "id": "NVZeKQ1g9hSK"
    },
    {
      "cell_type": "code",
      "source": [
        "# Remove the last item by using the pop() method:\n",
        "\n",
        "thisset = {\"apple\", \"banana\", \"cherry\"}\n",
        "x = thisset.pop()\n",
        "print(x)\n",
        "\n",
        "print(thisset)"
      ],
      "metadata": {
        "colab": {
          "base_uri": "https://localhost:8080/"
        },
        "id": "St1ZAEdb9jpa",
        "outputId": "bdf74588-6d93-4c0c-9112-43f61d85a385"
      },
      "id": "St1ZAEdb9jpa",
      "execution_count": null,
      "outputs": [
        {
          "output_type": "stream",
          "name": "stdout",
          "text": [
            "apple\n",
            "{'banana', 'cherry'}\n"
          ]
        }
      ]
    },
    {
      "cell_type": "markdown",
      "source": [
        "**Note: Sets are unordered, so when using the pop() method, you do not know which item that gets removed.**"
      ],
      "metadata": {
        "id": "jj8xeIda9lyg"
      },
      "id": "jj8xeIda9lyg"
    },
    {
      "cell_type": "code",
      "source": [
        "# The clear() method empties the set:\n",
        "\n",
        "thisset = {\"apple\", \"banana\", \"cherry\"}\n",
        "thisset.clear()\n",
        "print(thisset)\n"
      ],
      "metadata": {
        "colab": {
          "base_uri": "https://localhost:8080/"
        },
        "id": "w26JYUo99omA",
        "outputId": "b8ead094-a16e-449a-8490-4d088219ade8"
      },
      "id": "w26JYUo99omA",
      "execution_count": null,
      "outputs": [
        {
          "output_type": "stream",
          "name": "stdout",
          "text": [
            "set()\n"
          ]
        }
      ]
    },
    {
      "cell_type": "code",
      "source": [
        "# The del keyword will delete the set completely:\n",
        "\n",
        "thisset = {\"apple\", \"banana\", \"cherry\"}\n",
        "del thisset\n",
        "print(thisset)"
      ],
      "metadata": {
        "colab": {
          "base_uri": "https://localhost:8080/",
          "height": 200
        },
        "id": "ntoomNw49q3f",
        "outputId": "7cbfc4c7-9f1a-46c2-9bfe-1e35fad43c8b"
      },
      "id": "ntoomNw49q3f",
      "execution_count": null,
      "outputs": [
        {
          "output_type": "error",
          "ename": "NameError",
          "evalue": "ignored",
          "traceback": [
            "\u001b[0;31m---------------------------------------------------------------------------\u001b[0m",
            "\u001b[0;31mNameError\u001b[0m                                 Traceback (most recent call last)",
            "\u001b[0;32m<ipython-input-8-a80624893d06>\u001b[0m in \u001b[0;36m<module>\u001b[0;34m()\u001b[0m\n\u001b[1;32m      3\u001b[0m \u001b[0mthisset\u001b[0m \u001b[0;34m=\u001b[0m \u001b[0;34m{\u001b[0m\u001b[0;34m\"apple\"\u001b[0m\u001b[0;34m,\u001b[0m \u001b[0;34m\"banana\"\u001b[0m\u001b[0;34m,\u001b[0m \u001b[0;34m\"cherry\"\u001b[0m\u001b[0;34m}\u001b[0m\u001b[0;34m\u001b[0m\u001b[0;34m\u001b[0m\u001b[0m\n\u001b[1;32m      4\u001b[0m \u001b[0;32mdel\u001b[0m \u001b[0mthisset\u001b[0m\u001b[0;34m\u001b[0m\u001b[0;34m\u001b[0m\u001b[0m\n\u001b[0;32m----> 5\u001b[0;31m \u001b[0mprint\u001b[0m\u001b[0;34m(\u001b[0m\u001b[0mthisset\u001b[0m\u001b[0;34m)\u001b[0m\u001b[0;34m\u001b[0m\u001b[0;34m\u001b[0m\u001b[0m\n\u001b[0m",
            "\u001b[0;31mNameError\u001b[0m: name 'thisset' is not defined"
          ]
        }
      ]
    },
    {
      "cell_type": "markdown",
      "source": [
        "##**Loop Sets**"
      ],
      "metadata": {
        "id": "nSU-l2Fl9xjV"
      },
      "id": "nSU-l2Fl9xjV"
    },
    {
      "cell_type": "markdown",
      "source": [
        "###**Loop Items**\n",
        "You can loop through the set items by using a for loop."
      ],
      "metadata": {
        "id": "n9_8lG_l90MY"
      },
      "id": "n9_8lG_l90MY"
    },
    {
      "cell_type": "code",
      "source": [
        "# Loop through the set, and print the values:\n",
        "\n",
        "thisset = {\"apple\", \"banana\", \"cherry\"}\n",
        "\n",
        "for x in thisset:\n",
        "  print(x)"
      ],
      "metadata": {
        "colab": {
          "base_uri": "https://localhost:8080/"
        },
        "id": "JoJbb0EZ93PT",
        "outputId": "8a3495b4-6f29-4e30-e1de-02ef8a21ad23"
      },
      "id": "JoJbb0EZ93PT",
      "execution_count": null,
      "outputs": [
        {
          "output_type": "stream",
          "name": "stdout",
          "text": [
            "apple\n",
            "banana\n",
            "cherry\n"
          ]
        }
      ]
    },
    {
      "cell_type": "markdown",
      "source": [
        "##**Join Sets**"
      ],
      "metadata": {
        "id": "YCHURVrx964G"
      },
      "id": "YCHURVrx964G"
    },
    {
      "cell_type": "markdown",
      "source": [
        "###**Join Two Sets**\n",
        "There are several ways to join two or more sets in Python.\n",
        "\n",
        "You can use the union() method that returns a new set containing all items from both sets, or the update() method that inserts all the items from one set into another."
      ],
      "metadata": {
        "id": "w5m0WCZy9-D-"
      },
      "id": "w5m0WCZy9-D-"
    },
    {
      "cell_type": "code",
      "source": [
        "# The union() method returns a new set with all items from both sets:\n",
        "\n",
        "set1 = {\"a\", \"b\" , \"c\"}\n",
        "set2 = {1, 2, 3}\n",
        "\n",
        "set3 = set1.union(set2)\n",
        "print(set3)"
      ],
      "metadata": {
        "colab": {
          "base_uri": "https://localhost:8080/"
        },
        "id": "zia9MlZy-A7Y",
        "outputId": "2283c44d-e396-48af-bdb2-b97d9fc8c9ff"
      },
      "id": "zia9MlZy-A7Y",
      "execution_count": null,
      "outputs": [
        {
          "output_type": "stream",
          "name": "stdout",
          "text": [
            "{1, 'c', 2, 'a', 3, 'b'}\n"
          ]
        }
      ]
    },
    {
      "cell_type": "code",
      "source": [
        "# The update() method inserts the items in set2 into set1:\n",
        "\n",
        "set1 = {\"a\", \"b\" , \"c\"}\n",
        "set2 = {1, 2, 3}\n",
        "\n",
        "set1.update(set2)\n",
        "print(set1)"
      ],
      "metadata": {
        "colab": {
          "base_uri": "https://localhost:8080/"
        },
        "id": "PU9wMMGB-Cjn",
        "outputId": "e6ebfc28-0f06-4d1c-fe63-c94effee3b52"
      },
      "id": "PU9wMMGB-Cjn",
      "execution_count": null,
      "outputs": [
        {
          "output_type": "stream",
          "name": "stdout",
          "text": [
            "{1, 'c', 2, 'a', 3, 'b'}\n"
          ]
        }
      ]
    },
    {
      "cell_type": "markdown",
      "source": [
        "**Note: Both union() and update() will exclude any duplicate items.**"
      ],
      "metadata": {
        "id": "tkP5V6Cc-ERt"
      },
      "id": "tkP5V6Cc-ERt"
    },
    {
      "cell_type": "markdown",
      "source": [
        "##**Set Methods**\n",
        "Python has a set of built-in methods that you can use on sets.\n",
        "\n",
        "![image.png](data:image/png;base64,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)"
      ],
      "metadata": {
        "id": "GOd-7xCu-Jhd"
      },
      "id": "GOd-7xCu-Jhd"
    }
  ],
  "metadata": {
    "kernelspec": {
      "display_name": "Python 3 (ipykernel)",
      "language": "python",
      "name": "python3"
    },
    "language_info": {
      "codemirror_mode": {
        "name": "ipython",
        "version": 3
      },
      "file_extension": ".py",
      "mimetype": "text/x-python",
      "name": "python",
      "nbconvert_exporter": "python",
      "pygments_lexer": "ipython3",
      "version": "3.9.7"
    },
    "colab": {
      "name": "Set.ipynb",
      "provenance": [],
      "collapsed_sections": [],
      "include_colab_link": true
    }
  },
  "nbformat": 4,
  "nbformat_minor": 5
}