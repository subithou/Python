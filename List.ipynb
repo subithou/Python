{
  "cells": [
    {
      "cell_type": "markdown",
      "metadata": {
        "id": "view-in-github",
        "colab_type": "text"
      },
      "source": [
        "<a href=\"https://colab.research.google.com/github/subithou/Python/blob/main/List.ipynb\" target=\"_parent\"><img src=\"https://colab.research.google.com/assets/colab-badge.svg\" alt=\"Open In Colab\"/></a>"
      ]
    },
    {
      "cell_type": "markdown",
      "source": [
        "#**Python Lists**\n",
        "###**List**\n",
        "Lists are used to store multiple items in a single variable.\n",
        " * Ordered\n",
        " * Changeable\n",
        " * Allow Duplicates\n",
        " * List items can be of any data type\n",
        "\n",
        "Lists are created using square brackets.\n"
      ],
      "metadata": {
        "id": "om-thfsOByCa"
      },
      "id": "om-thfsOByCa"
    },
    {
      "cell_type": "code",
      "source": [
        "mylist = [\"apple\", \"banana\", \"cherry\"]\n",
        "print(mylist)"
      ],
      "metadata": {
        "colab": {
          "base_uri": "https://localhost:8080/"
        },
        "id": "ed1ksKFQqlAF",
        "outputId": "efc1c838-9a45-465c-f368-16e8be8c26cd"
      },
      "id": "ed1ksKFQqlAF",
      "execution_count": null,
      "outputs": [
        {
          "output_type": "stream",
          "name": "stdout",
          "text": [
            "['apple', 'banana', 'cherry']\n"
          ]
        }
      ]
    },
    {
      "cell_type": "markdown",
      "source": [
        "####**The list() Constructor**\n",
        "It is also possible to use the list() constructor when creating a new list."
      ],
      "metadata": {
        "id": "6PkAO8OXq9-_"
      },
      "id": "6PkAO8OXq9-_"
    },
    {
      "cell_type": "code",
      "source": [
        "# Using the list() constructor to make a List:\n",
        "\n",
        "thislist = list((\"apple\", \"banana\", \"cherry\")) # note the double round-brackets\n",
        "print(thislist)"
      ],
      "metadata": {
        "colab": {
          "base_uri": "https://localhost:8080/"
        },
        "id": "7JvXQy7OrFEw",
        "outputId": "75e8ce4d-263e-40c2-927e-9215bb88586a"
      },
      "id": "7JvXQy7OrFEw",
      "execution_count": null,
      "outputs": [
        {
          "output_type": "stream",
          "name": "stdout",
          "text": [
            "['apple', 'banana', 'cherry']\n"
          ]
        }
      ]
    },
    {
      "cell_type": "markdown",
      "source": [
        "###**List Length**\n",
        "To determine how many items a list has, use the len() function."
      ],
      "metadata": {
        "id": "zLEJUOPrrVhY"
      },
      "id": "zLEJUOPrrVhY"
    },
    {
      "cell_type": "code",
      "source": [
        "# Print the number of items in the list:\n",
        "\n",
        "thislist = [\"apple\", \"banana\", \"cherry\"]\n",
        "print(len(thislist))"
      ],
      "metadata": {
        "colab": {
          "base_uri": "https://localhost:8080/"
        },
        "id": "Khz1pwk9ra63",
        "outputId": "e5e9e06c-2c8b-47f3-a84e-ef96c5f54a35"
      },
      "id": "Khz1pwk9ra63",
      "execution_count": null,
      "outputs": [
        {
          "output_type": "stream",
          "name": "stdout",
          "text": [
            "3\n"
          ]
        }
      ]
    },
    {
      "cell_type": "markdown",
      "source": [
        "###**Access Items**\n",
        "List items are indexed and you can access them by referring to the index number."
      ],
      "metadata": {
        "id": "e9lVhs05ro93"
      },
      "id": "e9lVhs05ro93"
    },
    {
      "cell_type": "code",
      "source": [
        "# Print the second item of the list:\n",
        "\n",
        "thislist = [\"apple\", \"banana\", \"cherry\"]\n",
        "print(thislist[1])"
      ],
      "metadata": {
        "colab": {
          "base_uri": "https://localhost:8080/"
        },
        "id": "h46hM3xSrsRU",
        "outputId": "35414725-6fed-4008-ac8a-8523f5af0493"
      },
      "id": "h46hM3xSrsRU",
      "execution_count": null,
      "outputs": [
        {
          "output_type": "stream",
          "name": "stdout",
          "text": [
            "banana\n"
          ]
        }
      ]
    },
    {
      "cell_type": "markdown",
      "source": [
        "####**Negative Indexing**\n",
        "Negative indexing means start from the end.\n",
        "\n",
        "-1 refers to the last item, -2 refers to the second last item etc."
      ],
      "metadata": {
        "id": "ebZsrCZqrvIO"
      },
      "id": "ebZsrCZqrvIO"
    },
    {
      "cell_type": "code",
      "source": [
        "# Print the last item of the list:\n",
        "\n",
        "thislist = [\"apple\", \"banana\", \"cherry\"]\n",
        "print(thislist[-1])"
      ],
      "metadata": {
        "colab": {
          "base_uri": "https://localhost:8080/"
        },
        "id": "dEIOd43yr1eT",
        "outputId": "a32b769c-2463-416f-ed3f-142a5ab6bd4f"
      },
      "id": "dEIOd43yr1eT",
      "execution_count": null,
      "outputs": [
        {
          "output_type": "stream",
          "name": "stdout",
          "text": [
            "cherry\n"
          ]
        }
      ]
    },
    {
      "cell_type": "markdown",
      "source": [
        "####**Range of Indexes**\n",
        "You can specify a range of indexes by specifying where to start and where to end the range.\n",
        "\n",
        "When specifying a range, the return value will be a new list with the specified items."
      ],
      "metadata": {
        "id": "8AL0VEHSr5b8"
      },
      "id": "8AL0VEHSr5b8"
    },
    {
      "cell_type": "code",
      "source": [
        "# Return the third, fourth, and fifth item:\n",
        "\n",
        "thislist = [\"apple\", \"banana\", \"cherry\", \"orange\", \"kiwi\", \"melon\", \"mango\"]\n",
        "print(thislist[2:5])"
      ],
      "metadata": {
        "colab": {
          "base_uri": "https://localhost:8080/"
        },
        "id": "7uhVyMx3r96d",
        "outputId": "5f4cf6e4-f806-4467-d738-ccecdc7b4b26"
      },
      "id": "7uhVyMx3r96d",
      "execution_count": null,
      "outputs": [
        {
          "output_type": "stream",
          "name": "stdout",
          "text": [
            "['cherry', 'orange', 'kiwi']\n"
          ]
        }
      ]
    },
    {
      "cell_type": "markdown",
      "source": [
        "**Note:** The search will start at index 2 (included) and end at index 5 (not included)."
      ],
      "metadata": {
        "id": "MaUvODk3sDQx"
      },
      "id": "MaUvODk3sDQx"
    },
    {
      "cell_type": "markdown",
      "source": [
        "**By leaving out the start value, the range will start at the first item**"
      ],
      "metadata": {
        "id": "oIpN_dcusOs6"
      },
      "id": "oIpN_dcusOs6"
    },
    {
      "cell_type": "code",
      "source": [
        "# This example returns the items from the beginning to, but NOT including, \"kiwi\":\n",
        "\n",
        "thislist = [\"apple\", \"banana\", \"cherry\", \"orange\", \"kiwi\", \"melon\", \"mango\"]\n",
        "print(thislist[:4])"
      ],
      "metadata": {
        "colab": {
          "base_uri": "https://localhost:8080/"
        },
        "id": "2Vc5ngLjsPqN",
        "outputId": "bef1270a-f38f-4e34-ec4a-94c58d22f203"
      },
      "id": "2Vc5ngLjsPqN",
      "execution_count": null,
      "outputs": [
        {
          "output_type": "stream",
          "name": "stdout",
          "text": [
            "['apple', 'banana', 'cherry', 'orange']\n"
          ]
        }
      ]
    },
    {
      "cell_type": "markdown",
      "source": [
        "**By leaving out the end value, the range will go on to the end of the list**"
      ],
      "metadata": {
        "id": "YMHGxY_HsTUM"
      },
      "id": "YMHGxY_HsTUM"
    },
    {
      "cell_type": "code",
      "source": [
        "# This example returns the items from \"cherry\" to the end:\n",
        "\n",
        "thislist = [\"apple\", \"banana\", \"cherry\", \"orange\", \"kiwi\", \"melon\", \"mango\"]\n",
        "print(thislist[2:])"
      ],
      "metadata": {
        "colab": {
          "base_uri": "https://localhost:8080/"
        },
        "id": "F89Xx1wCsYYx",
        "outputId": "ac36ea33-066e-453a-d73f-40bd70676c6a"
      },
      "id": "F89Xx1wCsYYx",
      "execution_count": null,
      "outputs": [
        {
          "output_type": "stream",
          "name": "stdout",
          "text": [
            "['cherry', 'orange', 'kiwi', 'melon', 'mango']\n"
          ]
        }
      ]
    },
    {
      "cell_type": "markdown",
      "source": [
        "####**Range of Negative Indexes**\n",
        "Specify negative indexes if you want to start the search from the end of the list."
      ],
      "metadata": {
        "id": "UA5hR0BVsfGH"
      },
      "id": "UA5hR0BVsfGH"
    },
    {
      "cell_type": "code",
      "source": [
        "# This example returns the items from \"orange\" (-4) to, but NOT including \"mango\" (-1):\n",
        "\n",
        "thislist = [\"apple\", \"banana\", \"cherry\", \"orange\", \"kiwi\", \"melon\", \"mango\"]\n",
        "print(thislist[-4:-1])"
      ],
      "metadata": {
        "colab": {
          "base_uri": "https://localhost:8080/"
        },
        "id": "lxGCCnNxspM4",
        "outputId": "40742973-0329-4f59-c376-8d53ce50cc82"
      },
      "id": "lxGCCnNxspM4",
      "execution_count": null,
      "outputs": [
        {
          "output_type": "stream",
          "name": "stdout",
          "text": [
            "['orange', 'kiwi', 'melon']\n"
          ]
        }
      ]
    },
    {
      "cell_type": "markdown",
      "source": [
        "####**Check if Item Exists**\n",
        "To determine if a specified item is present in a list use the in keyword."
      ],
      "metadata": {
        "id": "yiybJ1b6ssWU"
      },
      "id": "yiybJ1b6ssWU"
    },
    {
      "cell_type": "code",
      "source": [
        "# Check if \"apple\" is present in the list:\n",
        "\n",
        "thislist = [\"apple\", \"banana\", \"cherry\"]\n",
        "print(\"apple\" in thislist)\n",
        "if \"apple\" in thislist:\n",
        "  print(\"Yes, 'apple' is in the fruits list\")"
      ],
      "metadata": {
        "colab": {
          "base_uri": "https://localhost:8080/"
        },
        "id": "neBzIxsfsvWL",
        "outputId": "ae05c641-aaaf-43c0-9810-77fcf93df57d"
      },
      "id": "neBzIxsfsvWL",
      "execution_count": null,
      "outputs": [
        {
          "output_type": "stream",
          "name": "stdout",
          "text": [
            "True\n",
            "Yes, 'apple' is in the fruits list\n"
          ]
        }
      ]
    },
    {
      "cell_type": "markdown",
      "source": [
        "###**Change List Items**"
      ],
      "metadata": {
        "id": "WdoKUj0utB2N"
      },
      "id": "WdoKUj0utB2N"
    },
    {
      "cell_type": "markdown",
      "source": [
        "####**Change Item Value**\n",
        "To change the value of a specific item, refer to the index number."
      ],
      "metadata": {
        "id": "0wnogCuetGd2"
      },
      "id": "0wnogCuetGd2"
    },
    {
      "cell_type": "code",
      "source": [
        "# Change the second item:\n",
        "\n",
        "thislist = [\"apple\", \"banana\", \"cherry\"]\n",
        "thislist[1] = \"blackcurrant\"\n",
        "print(thislist)"
      ],
      "metadata": {
        "colab": {
          "base_uri": "https://localhost:8080/"
        },
        "id": "Ied3v4ubtMjL",
        "outputId": "6194d7ba-09cd-4583-ebd2-2a6894479623"
      },
      "id": "Ied3v4ubtMjL",
      "execution_count": null,
      "outputs": [
        {
          "output_type": "stream",
          "name": "stdout",
          "text": [
            "['apple', 'blackcurrant', 'cherry']\n"
          ]
        }
      ]
    },
    {
      "cell_type": "markdown",
      "source": [
        "####**Change a Range of Item Values**\n",
        "To change the value of items within a specific range, define a list with the new values, and refer to the range of index numbers where you want to insert the new values."
      ],
      "metadata": {
        "id": "HqhNrrEVtQDU"
      },
      "id": "HqhNrrEVtQDU"
    },
    {
      "cell_type": "markdown",
      "source": [
        "Change the values \"banana\" and \"cherry\" with the values \"blackcurrant\" and \"watermelon\""
      ],
      "metadata": {
        "id": "MHRybtZatVJm"
      },
      "id": "MHRybtZatVJm"
    },
    {
      "cell_type": "code",
      "source": [
        "thislist = [\"apple\", \"banana\", \"cherry\", \"orange\", \"kiwi\", \"mango\"]\n",
        "thislist[1:3] = [\"blackcurrant\", \"watermelon\"]\n",
        "print(thislist)"
      ],
      "metadata": {
        "colab": {
          "base_uri": "https://localhost:8080/"
        },
        "id": "d91YLF1_tUWv",
        "outputId": "dd4cf3fb-a167-4645-eab0-4162d0efec96"
      },
      "id": "d91YLF1_tUWv",
      "execution_count": null,
      "outputs": [
        {
          "output_type": "stream",
          "name": "stdout",
          "text": [
            "['apple', 'blackcurrant', 'watermelon', 'orange', 'kiwi', 'mango']\n"
          ]
        }
      ]
    },
    {
      "cell_type": "markdown",
      "source": [
        "If you insert more items than you replace, the new items will be inserted where you specified, and the remaining items will move accordingly."
      ],
      "metadata": {
        "id": "n9IVw-uDtcaN"
      },
      "id": "n9IVw-uDtcaN"
    },
    {
      "cell_type": "code",
      "source": [
        "# Change the second value by replacing it with two new values:\n",
        "\n",
        "thislist = [\"apple\", \"banana\", \"cherry\"]\n",
        "thislist[1:2] = [\"blackcurrant\", \"watermelon\"]\n",
        "print(thislist)"
      ],
      "metadata": {
        "colab": {
          "base_uri": "https://localhost:8080/"
        },
        "id": "q2CV7ktotgoO",
        "outputId": "615e7c90-3858-47b3-fd59-c596ff126579"
      },
      "id": "q2CV7ktotgoO",
      "execution_count": null,
      "outputs": [
        {
          "output_type": "stream",
          "name": "stdout",
          "text": [
            "['apple', 'blackcurrant', 'watermelon', 'cherry']\n"
          ]
        }
      ]
    },
    {
      "cell_type": "markdown",
      "source": [
        "**Note:** The length of the list will change when the number of items inserted does not match the number of items replaced."
      ],
      "metadata": {
        "id": "1nr7wonOtpOB"
      },
      "id": "1nr7wonOtpOB"
    },
    {
      "cell_type": "markdown",
      "source": [
        "If you insert less items than you replace, the new items will be inserted where you specified, and the remaining items will move accordingly."
      ],
      "metadata": {
        "id": "35k4hvz6tso7"
      },
      "id": "35k4hvz6tso7"
    },
    {
      "cell_type": "code",
      "source": [
        "# Change the second and third value by replacing it with one value:\n",
        "\n",
        "thislist = [\"apple\", \"banana\", \"cherry\"]\n",
        "thislist[1:3] = [\"watermelon\"]\n",
        "print(thislist)"
      ],
      "metadata": {
        "colab": {
          "base_uri": "https://localhost:8080/"
        },
        "id": "PiCraOUUtuqv",
        "outputId": "5071eda9-429a-4fa9-983e-6e48cb25da2f"
      },
      "id": "PiCraOUUtuqv",
      "execution_count": null,
      "outputs": [
        {
          "output_type": "stream",
          "name": "stdout",
          "text": [
            "['apple', 'watermelon']\n"
          ]
        }
      ]
    },
    {
      "cell_type": "markdown",
      "source": [
        "###**Add List Items**"
      ],
      "metadata": {
        "id": "bUibmax9uKjZ"
      },
      "id": "bUibmax9uKjZ"
    },
    {
      "cell_type": "markdown",
      "source": [
        "####**Append Items**\n",
        "To add an item to the end of the list, use the append() method."
      ],
      "metadata": {
        "id": "iF9rVcgiuNCW"
      },
      "id": "iF9rVcgiuNCW"
    },
    {
      "cell_type": "code",
      "source": [
        "# Using the append() method to append an item:\n",
        "\n",
        "thislist = [\"apple\", \"banana\", \"cherry\"]\n",
        "thislist.append(\"orange\")\n",
        "print(thislist)"
      ],
      "metadata": {
        "colab": {
          "base_uri": "https://localhost:8080/"
        },
        "id": "ivveTACRuTDh",
        "outputId": "b9e31951-7eba-4167-924c-5390a842c879"
      },
      "id": "ivveTACRuTDh",
      "execution_count": null,
      "outputs": [
        {
          "output_type": "stream",
          "name": "stdout",
          "text": [
            "['apple', 'banana', 'cherry', 'orange']\n"
          ]
        }
      ]
    },
    {
      "cell_type": "markdown",
      "source": [
        "####**Insert Items**\n",
        "To insert a new list item, without replacing any of the existing values, we can use the insert() method.\n",
        "\n",
        "The insert() method inserts an item at the specified index."
      ],
      "metadata": {
        "id": "dKcUgpoztylp"
      },
      "id": "dKcUgpoztylp"
    },
    {
      "cell_type": "code",
      "source": [
        "# Insert \"watermelon\" as the third item:\n",
        "\n",
        "thislist = [\"apple\", \"banana\", \"cherry\"]\n",
        "thislist.insert(2, \"watermelon\")\n",
        "print(thislist)"
      ],
      "metadata": {
        "colab": {
          "base_uri": "https://localhost:8080/"
        },
        "id": "d1XrsC8euuwk",
        "outputId": "7a01cdda-1d77-4e67-e53e-3c17004d145e"
      },
      "id": "d1XrsC8euuwk",
      "execution_count": null,
      "outputs": [
        {
          "output_type": "stream",
          "name": "stdout",
          "text": [
            "['apple', 'banana', 'watermelon', 'cherry']\n"
          ]
        }
      ]
    },
    {
      "cell_type": "markdown",
      "source": [
        "####**Extend List**\n",
        "To append elements from another list to the current list, use the extend() method.\n",
        "\n",
        "The elements will be added to the end of the list.\n",
        "\n"
      ],
      "metadata": {
        "id": "o1Xk0Bp5uxbV"
      },
      "id": "o1Xk0Bp5uxbV"
    },
    {
      "cell_type": "code",
      "source": [
        "# Add the elements of tropical to thislist:\n",
        "\n",
        "thislist = [\"apple\", \"banana\", \"cherry\"]\n",
        "tropical = [\"mango\", \"pineapple\", \"papaya\"]\n",
        "thislist.extend(tropical)\n",
        "print(thislist)"
      ],
      "metadata": {
        "colab": {
          "base_uri": "https://localhost:8080/"
        },
        "id": "oHqkykdZu248",
        "outputId": "e8adc90b-adae-4673-c8e3-1f50d3195b2a"
      },
      "id": "oHqkykdZu248",
      "execution_count": null,
      "outputs": [
        {
          "output_type": "stream",
          "name": "stdout",
          "text": [
            "['apple', 'banana', 'cherry', 'mango', 'pineapple', 'papaya']\n"
          ]
        }
      ]
    },
    {
      "cell_type": "markdown",
      "source": [
        "####**Add Any Iterable**\n",
        "The extend() method does not have to append lists, you can add any iterable object (tuples, sets, dictionaries etc.)."
      ],
      "metadata": {
        "id": "ekjGn4eeu8Z7"
      },
      "id": "ekjGn4eeu8Z7"
    },
    {
      "cell_type": "code",
      "source": [
        "# Add elements of a tuple to a list:\n",
        "\n",
        "thislist = [\"apple\", \"banana\", \"cherry\"]\n",
        "thistuple = (\"kiwi\", \"orange\")\n",
        "thislist.extend(thistuple)\n",
        "print(thislist)"
      ],
      "metadata": {
        "colab": {
          "base_uri": "https://localhost:8080/"
        },
        "id": "WgYIW3sXu_rZ",
        "outputId": "41ddfe1e-62da-4820-ca70-d0c847f74bb7"
      },
      "id": "WgYIW3sXu_rZ",
      "execution_count": null,
      "outputs": [
        {
          "output_type": "stream",
          "name": "stdout",
          "text": [
            "['apple', 'banana', 'cherry', 'kiwi', 'orange']\n"
          ]
        }
      ]
    },
    {
      "cell_type": "markdown",
      "source": [
        "###**Remove List Items**"
      ],
      "metadata": {
        "id": "LGu7W1iEvCzb"
      },
      "id": "LGu7W1iEvCzb"
    },
    {
      "cell_type": "markdown",
      "source": [
        "####**Remove Specified Item**\n",
        "The remove() method removes the specified item."
      ],
      "metadata": {
        "id": "8A8PqeHUvGCr"
      },
      "id": "8A8PqeHUvGCr"
    },
    {
      "cell_type": "code",
      "source": [
        "# Remove \"banana\":\n",
        "\n",
        "thislist = [\"apple\", \"banana\", \"cherry\"]\n",
        "thislist.remove(\"banana\")\n",
        "print(thislist)"
      ],
      "metadata": {
        "colab": {
          "base_uri": "https://localhost:8080/"
        },
        "id": "Fpe4GiYEvIzu",
        "outputId": "5c975c40-8b99-42a5-f346-c94cf0bc967a"
      },
      "id": "Fpe4GiYEvIzu",
      "execution_count": null,
      "outputs": [
        {
          "output_type": "stream",
          "name": "stdout",
          "text": [
            "['apple', 'cherry']\n"
          ]
        }
      ]
    },
    {
      "cell_type": "markdown",
      "source": [
        "####**Remove Specified Index**\n",
        "The pop() method removes the specified index."
      ],
      "metadata": {
        "id": "aM-HQpQZvL6q"
      },
      "id": "aM-HQpQZvL6q"
    },
    {
      "cell_type": "code",
      "source": [
        "# Remove the second item:\n",
        "\n",
        "thislist = [\"apple\", \"banana\", \"cherry\"]\n",
        "thislist.pop(1)\n",
        "print(thislist)"
      ],
      "metadata": {
        "colab": {
          "base_uri": "https://localhost:8080/"
        },
        "id": "gKCtzPdHvQZR",
        "outputId": "5464b709-c4b3-450f-a8c7-7e792b429c09"
      },
      "id": "gKCtzPdHvQZR",
      "execution_count": null,
      "outputs": [
        {
          "output_type": "stream",
          "name": "stdout",
          "text": [
            "['apple', 'cherry']\n"
          ]
        }
      ]
    },
    {
      "cell_type": "markdown",
      "source": [
        "**If you do not specify the index, the pop() method removes the last item.**"
      ],
      "metadata": {
        "id": "R3SBpnCivTXr"
      },
      "id": "R3SBpnCivTXr"
    },
    {
      "cell_type": "code",
      "source": [
        "# Remove the last item:\n",
        "\n",
        "thislist = [\"apple\", \"banana\", \"cherry\"]\n",
        "thislist.pop()\n",
        "print(thislist)"
      ],
      "metadata": {
        "colab": {
          "base_uri": "https://localhost:8080/"
        },
        "id": "EYHVZzumvWP_",
        "outputId": "34a22595-cd05-4894-d1e7-27d4eb38537c"
      },
      "id": "EYHVZzumvWP_",
      "execution_count": null,
      "outputs": [
        {
          "output_type": "stream",
          "name": "stdout",
          "text": [
            "['apple', 'banana']\n"
          ]
        }
      ]
    },
    {
      "cell_type": "markdown",
      "source": [
        "**The del keyword also removes the specified index.**"
      ],
      "metadata": {
        "id": "zurA7PhVvYkT"
      },
      "id": "zurA7PhVvYkT"
    },
    {
      "cell_type": "code",
      "source": [
        "# Remove the first item:\n",
        "\n",
        "thislist = [\"apple\", \"banana\", \"cherry\"]\n",
        "del thislist[0]\n",
        "print(thislist)"
      ],
      "metadata": {
        "colab": {
          "base_uri": "https://localhost:8080/"
        },
        "id": "1DgVoYbzva-k",
        "outputId": "7af5cdaa-f33e-44aa-f502-1af1a188042c"
      },
      "id": "1DgVoYbzva-k",
      "execution_count": null,
      "outputs": [
        {
          "output_type": "stream",
          "name": "stdout",
          "text": [
            "['banana', 'cherry']\n"
          ]
        }
      ]
    },
    {
      "cell_type": "markdown",
      "source": [
        "**The del keyword can also delete the list completely.**"
      ],
      "metadata": {
        "id": "bFNHe-NkvdJK"
      },
      "id": "bFNHe-NkvdJK"
    },
    {
      "cell_type": "code",
      "source": [
        "# Delete the entire list:\n",
        "\n",
        "thislist = [\"apple\", \"banana\", \"cherry\"]\n",
        "del thislist"
      ],
      "metadata": {
        "id": "RtUsafUNvfkC"
      },
      "id": "RtUsafUNvfkC",
      "execution_count": null,
      "outputs": []
    },
    {
      "cell_type": "markdown",
      "source": [
        "####**Clear the List**\n",
        "The clear() method empties the list.\n",
        "\n",
        "The list still remains, but it has no content."
      ],
      "metadata": {
        "id": "BLcyTdPuvmN9"
      },
      "id": "BLcyTdPuvmN9"
    },
    {
      "cell_type": "code",
      "source": [
        "# Clear the list content:\n",
        "\n",
        "thislist = [\"apple\", \"banana\", \"cherry\"]\n",
        "thislist.clear()\n",
        "print(thislist)"
      ],
      "metadata": {
        "colab": {
          "base_uri": "https://localhost:8080/"
        },
        "id": "feEissDlvpXR",
        "outputId": "1a312748-5d49-41b5-f675-74ac36d8dc3f"
      },
      "id": "feEissDlvpXR",
      "execution_count": null,
      "outputs": [
        {
          "output_type": "stream",
          "name": "stdout",
          "text": [
            "[]\n"
          ]
        }
      ]
    },
    {
      "cell_type": "markdown",
      "source": [
        "###**Loop Lists**"
      ],
      "metadata": {
        "id": "_f3fRxFwv6Hd"
      },
      "id": "_f3fRxFwv6Hd"
    },
    {
      "cell_type": "markdown",
      "source": [
        "####**Loop Through a List**\n",
        "You can loop through the list items by using a for loop"
      ],
      "metadata": {
        "id": "hz7m52Yfv95r"
      },
      "id": "hz7m52Yfv95r"
    },
    {
      "cell_type": "code",
      "source": [
        "# Print all items in the list, one by one:\n",
        "\n",
        "thislist = [\"apple\", \"banana\", \"cherry\"]\n",
        "for x in thislist:\n",
        "  print(x)"
      ],
      "metadata": {
        "colab": {
          "base_uri": "https://localhost:8080/"
        },
        "id": "5dlgUfqQwBWo",
        "outputId": "6350df69-1e41-486c-c3e9-b1bdfd0715dd"
      },
      "id": "5dlgUfqQwBWo",
      "execution_count": null,
      "outputs": [
        {
          "output_type": "stream",
          "name": "stdout",
          "text": [
            "apple\n",
            "banana\n",
            "cherry\n"
          ]
        }
      ]
    },
    {
      "cell_type": "markdown",
      "source": [
        "####**Loop Through the Index Numbers**\n",
        "You can also loop through the list items by referring to their index number.\n",
        "\n",
        "Use the range() and len() functions to create a suitable iterable."
      ],
      "metadata": {
        "id": "KOSQlfEFwD8N"
      },
      "id": "KOSQlfEFwD8N"
    },
    {
      "cell_type": "code",
      "source": [
        "# Print all items by referring to their index number:\n",
        "\n",
        "thislist = [\"apple\", \"banana\", \"cherry\"]\n",
        "for i in range(len(thislist)):\n",
        "  print(thislist[i])\n"
      ],
      "metadata": {
        "colab": {
          "base_uri": "https://localhost:8080/"
        },
        "id": "rs1soyBHwHTM",
        "outputId": "40d9d108-2573-4678-c352-2980d9b88cd4"
      },
      "id": "rs1soyBHwHTM",
      "execution_count": null,
      "outputs": [
        {
          "output_type": "stream",
          "name": "stdout",
          "text": [
            "apple\n",
            "banana\n",
            "cherry\n"
          ]
        }
      ]
    },
    {
      "cell_type": "markdown",
      "source": [
        "####**Using a While Loop**\n",
        "You can loop through the list items by using a while loop.\n",
        "\n",
        "Use the len() function to determine the length of the list, then start at 0 and loop your way through the list items by refering to their indexes.\n",
        "\n",
        "Remember to increase the index by 1 after each iteration."
      ],
      "metadata": {
        "id": "qDtckqcfwMHW"
      },
      "id": "qDtckqcfwMHW"
    },
    {
      "cell_type": "code",
      "source": [
        "# Print all items, using a while loop to go through all the index numbers\n",
        "\n",
        "thislist = [\"apple\", \"banana\", \"cherry\"]\n",
        "i = 0\n",
        "while i < len(thislist):\n",
        "  print(thislist[i])\n",
        "  i = i + 1"
      ],
      "metadata": {
        "colab": {
          "base_uri": "https://localhost:8080/"
        },
        "id": "0_VQO95MwPSt",
        "outputId": "5238175a-c2b1-4ab7-8033-0d6fb3b7fcb9"
      },
      "id": "0_VQO95MwPSt",
      "execution_count": null,
      "outputs": [
        {
          "output_type": "stream",
          "name": "stdout",
          "text": [
            "apple\n",
            "banana\n",
            "cherry\n"
          ]
        }
      ]
    },
    {
      "cell_type": "markdown",
      "source": [
        "####**Looping Using List Comprehension**\n",
        "List Comprehension offers the shortest syntax for looping through lists."
      ],
      "metadata": {
        "id": "krpnXwpXwSxo"
      },
      "id": "krpnXwpXwSxo"
    },
    {
      "cell_type": "code",
      "source": [
        "# A short hand for loop that will print all items in a list:\n",
        "\n",
        "thislist = [\"apple\", \"banana\", \"cherry\"]\n",
        "[print(x) for x in thislist]"
      ],
      "metadata": {
        "colab": {
          "base_uri": "https://localhost:8080/"
        },
        "id": "zsL1DtkhwW6w",
        "outputId": "7746ba08-44df-49b3-f570-6a0d835c96da"
      },
      "id": "zsL1DtkhwW6w",
      "execution_count": null,
      "outputs": [
        {
          "output_type": "stream",
          "name": "stdout",
          "text": [
            "apple\n",
            "banana\n",
            "cherry\n"
          ]
        },
        {
          "output_type": "execute_result",
          "data": {
            "text/plain": [
              "[None, None, None]"
            ]
          },
          "metadata": {},
          "execution_count": 38
        }
      ]
    },
    {
      "cell_type": "markdown",
      "source": [
        "###**Sort Lists**"
      ],
      "metadata": {
        "id": "VYMX8hsHwjnO"
      },
      "id": "VYMX8hsHwjnO"
    },
    {
      "cell_type": "markdown",
      "source": [
        "####**Sort List Alphanumerically**\n",
        "List objects have a sort() method that will sort the list alphanumerically, ascending, by default."
      ],
      "metadata": {
        "id": "6AT-J283wlaT"
      },
      "id": "6AT-J283wlaT"
    },
    {
      "cell_type": "markdown",
      "source": [
        "#####**Sort the list alphabetically**"
      ],
      "metadata": {
        "id": "yIqtfQz9xBQQ"
      },
      "id": "yIqtfQz9xBQQ"
    },
    {
      "cell_type": "code",
      "source": [
        "thislist = [\"orange\", \"mango\", \"kiwi\", \"pineapple\", \"banana\"]\n",
        "thislist.sort()\n",
        "print(thislist)"
      ],
      "metadata": {
        "colab": {
          "base_uri": "https://localhost:8080/"
        },
        "id": "4KSHkhU7wqEz",
        "outputId": "d354bc04-c8c4-4d35-a777-5b986c491176"
      },
      "id": "4KSHkhU7wqEz",
      "execution_count": null,
      "outputs": [
        {
          "output_type": "stream",
          "name": "stdout",
          "text": [
            "['banana', 'kiwi', 'mango', 'orange', 'pineapple']\n"
          ]
        }
      ]
    },
    {
      "cell_type": "markdown",
      "source": [
        "#####**Sort the list numerically**"
      ],
      "metadata": {
        "id": "FTUDovvlxFbr"
      },
      "id": "FTUDovvlxFbr"
    },
    {
      "cell_type": "code",
      "source": [
        "thislist = [100, 50, 65, 82, 23]\n",
        "thislist.sort()\n",
        "print(thislist)"
      ],
      "metadata": {
        "colab": {
          "base_uri": "https://localhost:8080/"
        },
        "id": "Qncq5lg-xLUf",
        "outputId": "83a42f1a-16e3-4502-e4c2-cb46a6e1cb00"
      },
      "id": "Qncq5lg-xLUf",
      "execution_count": null,
      "outputs": [
        {
          "output_type": "stream",
          "name": "stdout",
          "text": [
            "[23, 50, 65, 82, 100]\n"
          ]
        }
      ]
    },
    {
      "cell_type": "markdown",
      "source": [
        "####**Sort Descending**\n",
        "To sort descending, use the keyword argument reverse = True."
      ],
      "metadata": {
        "id": "dL0tnRZdxO3h"
      },
      "id": "dL0tnRZdxO3h"
    },
    {
      "cell_type": "markdown",
      "source": [
        "#####**Sort the list descending**"
      ],
      "metadata": {
        "id": "SRtHDjoVxUGo"
      },
      "id": "SRtHDjoVxUGo"
    },
    {
      "cell_type": "code",
      "source": [
        "thislist = [\"orange\", \"mango\", \"kiwi\", \"pineapple\", \"banana\"]\n",
        "thislist.sort(reverse = True)\n",
        "print(thislist)"
      ],
      "metadata": {
        "colab": {
          "base_uri": "https://localhost:8080/"
        },
        "id": "IFjBZybhxSFk",
        "outputId": "e9fcff5c-945f-40d3-ee34-0f39ac43291f"
      },
      "id": "IFjBZybhxSFk",
      "execution_count": null,
      "outputs": [
        {
          "output_type": "stream",
          "name": "stdout",
          "text": [
            "['pineapple', 'orange', 'mango', 'kiwi', 'banana']\n"
          ]
        }
      ]
    },
    {
      "cell_type": "markdown",
      "source": [
        "#####**Sort the list descending**"
      ],
      "metadata": {
        "id": "grAyrPYNxZa9"
      },
      "id": "grAyrPYNxZa9"
    },
    {
      "cell_type": "code",
      "source": [
        "thislist = [100, 50, 65, 82, 23]\n",
        "thislist.sort(reverse = True)\n",
        "print(thislist)"
      ],
      "metadata": {
        "colab": {
          "base_uri": "https://localhost:8080/"
        },
        "id": "eEGBqtEuxcGH",
        "outputId": "79346462-72eb-40a4-c150-171f6a9d6d61"
      },
      "id": "eEGBqtEuxcGH",
      "execution_count": null,
      "outputs": [
        {
          "output_type": "stream",
          "name": "stdout",
          "text": [
            "[100, 82, 65, 50, 23]\n"
          ]
        }
      ]
    },
    {
      "cell_type": "markdown",
      "source": [
        "####**Case Insensitive Sort**\n",
        "By default the sort() method is case sensitive, resulting in all capital letters being sorted before lower case letters."
      ],
      "metadata": {
        "id": "QFrkUHzkxhpX"
      },
      "id": "QFrkUHzkxhpX"
    },
    {
      "cell_type": "markdown",
      "source": [
        "#####**Case sensitive sorting can give an unexpected result.**"
      ],
      "metadata": {
        "id": "ycXuwQlZxpTo"
      },
      "id": "ycXuwQlZxpTo"
    },
    {
      "cell_type": "code",
      "source": [
        "thislist = [\"banana\", \"Orange\", \"Kiwi\", \"cherry\"]\n",
        "thislist.sort()\n",
        "print(thislist)"
      ],
      "metadata": {
        "colab": {
          "base_uri": "https://localhost:8080/"
        },
        "id": "6gXU-trixthQ",
        "outputId": "ab986b51-db77-41c8-87fb-12e47c9e6984"
      },
      "id": "6gXU-trixthQ",
      "execution_count": null,
      "outputs": [
        {
          "output_type": "stream",
          "name": "stdout",
          "text": [
            "['Kiwi', 'Orange', 'banana', 'cherry']\n"
          ]
        }
      ]
    },
    {
      "cell_type": "markdown",
      "source": [
        "#####**Perform a case-insensitive sort of the list.**"
      ],
      "metadata": {
        "id": "UYxj_FEgx35H"
      },
      "id": "UYxj_FEgx35H"
    },
    {
      "cell_type": "code",
      "source": [
        "thislist = [\"banana\", \"Orange\", \"Kiwi\", \"cherry\"]\n",
        "thislist.sort(key = str.lower)\n",
        "print(thislist)"
      ],
      "metadata": {
        "colab": {
          "base_uri": "https://localhost:8080/"
        },
        "id": "yRUaZGwDx8Qb",
        "outputId": "9a5bb4f2-4edd-4b4a-b9cf-818f3c76c249"
      },
      "id": "yRUaZGwDx8Qb",
      "execution_count": null,
      "outputs": [
        {
          "output_type": "stream",
          "name": "stdout",
          "text": [
            "['banana', 'cherry', 'Kiwi', 'Orange']\n"
          ]
        }
      ]
    },
    {
      "cell_type": "markdown",
      "source": [
        "####**Reverse Order**\n",
        "What if you want to reverse the order of a list, regardless of the alphabet?\n",
        "\n",
        "The reverse() method reverses the current sorting order of the elements."
      ],
      "metadata": {
        "id": "IeBZQHx-x-4v"
      },
      "id": "IeBZQHx-x-4v"
    },
    {
      "cell_type": "markdown",
      "source": [
        "#####**Reverse the order of the list items**"
      ],
      "metadata": {
        "id": "Q4ckIUvayCZY"
      },
      "id": "Q4ckIUvayCZY"
    },
    {
      "cell_type": "code",
      "source": [
        "thislist = [\"banana\", \"Orange\", \"Kiwi\", \"cherry\"]\n",
        "thislist.reverse()\n",
        "print(thislist)"
      ],
      "metadata": {
        "colab": {
          "base_uri": "https://localhost:8080/"
        },
        "id": "Bk8ZRzwvyFXj",
        "outputId": "7225fd1b-24bd-412e-c469-3511b54b6f2a"
      },
      "id": "Bk8ZRzwvyFXj",
      "execution_count": null,
      "outputs": [
        {
          "output_type": "stream",
          "name": "stdout",
          "text": [
            "['cherry', 'Kiwi', 'Orange', 'banana']\n"
          ]
        }
      ]
    },
    {
      "cell_type": "markdown",
      "source": [
        "###**Copy Lists**"
      ],
      "metadata": {
        "id": "h8RNmUcjyMH2"
      },
      "id": "h8RNmUcjyMH2"
    },
    {
      "cell_type": "markdown",
      "source": [
        "####**Copy a List**\n",
        "You cannot copy a list simply by typing list2 = list1, because: list2 will only be a reference to list1, and changes made in list1 will automatically also be made in list2.\n",
        "\n",
        "There are ways to make a copy, one way is to use the built-in List method copy()."
      ],
      "metadata": {
        "id": "fxqkGeIByQdA"
      },
      "id": "fxqkGeIByQdA"
    },
    {
      "cell_type": "markdown",
      "source": [
        "#####**Make a copy of a list with the copy() method**"
      ],
      "metadata": {
        "id": "ZzEt71tzyUmm"
      },
      "id": "ZzEt71tzyUmm"
    },
    {
      "cell_type": "code",
      "source": [
        "thislist = [\"apple\", \"banana\", \"cherry\"]\n",
        "mylist = thislist.copy()\n",
        "print(mylist)"
      ],
      "metadata": {
        "colab": {
          "base_uri": "https://localhost:8080/"
        },
        "id": "uwbDA_gIyXlZ",
        "outputId": "a41ded25-ef21-40b8-aac3-df621c703c35"
      },
      "id": "uwbDA_gIyXlZ",
      "execution_count": null,
      "outputs": [
        {
          "output_type": "stream",
          "name": "stdout",
          "text": [
            "['apple', 'banana', 'cherry']\n"
          ]
        }
      ]
    },
    {
      "cell_type": "markdown",
      "source": [
        "**Another way to make a copy is to use the built-in method list()**"
      ],
      "metadata": {
        "id": "f_3VNEaOycMR"
      },
      "id": "f_3VNEaOycMR"
    },
    {
      "cell_type": "markdown",
      "source": [
        "#####**Make a copy of a list with the list() method**"
      ],
      "metadata": {
        "id": "eJsmC8ucykmM"
      },
      "id": "eJsmC8ucykmM"
    },
    {
      "cell_type": "code",
      "source": [
        "thislist = [\"apple\", \"banana\", \"cherry\"]\n",
        "mylist = list(thislist)\n",
        "print(mylist)"
      ],
      "metadata": {
        "colab": {
          "base_uri": "https://localhost:8080/"
        },
        "id": "KukK-q4ryrxk",
        "outputId": "ed097eb0-5807-44db-ef46-599eeffdce9e"
      },
      "id": "KukK-q4ryrxk",
      "execution_count": null,
      "outputs": [
        {
          "output_type": "stream",
          "name": "stdout",
          "text": [
            "['apple', 'banana', 'cherry']\n"
          ]
        }
      ]
    },
    {
      "cell_type": "markdown",
      "source": [
        "###**Join Lists**"
      ],
      "metadata": {
        "id": "Y9RnrIBWyyOq"
      },
      "id": "Y9RnrIBWyyOq"
    },
    {
      "cell_type": "markdown",
      "source": [
        "####**Join Two Lists**\n",
        "There are several ways to join, or concatenate, two or more lists in Python.\n",
        "\n",
        "One of the easiest ways are by using the + operator."
      ],
      "metadata": {
        "id": "g6oPx4FQy01J"
      },
      "id": "g6oPx4FQy01J"
    },
    {
      "cell_type": "markdown",
      "source": [
        "#####**Join two list**"
      ],
      "metadata": {
        "id": "dSp0IFJEy4WV"
      },
      "id": "dSp0IFJEy4WV"
    },
    {
      "cell_type": "code",
      "source": [
        "list1 = [\"a\", \"b\", \"c\"]\n",
        "list2 = [1, 2, 3]\n",
        "\n",
        "list3 = list1 + list2\n",
        "print(list3)"
      ],
      "metadata": {
        "colab": {
          "base_uri": "https://localhost:8080/"
        },
        "id": "YAKVbVriy7HS",
        "outputId": "be6b53b8-5472-4bdf-f74c-56dc65ef6f93"
      },
      "id": "YAKVbVriy7HS",
      "execution_count": null,
      "outputs": [
        {
          "output_type": "stream",
          "name": "stdout",
          "text": [
            "['a', 'b', 'c', 1, 2, 3]\n"
          ]
        }
      ]
    },
    {
      "cell_type": "markdown",
      "source": [
        "**Another way to join two lists is by appending all the items from list2 into list1, one by one.**"
      ],
      "metadata": {
        "id": "pTMNfv2Oy9Wv"
      },
      "id": "pTMNfv2Oy9Wv"
    },
    {
      "cell_type": "markdown",
      "source": [
        "#####**Append list2 into list1**"
      ],
      "metadata": {
        "id": "fr4sIyBTzBEo"
      },
      "id": "fr4sIyBTzBEo"
    },
    {
      "cell_type": "code",
      "source": [
        "list1 = [\"a\", \"b\" , \"c\"]\n",
        "list2 = [1, 2, 3]\n",
        "\n",
        "for x in list2:\n",
        "  list1.append(x)\n",
        "\n",
        "print(list1)"
      ],
      "metadata": {
        "colab": {
          "base_uri": "https://localhost:8080/"
        },
        "id": "MWqMuKWEzDi_",
        "outputId": "2aa23c3e-96c6-49c4-a1b7-43d75004e36c"
      },
      "id": "MWqMuKWEzDi_",
      "execution_count": null,
      "outputs": [
        {
          "output_type": "stream",
          "name": "stdout",
          "text": [
            "['a', 'b', 'c', 1, 2, 3]\n"
          ]
        }
      ]
    },
    {
      "cell_type": "markdown",
      "source": [
        "**Or you can use the extend() method, which purpose is to add elements from one list to another list.**"
      ],
      "metadata": {
        "id": "_5-OpVW1zFR8"
      },
      "id": "_5-OpVW1zFR8"
    },
    {
      "cell_type": "markdown",
      "source": [
        "#####**Use the extend() method to add list2 at the end of list1**"
      ],
      "metadata": {
        "id": "6mtPiUfezIUF"
      },
      "id": "6mtPiUfezIUF"
    },
    {
      "cell_type": "code",
      "source": [
        "list1 = [\"a\", \"b\" , \"c\"]\n",
        "list2 = [1, 2, 3]\n",
        "list3 = list1\n",
        "\n",
        "list1.extend(list2)\n",
        "print(list1)"
      ],
      "metadata": {
        "colab": {
          "base_uri": "https://localhost:8080/"
        },
        "id": "Y5aqvdUfzLPH",
        "outputId": "f02b5392-0229-45e5-d823-ac0bb564ce72"
      },
      "id": "Y5aqvdUfzLPH",
      "execution_count": null,
      "outputs": [
        {
          "output_type": "stream",
          "name": "stdout",
          "text": [
            "['a', 'b', 'c', 1, 2, 3]\n"
          ]
        }
      ]
    },
    {
      "cell_type": "markdown",
      "source": [
        "###**List Metods**\n",
        "Python has a set of built-in methods that you can use on lists.\n",
        "\n",
        "![Annotation 2022-03-24 221206.png](data:image/png;base64,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)"
      ],
      "metadata": {
        "id": "aHS3UbJXzw1H"
      },
      "id": "aHS3UbJXzw1H"
    }
  ],
  "metadata": {
    "celltoolbar": "Raw Cell Format",
    "kernelspec": {
      "display_name": "Python 3 (ipykernel)",
      "language": "python",
      "name": "python3"
    },
    "language_info": {
      "codemirror_mode": {
        "name": "ipython",
        "version": 3
      },
      "file_extension": ".py",
      "mimetype": "text/x-python",
      "name": "python",
      "nbconvert_exporter": "python",
      "pygments_lexer": "ipython3",
      "version": "3.9.7"
    },
    "colab": {
      "name": "List.ipynb",
      "provenance": [],
      "include_colab_link": true
    }
  },
  "nbformat": 4,
  "nbformat_minor": 5
}