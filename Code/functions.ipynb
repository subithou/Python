{
  "cells": [
    {
      "cell_type": "markdown",
      "source": [
        "#**Python Functions**\n",
        "-----------------\n",
        "1. A function is a block of code which only runs when it is called.\n",
        "2. You can pass data, known as parameters, into a function.\n",
        "3. A function can return data as a result."
      ],
      "metadata": {
        "id": "d2peC3KXsfr4"
      },
      "id": "d2peC3KXsfr4"
    },
    {
      "cell_type": "markdown",
      "source": [
        "###**Creating a Function**\n",
        "In Python a function is defined using the def keyword."
      ],
      "metadata": {
        "id": "IW3y7wv7sudd"
      },
      "id": "IW3y7wv7sudd"
    },
    {
      "cell_type": "code",
      "execution_count": null,
      "id": "005d4309",
      "metadata": {
        "id": "005d4309"
      },
      "outputs": [],
      "source": [
        "def my_function():\n",
        "  print(\"Hello from a function\")"
      ]
    },
    {
      "cell_type": "markdown",
      "source": [
        "###**Calling a Function**\n",
        "To call a function, use the function name followed by parenthesis\n"
      ],
      "metadata": {
        "id": "4qoICTtis7z-"
      },
      "id": "4qoICTtis7z-"
    },
    {
      "cell_type": "code",
      "execution_count": null,
      "id": "fdd7c2e5",
      "metadata": {
        "id": "fdd7c2e5",
        "outputId": "ccedc5fc-150f-4f0e-e577-358fa982d536"
      },
      "outputs": [
        {
          "name": "stdout",
          "output_type": "stream",
          "text": [
            "Hello from a function\n"
          ]
        }
      ],
      "source": [
        "def my_function():\n",
        "  print(\"Hello from a function\")\n",
        "\n",
        "my_function()\n"
      ]
    },
    {
      "cell_type": "markdown",
      "source": [
        "###**Arguments**\n",
        "\n",
        "Information can be passed into functions as arguments.\n",
        "\n",
        "Arguments are specified after the function name, inside the parentheses. \n",
        "\n",
        "You can add as many arguments as you want, just separate them with a comma.\n",
        "The following example has a function with one argument (fname). \n",
        "\n",
        "When the function is called, \n",
        "we pass along a first name, which is used inside the function to print the full name.\n",
        "\n",
        "**Arguments are often shortened to args in Python documentations**"
      ],
      "metadata": {
        "id": "_bLyiqu6tDbo"
      },
      "id": "_bLyiqu6tDbo"
    },
    {
      "cell_type": "code",
      "execution_count": null,
      "id": "8269572b",
      "metadata": {
        "id": "8269572b",
        "outputId": "3a79454f-f82c-4f13-ecf5-5c684d1e168a",
        "colab": {
          "base_uri": "https://localhost:8080/"
        }
      },
      "outputs": [
        {
          "output_type": "stream",
          "name": "stdout",
          "text": [
            "Emil Refsnes\n",
            "Tobias Refsnes\n",
            "Linus Refsnes\n"
          ]
        }
      ],
      "source": [
        "def my_function(fname):\n",
        "  print(fname + \" Refsnes\")\n",
        "\n",
        "my_function(\"Emil\")\n",
        "my_function(\"Tobias\")\n",
        "my_function(\"Linus\")\n"
      ]
    },
    {
      "cell_type": "markdown",
      "source": [
        "###**Parameters or Arguments**\n",
        "\n",
        "The terms parameter and argument can be used for the same thing: information that are passed into a function.\n",
        "\n",
        "**From a function's perspective:**\n",
        "\n",
        "A parameter is the variable listed inside the parentheses in the function definition.\n",
        "An argument is the value that is sent to the function when it is called.\n"
      ],
      "metadata": {
        "id": "AQacuY21tl_k"
      },
      "id": "AQacuY21tl_k"
    },
    {
      "cell_type": "markdown",
      "source": [
        "###**Number of Arguments**\n",
        "\n",
        "By default, a function must be called with the correct number of arguments. \n",
        "Meaning that if your function expects 2 arguments, \n",
        "you have to call the function with 2 arguments, not more, and not less."
      ],
      "metadata": {
        "id": "6QBrNBsnt2Ow"
      },
      "id": "6QBrNBsnt2Ow"
    },
    {
      "cell_type": "code",
      "execution_count": null,
      "id": "370430b6",
      "metadata": {
        "id": "370430b6",
        "outputId": "11612f5c-cf71-4b85-bfe7-5b6362f992c8"
      },
      "outputs": [
        {
          "name": "stdout",
          "output_type": "stream",
          "text": [
            "Emil Refsnes\n"
          ]
        }
      ],
      "source": [
        "# This function expects 2 arguments, and gets 2 arguments:\n",
        "\n",
        "def my_function(fname, lname):\n",
        "  print(fname + \" \" + lname)\n",
        "\n",
        "my_function(\"Emil\", \"Refsnes\")"
      ]
    },
    {
      "cell_type": "markdown",
      "source": [
        "If you try to call the function with 1 or 3 arguments, you will get an error\n",
        "\n",
        "\n",
        "This function expects 2 arguments, but gets only 1."
      ],
      "metadata": {
        "id": "Of7twjnY6m1q"
      },
      "id": "Of7twjnY6m1q"
    },
    {
      "cell_type": "code",
      "execution_count": null,
      "id": "56f784ac",
      "metadata": {
        "id": "56f784ac",
        "outputId": "5980d6aa-0279-4d63-9b76-a8acec27937a"
      },
      "outputs": [
        {
          "ename": "TypeError",
          "evalue": "my_function() missing 1 required positional argument: 'lname'",
          "output_type": "error",
          "traceback": [
            "\u001b[1;31m---------------------------------------------------------------------------\u001b[0m",
            "\u001b[1;31mTypeError\u001b[0m                                 Traceback (most recent call last)",
            "\u001b[1;32m~\\AppData\\Local\\Temp/ipykernel_24876/1288337344.py\u001b[0m in \u001b[0;36m<module>\u001b[1;34m\u001b[0m\n\u001b[0;32m      7\u001b[0m   \u001b[0mprint\u001b[0m\u001b[1;33m(\u001b[0m\u001b[0mfname\u001b[0m \u001b[1;33m+\u001b[0m \u001b[1;34m\" \"\u001b[0m \u001b[1;33m+\u001b[0m \u001b[0mlname\u001b[0m\u001b[1;33m)\u001b[0m\u001b[1;33m\u001b[0m\u001b[1;33m\u001b[0m\u001b[0m\n\u001b[0;32m      8\u001b[0m \u001b[1;33m\u001b[0m\u001b[0m\n\u001b[1;32m----> 9\u001b[1;33m \u001b[0mmy_function\u001b[0m\u001b[1;33m(\u001b[0m\u001b[1;34m\"Emil\"\u001b[0m\u001b[1;33m)\u001b[0m\u001b[1;33m\u001b[0m\u001b[1;33m\u001b[0m\u001b[0m\n\u001b[0m",
            "\u001b[1;31mTypeError\u001b[0m: my_function() missing 1 required positional argument: 'lname'"
          ]
        }
      ],
      "source": [
        "\n",
        "\n",
        "def my_function(fname, lname):\n",
        "  print(fname + \" \" + lname)\n",
        "\n",
        "my_function(\"Emil\")\n"
      ]
    },
    {
      "cell_type": "markdown",
      "source": [
        "###**Arbitrary Arguments, *args**\n",
        "\n",
        "If you do not know how many arguments that will be passed into your function,\n",
        "add a * before the parameter name in the function definition.\n",
        "\n",
        "This way the function will receive a tuple of arguments, and can access the items accordingly.\n",
        "\n",
        "Arbitrary Arguments are often shortened to *args in Python documentations.\n",
        "\n",
        "If the number of arguments is unknown, add a * before the parameter name.\n"
      ],
      "metadata": {
        "id": "MDMYucRw628x"
      },
      "id": "MDMYucRw628x"
    },
    {
      "cell_type": "code",
      "execution_count": null,
      "id": "e4eda3d6",
      "metadata": {
        "id": "e4eda3d6",
        "outputId": "cce5a514-b67f-4829-b745-256d25f79d70"
      },
      "outputs": [
        {
          "name": "stdout",
          "output_type": "stream",
          "text": [
            "The youngest child is Linus\n"
          ]
        }
      ],
      "source": [
        "\n",
        "\n",
        "def my_function(*kids):\n",
        "  print(\"The youngest child is \" + kids[2])\n",
        "\n",
        "my_function(\"Emil\", \"Tobias\", \"Linus\")"
      ]
    },
    {
      "cell_type": "markdown",
      "source": [
        "###**Keyword Arguments**\n",
        "\n",
        "You can also send arguments with the key = value syntax.\n",
        "This way the order of the arguments does not matter."
      ],
      "metadata": {
        "id": "XKQRos7c7NFx"
      },
      "id": "XKQRos7c7NFx"
    },
    {
      "cell_type": "code",
      "execution_count": null,
      "id": "48a2751a",
      "metadata": {
        "id": "48a2751a",
        "outputId": "dd908e2b-85ae-49f1-eee2-72667593151d"
      },
      "outputs": [
        {
          "name": "stdout",
          "output_type": "stream",
          "text": [
            "The youngest child is Linus\n"
          ]
        }
      ],
      "source": [
        "def my_function(child3, child2, child1):\n",
        "  print(\"The youngest child is \" + child3)\n",
        "\n",
        "my_function(child1 = \"Emil\", child2 = \"Tobias\", child3 = \"Linus\")"
      ]
    },
    {
      "cell_type": "markdown",
      "source": [
        "###**Arbitrary Keyword Arguments, **kwargs**\n",
        "\n",
        "If you do not know how many keyword arguments that will be passed into your function, add two asterisk: ** before the parameter name in the function definition.\n",
        "\n",
        "This way the function will receive a dictionary of arguments, and can access the items accordingly.\n",
        "\n",
        "\n",
        "If the number of keyword arguments is unknown, add a double ** before the parameter name.\n"
      ],
      "metadata": {
        "id": "Ym1WB5kk7atp"
      },
      "id": "Ym1WB5kk7atp"
    },
    {
      "cell_type": "code",
      "execution_count": null,
      "id": "66e56a16",
      "metadata": {
        "id": "66e56a16",
        "outputId": "aa30a871-de10-408f-cb43-b543b6f8e3fb"
      },
      "outputs": [
        {
          "name": "stdout",
          "output_type": "stream",
          "text": [
            "His last name is Refsnes\n"
          ]
        }
      ],
      "source": [
        "def my_function(**kid):\n",
        "  print(\"His last name is \" + kid[\"lname\"])\n",
        "\n",
        "my_function(fname = \"Tobias\", lname = \"Refsnes\")"
      ]
    },
    {
      "cell_type": "markdown",
      "source": [
        "###**Default Parameter Value**\n",
        "\n",
        "The following example shows how to use a default parameter value.\n",
        "If we call the function without argument, it uses the default value,"
      ],
      "metadata": {
        "id": "gibCcyN57p-p"
      },
      "id": "gibCcyN57p-p"
    },
    {
      "cell_type": "code",
      "execution_count": null,
      "id": "c2cd80bc",
      "metadata": {
        "id": "c2cd80bc",
        "outputId": "2ba5bda9-b83a-4c1b-94af-333e10c90806"
      },
      "outputs": [
        {
          "name": "stdout",
          "output_type": "stream",
          "text": [
            "I am from Sweden\n",
            "I am from India\n",
            "I am from Norway\n",
            "I am from Brazil\n"
          ]
        }
      ],
      "source": [
        "def my_function(country = \"Norway\"):\n",
        "  print(\"I am from \" + country)\n",
        "\n",
        "my_function(\"Sweden\")\n",
        "my_function(\"India\")\n",
        "my_function()\n",
        "my_function(\"Brazil\")"
      ]
    },
    {
      "cell_type": "markdown",
      "source": [
        "###**Passing a List as an Argument**\n",
        "\n",
        "You can send any data types of argument to a function (string, number, list, dictionary etc.), and it will be treated as the same data type inside the function.\n",
        "E.g. if you send a List as an argument, it will still be a List when it reaches the function."
      ],
      "metadata": {
        "id": "4M1UJNNZ76_j"
      },
      "id": "4M1UJNNZ76_j"
    },
    {
      "cell_type": "code",
      "execution_count": null,
      "id": "408d1fc6",
      "metadata": {
        "id": "408d1fc6",
        "outputId": "27b79c0c-b84d-4923-eeb1-ffbcc5156427"
      },
      "outputs": [
        {
          "name": "stdout",
          "output_type": "stream",
          "text": [
            "apple\n",
            "banana\n",
            "cherry\n"
          ]
        }
      ],
      "source": [
        "def my_function(food):\n",
        "  for x in food:\n",
        "    print(x)\n",
        "\n",
        "fruits = [\"apple\", \"banana\", \"cherry\"]\n",
        "\n",
        "my_function(fruits)"
      ]
    },
    {
      "cell_type": "markdown",
      "source": [
        "###**Return Values**\n",
        "\n",
        "To let a function return a value, use the return statement."
      ],
      "metadata": {
        "id": "3iAcSYdT8D55"
      },
      "id": "3iAcSYdT8D55"
    },
    {
      "cell_type": "code",
      "execution_count": null,
      "id": "1f8d7e84",
      "metadata": {
        "id": "1f8d7e84",
        "outputId": "480e975e-8286-4c96-b164-9a0dbfbbbf82"
      },
      "outputs": [
        {
          "name": "stdout",
          "output_type": "stream",
          "text": [
            "15\n",
            "25\n",
            "45\n"
          ]
        }
      ],
      "source": [
        "def my_function(x):\n",
        "  return 5 * x\n",
        "\n",
        "print(my_function(3))\n",
        "print(my_function(5))\n",
        "print(my_function(9))\n"
      ]
    },
    {
      "cell_type": "markdown",
      "source": [
        "###**The pass Statement**\n",
        "\n",
        "function definitions cannot be empty, but if you for some reason have a function definition with no content, \n",
        "put in the pass statement to avoid getting an error"
      ],
      "metadata": {
        "id": "VxiUUibo8J2Z"
      },
      "id": "VxiUUibo8J2Z"
    },
    {
      "cell_type": "code",
      "execution_count": null,
      "id": "c67345dd",
      "metadata": {
        "id": "c67345dd"
      },
      "outputs": [],
      "source": [
        "def myfunction():\n",
        "  pass"
      ]
    },
    {
      "cell_type": "markdown",
      "source": [
        "###**Recursion**\n",
        "\n",
        "1. Python also accepts function recursion, which means a defined function can call itself.\n",
        "2. Recursion is a common mathematical and programming concept. It means that a function calls itself. \n",
        "   This has the benefit of meaning that you can loop through data to reach a result.\n",
        "3. The developer should be very careful with recursion as it can be quite easy to slip into writing a function which never terminates,\n",
        "   or one that uses excess amounts of memory or processor power. However, when written correctly recursion can be a very efficient and mathematically-elegant approach to programming.\n",
        "4. In this example, tri_recursion() is a function that we have defined to call itself (\"recurse\"). \n",
        "   We use the k variable as the data, which decrements (-1) every time we recurse. The recursion ends when the condition is not greater than 0 (i.e. when it is 0).\n",
        "5. To a new developer it can take some time to work out how exactly this works, \n",
        "   best way to find out is by testing and modifying it."
      ],
      "metadata": {
        "id": "XjbfVHJfuD08"
      },
      "id": "XjbfVHJfuD08"
    },
    {
      "cell_type": "code",
      "execution_count": null,
      "id": "494dae68",
      "metadata": {
        "id": "494dae68",
        "outputId": "b86d4a1d-458b-4814-b0d3-2d0f13c4ab6f"
      },
      "outputs": [
        {
          "name": "stdout",
          "output_type": "stream",
          "text": [
            "\n",
            "\n",
            "Recursion Example Results\n",
            "1\n",
            "3\n",
            "6\n",
            "10\n",
            "15\n",
            "21\n"
          ]
        },
        {
          "data": {
            "text/plain": [
              "21"
            ]
          },
          "execution_count": 16,
          "metadata": {},
          "output_type": "execute_result"
        }
      ],
      "source": [
        "# Recursion Example\n",
        "\n",
        "def tri_recursion(k):\n",
        "  if(k > 0):\n",
        "    result = k + tri_recursion(k - 1)\n",
        "    print(result)\n",
        "  else:\n",
        "    result = 0\n",
        "  return result\n",
        "\n",
        "print(\"\\n\\nRecursion Example Results\")\n",
        "tri_recursion(6)\n"
      ]
    }
  ],
  "metadata": {
    "kernelspec": {
      "display_name": "Python 3 (ipykernel)",
      "language": "python",
      "name": "python3"
    },
    "language_info": {
      "codemirror_mode": {
        "name": "ipython",
        "version": 3
      },
      "file_extension": ".py",
      "mimetype": "text/x-python",
      "name": "python",
      "nbconvert_exporter": "python",
      "pygments_lexer": "ipython3",
      "version": "3.9.7"
    },
    "colab": {
      "name": "functions.ipynb",
      "provenance": [],
      "collapsed_sections": []
    }
  },
  "nbformat": 4,
  "nbformat_minor": 5
}