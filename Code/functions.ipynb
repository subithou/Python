{
 "cells": [
  {
   "cell_type": "code",
   "execution_count": null,
   "id": "1da7e6ec",
   "metadata": {},
   "outputs": [],
   "source": [
    "Python Functions\n",
    "-----------------\n",
    "1. A function is a block of code which only runs when it is called.\n",
    "2. You can pass data, known as parameters, into a function.\n",
    "3. A function can return data as a result."
   ]
  },
  {
   "cell_type": "code",
   "execution_count": 2,
   "id": "005d4309",
   "metadata": {},
   "outputs": [],
   "source": [
    "# Creating a Function\n",
    "# -------------------\n",
    "# In Python a function is defined using the def keyword\n",
    "\n",
    "def my_function():\n",
    "  print(\"Hello from a function\")"
   ]
  },
  {
   "cell_type": "code",
   "execution_count": 4,
   "id": "fdd7c2e5",
   "metadata": {},
   "outputs": [
    {
     "name": "stdout",
     "output_type": "stream",
     "text": [
      "Hello from a function\n"
     ]
    }
   ],
   "source": [
    "# Calling a Function\n",
    "# -------------------\n",
    "# To call a function, use the function name followed by parenthesis\n",
    "\n",
    "def my_function():\n",
    "  print(\"Hello from a function\")\n",
    "\n",
    "my_function()\n"
   ]
  },
  {
   "cell_type": "code",
   "execution_count": 5,
   "id": "8269572b",
   "metadata": {},
   "outputs": [
    {
     "name": "stdout",
     "output_type": "stream",
     "text": [
      "Emil Refsnes\n",
      "Tobias Refsnes\n",
      "Linus Refsnes\n"
     ]
    }
   ],
   "source": [
    "'''\n",
    "Arguments\n",
    "----------\n",
    "Information can be passed into functions as arguments.\n",
    "Arguments are specified after the function name, inside the parentheses. \n",
    "You can add as many arguments as you want, just separate them with a comma.\n",
    "The following example has a function with one argument (fname). When the function is called, \n",
    "we pass along a first name, which is used inside the function to print the full name:\n",
    "'''\n",
    "\n",
    "def my_function(fname):\n",
    "  print(fname + \" Refsnes\")\n",
    "\n",
    "my_function(\"Emil\")\n",
    "my_function(\"Tobias\")\n",
    "my_function(\"Linus\")\n",
    "\n",
    "# Arguments are often shortened to args in Python documentations"
   ]
  },
  {
   "cell_type": "code",
   "execution_count": null,
   "id": "922df615",
   "metadata": {},
   "outputs": [],
   "source": [
    "'''\n",
    "Parameters or Arguments?\n",
    "------------------------\n",
    "The terms parameter and argument can be used for the same thing: information that are passed into a function.\n",
    "\n",
    "From a function's perspective:\n",
    "A parameter is the variable listed inside the parentheses in the function definition.\n",
    "An argument is the value that is sent to the function when it is called.\n",
    "'''"
   ]
  },
  {
   "cell_type": "code",
   "execution_count": 6,
   "id": "370430b6",
   "metadata": {},
   "outputs": [
    {
     "name": "stdout",
     "output_type": "stream",
     "text": [
      "Emil Refsnes\n"
     ]
    }
   ],
   "source": [
    "'''\n",
    "Number of Arguments\n",
    "-------------------\n",
    "By default, a function must be called with the correct number of arguments. \n",
    "Meaning that if your function expects 2 arguments, \n",
    "you have to call the function with 2 arguments, not more, and not less.\n",
    "'''\n",
    "\n",
    "# This function expects 2 arguments, and gets 2 arguments:\n",
    "\n",
    "def my_function(fname, lname):\n",
    "  print(fname + \" \" + lname)\n",
    "\n",
    "my_function(\"Emil\", \"Refsnes\")\n"
   ]
  },
  {
   "cell_type": "code",
   "execution_count": 7,
   "id": "56f784ac",
   "metadata": {},
   "outputs": [
    {
     "ename": "TypeError",
     "evalue": "my_function() missing 1 required positional argument: 'lname'",
     "output_type": "error",
     "traceback": [
      "\u001b[1;31m---------------------------------------------------------------------------\u001b[0m",
      "\u001b[1;31mTypeError\u001b[0m                                 Traceback (most recent call last)",
      "\u001b[1;32m~\\AppData\\Local\\Temp/ipykernel_24876/1288337344.py\u001b[0m in \u001b[0;36m<module>\u001b[1;34m\u001b[0m\n\u001b[0;32m      7\u001b[0m   \u001b[0mprint\u001b[0m\u001b[1;33m(\u001b[0m\u001b[0mfname\u001b[0m \u001b[1;33m+\u001b[0m \u001b[1;34m\" \"\u001b[0m \u001b[1;33m+\u001b[0m \u001b[0mlname\u001b[0m\u001b[1;33m)\u001b[0m\u001b[1;33m\u001b[0m\u001b[1;33m\u001b[0m\u001b[0m\n\u001b[0;32m      8\u001b[0m \u001b[1;33m\u001b[0m\u001b[0m\n\u001b[1;32m----> 9\u001b[1;33m \u001b[0mmy_function\u001b[0m\u001b[1;33m(\u001b[0m\u001b[1;34m\"Emil\"\u001b[0m\u001b[1;33m)\u001b[0m\u001b[1;33m\u001b[0m\u001b[1;33m\u001b[0m\u001b[0m\n\u001b[0m",
      "\u001b[1;31mTypeError\u001b[0m: my_function() missing 1 required positional argument: 'lname'"
     ]
    }
   ],
   "source": [
    "# If you try to call the function with 1 or 3 arguments, you will get an error\n",
    "\n",
    "\n",
    "# This function expects 2 arguments, but gets only 1:\n",
    "\n",
    "def my_function(fname, lname):\n",
    "  print(fname + \" \" + lname)\n",
    "\n",
    "my_function(\"Emil\")\n"
   ]
  },
  {
   "cell_type": "code",
   "execution_count": 8,
   "id": "e4eda3d6",
   "metadata": {},
   "outputs": [
    {
     "name": "stdout",
     "output_type": "stream",
     "text": [
      "The youngest child is Linus\n"
     ]
    }
   ],
   "source": [
    "'''\n",
    "Arbitrary Arguments, *args\n",
    "---------------------------\n",
    "If you do not know how many arguments that will be passed into your function,\n",
    "add a * before the parameter name in the function definition.\n",
    "\n",
    "This way the function will receive a tuple of arguments, and can access the items accordingly\n",
    "'''\n",
    "# Arbitrary Arguments are often shortened to *args in Python documentations\n",
    "# If the number of arguments is unknown, add a * before the parameter name\n",
    "\n",
    "def my_function(*kids):\n",
    "  print(\"The youngest child is \" + kids[2])\n",
    "\n",
    "my_function(\"Emil\", \"Tobias\", \"Linus\")"
   ]
  },
  {
   "cell_type": "code",
   "execution_count": 9,
   "id": "48a2751a",
   "metadata": {},
   "outputs": [
    {
     "name": "stdout",
     "output_type": "stream",
     "text": [
      "The youngest child is Linus\n"
     ]
    }
   ],
   "source": [
    "'''\n",
    "Keyword Arguments\n",
    "------------------\n",
    "You can also send arguments with the key = value syntax.\n",
    "This way the order of the arguments does not matter.\n",
    "'''\n",
    "\n",
    "def my_function(child3, child2, child1):\n",
    "  print(\"The youngest child is \" + child3)\n",
    "\n",
    "my_function(child1 = \"Emil\", child2 = \"Tobias\", child3 = \"Linus\")"
   ]
  },
  {
   "cell_type": "code",
   "execution_count": 10,
   "id": "66e56a16",
   "metadata": {},
   "outputs": [
    {
     "name": "stdout",
     "output_type": "stream",
     "text": [
      "His last name is Refsnes\n"
     ]
    }
   ],
   "source": [
    "'''\n",
    "Arbitrary Keyword Arguments, **kwargs\n",
    "--------------------------------------\n",
    "If you do not know how many keyword arguments that will be passed into your function, \n",
    "add two asterisk: ** before the parameter name in the function definition.\n",
    "This way the function will receive a dictionary of arguments, and can access the items accordingly.\n",
    "'''\n",
    "\n",
    "# If the number of keyword arguments is unknown, add a double ** before the parameter name:\n",
    "\n",
    "def my_function(**kid):\n",
    "  print(\"His last name is \" + kid[\"lname\"])\n",
    "\n",
    "my_function(fname = \"Tobias\", lname = \"Refsnes\")"
   ]
  },
  {
   "cell_type": "code",
   "execution_count": 11,
   "id": "c2cd80bc",
   "metadata": {},
   "outputs": [
    {
     "name": "stdout",
     "output_type": "stream",
     "text": [
      "I am from Sweden\n",
      "I am from India\n",
      "I am from Norway\n",
      "I am from Brazil\n"
     ]
    }
   ],
   "source": [
    "'''\n",
    "Default Parameter Value\n",
    "-----------------------\n",
    "The following example shows how to use a default parameter value.\n",
    "If we call the function without argument, it uses the default value,\n",
    "'''\n",
    "\n",
    "def my_function(country = \"Norway\"):\n",
    "  print(\"I am from \" + country)\n",
    "\n",
    "my_function(\"Sweden\")\n",
    "my_function(\"India\")\n",
    "my_function()\n",
    "my_function(\"Brazil\")"
   ]
  },
  {
   "cell_type": "code",
   "execution_count": 13,
   "id": "408d1fc6",
   "metadata": {},
   "outputs": [
    {
     "name": "stdout",
     "output_type": "stream",
     "text": [
      "apple\n",
      "banana\n",
      "cherry\n"
     ]
    }
   ],
   "source": [
    "'''\n",
    "Passing a List as an Argument\n",
    "-----------------------------\n",
    "You can send any data types of argument to a function (string, number, list, dictionary etc.), \n",
    "and it will be treated as the same data type inside the function.\n",
    "E.g. if you send a List as an argument, it will still be a List when it reaches the function\n",
    "'''\n",
    "\n",
    "def my_function(food):\n",
    "  for x in food:\n",
    "    print(x)\n",
    "\n",
    "fruits = [\"apple\", \"banana\", \"cherry\"]\n",
    "\n",
    "my_function(fruits)"
   ]
  },
  {
   "cell_type": "code",
   "execution_count": 14,
   "id": "1f8d7e84",
   "metadata": {},
   "outputs": [
    {
     "name": "stdout",
     "output_type": "stream",
     "text": [
      "15\n",
      "25\n",
      "45\n"
     ]
    }
   ],
   "source": [
    "'''\n",
    "Return Values\n",
    "--------------\n",
    "To let a function return a value, use the return statement\n",
    "'''\n",
    "\n",
    "def my_function(x):\n",
    "  return 5 * x\n",
    "\n",
    "print(my_function(3))\n",
    "print(my_function(5))\n",
    "print(my_function(9))"
   ]
  },
  {
   "cell_type": "code",
   "execution_count": 15,
   "id": "c67345dd",
   "metadata": {},
   "outputs": [],
   "source": [
    "'''\n",
    "The pass Statement\n",
    "------------------\n",
    "function definitions cannot be empty, but if you for some reason have a function definition with no content, \n",
    "put in the pass statement to avoid getting an error\n",
    "'''\n",
    "\n",
    "def myfunction():\n",
    "  pass"
   ]
  },
  {
   "cell_type": "code",
   "execution_count": null,
   "id": "d8424e2e",
   "metadata": {},
   "outputs": [],
   "source": [
    "Recursion\n",
    "---------\n",
    "1. Python also accepts function recursion, which means a defined function can call itself.\n",
    "2. Recursion is a common mathematical and programming concept. It means that a function calls itself. \n",
    "   This has the benefit of meaning that you can loop through data to reach a result.\n",
    "3. The developer should be very careful with recursion as it can be quite easy to slip into writing a function which never terminates,\n",
    "   or one that uses excess amounts of memory or processor power. However, when written correctly recursion can be a very efficient and mathematically-elegant approach to programming.\n",
    "4. In this example, tri_recursion() is a function that we have defined to call itself (\"recurse\"). \n",
    "   We use the k variable as the data, which decrements (-1) every time we recurse. The recursion ends when the condition is not greater than 0 (i.e. when it is 0).\n",
    "5. To a new developer it can take some time to work out how exactly this works, \n",
    "   best way to find out is by testing and modifying it."
   ]
  },
  {
   "cell_type": "code",
   "execution_count": 16,
   "id": "494dae68",
   "metadata": {},
   "outputs": [
    {
     "name": "stdout",
     "output_type": "stream",
     "text": [
      "\n",
      "\n",
      "Recursion Example Results\n",
      "1\n",
      "3\n",
      "6\n",
      "10\n",
      "15\n",
      "21\n"
     ]
    },
    {
     "data": {
      "text/plain": [
       "21"
      ]
     },
     "execution_count": 16,
     "metadata": {},
     "output_type": "execute_result"
    }
   ],
   "source": [
    "# Recursion Example\n",
    "# -----------------\n",
    "\n",
    "def tri_recursion(k):\n",
    "  if(k > 0):\n",
    "    result = k + tri_recursion(k - 1)\n",
    "    print(result)\n",
    "  else:\n",
    "    result = 0\n",
    "  return result\n",
    "\n",
    "print(\"\\n\\nRecursion Example Results\")\n",
    "tri_recursion(6)\n"
   ]
  },
  {
   "cell_type": "code",
   "execution_count": null,
   "id": "2cb8e963",
   "metadata": {},
   "outputs": [],
   "source": []
  }
 ],
 "metadata": {
  "kernelspec": {
   "display_name": "Python 3 (ipykernel)",
   "language": "python",
   "name": "python3"
  },
  "language_info": {
   "codemirror_mode": {
    "name": "ipython",
    "version": 3
   },
   "file_extension": ".py",
   "mimetype": "text/x-python",
   "name": "python",
   "nbconvert_exporter": "python",
   "pygments_lexer": "ipython3",
   "version": "3.9.7"
  }
 },
 "nbformat": 4,
 "nbformat_minor": 5
}
