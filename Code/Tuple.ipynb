{
  "cells": [
    {
      "cell_type": "markdown",
      "source": [
        "#**Tuple**\n",
        "\n",
        "\n",
        "---\n",
        "\n",
        "\n",
        "* Tuples are used to store multiple items in a single variable.\n",
        "* A tuple is a collection which is ordered and unchangeable.\n",
        "* Tuples are written with round brackets.\n",
        "* A tuple can contain different data types\n",
        "* Tuple items are ordered, unchangeable, and allow duplicate values.\n",
        "* Tuple items are indexed, the first item has index [0], the second item has index [1] etc."
      ],
      "metadata": {
        "id": "9Z3l_WKt05fk"
      },
      "id": "9Z3l_WKt05fk"
    },
    {
      "cell_type": "markdown",
      "source": [
        "##**Creating a Tuple**"
      ],
      "metadata": {
        "id": "ALebyltL1MgC"
      },
      "id": "ALebyltL1MgC"
    },
    {
      "cell_type": "markdown",
      "source": [
        "####**Create a Tuple**"
      ],
      "metadata": {
        "id": "IszfywrL1wzl"
      },
      "id": "IszfywrL1wzl"
    },
    {
      "cell_type": "code",
      "source": [
        "thistuple = (\"apple\", \"banana\", \"cherry\")\n",
        "print(thistuple)"
      ],
      "metadata": {
        "colab": {
          "base_uri": "https://localhost:8080/"
        },
        "id": "9LeN2foK1uDS",
        "outputId": "e3e05b9c-3bb0-4e9a-d134-f6e32554d0ef"
      },
      "id": "9LeN2foK1uDS",
      "execution_count": null,
      "outputs": [
        {
          "output_type": "stream",
          "name": "stdout",
          "text": [
            "('apple', 'banana', 'cherry')\n"
          ]
        }
      ]
    },
    {
      "cell_type": "markdown",
      "source": [
        "####**Using the tuple() method to make a tuple**"
      ],
      "metadata": {
        "id": "d2MPfP5v1XXX"
      },
      "id": "d2MPfP5v1XXX"
    },
    {
      "cell_type": "code",
      "source": [
        "thistuple = tuple((\"apple\", \"banana\", \"cherry\")) # note the double round-brackets\n",
        "print(thistuple)"
      ],
      "metadata": {
        "colab": {
          "base_uri": "https://localhost:8080/"
        },
        "id": "1IBpGvPY1bXB",
        "outputId": "b2262ed8-ceec-47a1-cf0e-f68444034a76"
      },
      "id": "1IBpGvPY1bXB",
      "execution_count": null,
      "outputs": [
        {
          "output_type": "stream",
          "name": "stdout",
          "text": [
            "('apple', 'banana', 'cherry')\n"
          ]
        }
      ]
    },
    {
      "cell_type": "markdown",
      "source": [
        "##**Tuple Length**\n",
        "To determine how many items a tuple has, use the len() function."
      ],
      "metadata": {
        "id": "DILXDIxT18Mn"
      },
      "id": "DILXDIxT18Mn"
    },
    {
      "cell_type": "markdown",
      "source": [
        "###**Print the number of items in the tuple**"
      ],
      "metadata": {
        "id": "nJW0TKNh2Fqr"
      },
      "id": "nJW0TKNh2Fqr"
    },
    {
      "cell_type": "code",
      "source": [
        "thistuple = (\"apple\", \"banana\", \"cherry\")\n",
        "print(len(thistuple))"
      ],
      "metadata": {
        "colab": {
          "base_uri": "https://localhost:8080/"
        },
        "id": "0OWpXoMH2KJA",
        "outputId": "0215c1b6-9617-41c5-c605-d66b47c3e9e9"
      },
      "id": "0OWpXoMH2KJA",
      "execution_count": null,
      "outputs": [
        {
          "output_type": "stream",
          "name": "stdout",
          "text": [
            "3\n"
          ]
        }
      ]
    },
    {
      "cell_type": "markdown",
      "source": [
        "##**Create Tuple With One Item**\n",
        "To create a tuple with only one item, you have to add a comma after the item, otherwise Python will not recognize it as a tuple."
      ],
      "metadata": {
        "id": "KjUAjpoK2PFZ"
      },
      "id": "KjUAjpoK2PFZ"
    },
    {
      "cell_type": "markdown",
      "source": [
        "####**One item tuple, remember the comma**"
      ],
      "metadata": {
        "id": "vp3liWoS2SFV"
      },
      "id": "vp3liWoS2SFV"
    },
    {
      "cell_type": "code",
      "source": [
        "thistuple = (\"apple\",)\n",
        "print(type(thistuple))\n",
        "\n",
        "#NOT a tuple\n",
        "thistuple = (\"apple\")\n",
        "print(type(thistuple))"
      ],
      "metadata": {
        "colab": {
          "base_uri": "https://localhost:8080/"
        },
        "id": "v6vA__RI2Uxg",
        "outputId": "724cc241-2ea4-49dc-b3d5-e66a94a6548c"
      },
      "id": "v6vA__RI2Uxg",
      "execution_count": null,
      "outputs": [
        {
          "output_type": "stream",
          "name": "stdout",
          "text": [
            "<class 'tuple'>\n",
            "<class 'str'>\n"
          ]
        }
      ]
    },
    {
      "cell_type": "markdown",
      "source": [
        "##**Access Tuple Items**\n",
        "You can access tuple items by referring to the index number, inside square brackets."
      ],
      "metadata": {
        "id": "pfyHGJbi2dKa"
      },
      "id": "pfyHGJbi2dKa"
    },
    {
      "cell_type": "markdown",
      "source": [
        "####**Print the second item in the tuple**"
      ],
      "metadata": {
        "id": "-6hv8kTO2iL2"
      },
      "id": "-6hv8kTO2iL2"
    },
    {
      "cell_type": "code",
      "source": [
        "thistuple = (\"apple\", \"banana\", \"cherry\")\n",
        "print(thistuple[1])"
      ],
      "metadata": {
        "colab": {
          "base_uri": "https://localhost:8080/"
        },
        "id": "t2u-dVMu2kRd",
        "outputId": "ae6e9f5e-0c31-40be-83f4-5176f95148cb"
      },
      "id": "t2u-dVMu2kRd",
      "execution_count": null,
      "outputs": [
        {
          "output_type": "stream",
          "name": "stdout",
          "text": [
            "banana\n"
          ]
        }
      ]
    },
    {
      "cell_type": "markdown",
      "source": [
        "**Note: The first item has index 0.**"
      ],
      "metadata": {
        "id": "7tl4hN2_2mzU"
      },
      "id": "7tl4hN2_2mzU"
    },
    {
      "cell_type": "markdown",
      "source": [
        "####**Negative Indexing**\n",
        "Negative indexing means start from the end.\n",
        "\n",
        "-1 refers to the last item, -2 refers to the second last item etc."
      ],
      "metadata": {
        "id": "vLwNBxg52pM9"
      },
      "id": "vLwNBxg52pM9"
    },
    {
      "cell_type": "markdown",
      "source": [
        "#####**Print the last item of the tuple**"
      ],
      "metadata": {
        "id": "iQFkNZJx23oq"
      },
      "id": "iQFkNZJx23oq"
    },
    {
      "cell_type": "code",
      "source": [
        "thistuple = (\"apple\", \"banana\", \"cherry\")\n",
        "print(thistuple[-1])"
      ],
      "metadata": {
        "colab": {
          "base_uri": "https://localhost:8080/"
        },
        "id": "rDfd28ac26dO",
        "outputId": "2726b0eb-b5c5-436c-f078-bd117c4404c4"
      },
      "id": "rDfd28ac26dO",
      "execution_count": null,
      "outputs": [
        {
          "output_type": "stream",
          "name": "stdout",
          "text": [
            "cherry\n"
          ]
        }
      ]
    },
    {
      "cell_type": "markdown",
      "source": [
        "###**Range of Indexes**\n",
        "You can specify a range of indexes by specifying where to start and where to end the range.\n",
        "\n",
        "When specifying a range, the return value will be a new tuple with the specified items."
      ],
      "metadata": {
        "id": "nzKEBc5j29tW"
      },
      "id": "nzKEBc5j29tW"
    },
    {
      "cell_type": "markdown",
      "source": [
        "#####**Return the third, fourth, and fifth item**"
      ],
      "metadata": {
        "id": "DdlCK64R2_0E"
      },
      "id": "DdlCK64R2_0E"
    },
    {
      "cell_type": "code",
      "source": [
        "thistuple = (\"apple\", \"banana\", \"cherry\", \"orange\", \"kiwi\", \"melon\", \"mango\")\n",
        "print(thistuple[2:5])"
      ],
      "metadata": {
        "colab": {
          "base_uri": "https://localhost:8080/"
        },
        "id": "E6vUmrFS3Drb",
        "outputId": "96c08cf8-f07e-47dc-b3b5-51ef38719d42"
      },
      "id": "E6vUmrFS3Drb",
      "execution_count": null,
      "outputs": [
        {
          "output_type": "stream",
          "name": "stdout",
          "text": [
            "('cherry', 'orange', 'kiwi')\n"
          ]
        }
      ]
    },
    {
      "cell_type": "markdown",
      "source": [
        "**Note: The search will start at index 2 (included) and end at index 5 (not included).**"
      ],
      "metadata": {
        "id": "hAIzG-JM3HVq"
      },
      "id": "hAIzG-JM3HVq"
    },
    {
      "cell_type": "markdown",
      "source": [
        "#####**By leaving out the start value, the range will start at the first item**"
      ],
      "metadata": {
        "id": "Lm_bTH_I3Piv"
      },
      "id": "Lm_bTH_I3Piv"
    },
    {
      "cell_type": "code",
      "source": [
        "# This example returns the items from the beginning to, but NOT included, \"kiwi\":\n",
        "\n",
        "thistuple = (\"apple\", \"banana\", \"cherry\", \"orange\", \"kiwi\", \"melon\", \"mango\")\n",
        "print(thistuple[:4])\n"
      ],
      "metadata": {
        "colab": {
          "base_uri": "https://localhost:8080/"
        },
        "id": "1FclS3U03XqK",
        "outputId": "1d09b151-092d-4133-a4e8-0f499a1f83ba"
      },
      "id": "1FclS3U03XqK",
      "execution_count": null,
      "outputs": [
        {
          "output_type": "stream",
          "name": "stdout",
          "text": [
            "('apple', 'banana', 'cherry', 'orange')\n"
          ]
        }
      ]
    },
    {
      "cell_type": "markdown",
      "source": [
        "#####**By leaving out the end value, the range will go on to the end of the list**"
      ],
      "metadata": {
        "id": "5ASI1iqs3aW0"
      },
      "id": "5ASI1iqs3aW0"
    },
    {
      "cell_type": "code",
      "source": [
        "# This example returns the items from \"cherry\" and to the end:\n",
        "\n",
        "thistuple = (\"apple\", \"banana\", \"cherry\", \"orange\", \"kiwi\", \"melon\", \"mango\")\n",
        "print(thistuple[2:])"
      ],
      "metadata": {
        "colab": {
          "base_uri": "https://localhost:8080/"
        },
        "id": "0kivWH2A3cFV",
        "outputId": "02288abc-c589-46b4-9af1-1677e55fb7ee"
      },
      "id": "0kivWH2A3cFV",
      "execution_count": null,
      "outputs": [
        {
          "output_type": "stream",
          "name": "stdout",
          "text": [
            "('cherry', 'orange', 'kiwi', 'melon', 'mango')\n"
          ]
        }
      ]
    },
    {
      "cell_type": "markdown",
      "source": [
        "###**Range of Negative Indexes**\n",
        "Specify negative indexes if you want to start the search from the end of the tuple."
      ],
      "metadata": {
        "id": "6UK_4Ez03uBk"
      },
      "id": "6UK_4Ez03uBk"
    },
    {
      "cell_type": "code",
      "source": [
        "# This example returns the items from index -4 (included) to index -1 (excluded)\n",
        "\n",
        "thistuple = (\"apple\", \"banana\", \"cherry\", \"orange\", \"kiwi\", \"melon\", \"mango\")\n",
        "print(thistuple[-4:-1])\n"
      ],
      "metadata": {
        "colab": {
          "base_uri": "https://localhost:8080/"
        },
        "id": "YrVeoxqR31ey",
        "outputId": "1e3a6c5e-781d-4f8e-d17d-599f5161e149"
      },
      "id": "YrVeoxqR31ey",
      "execution_count": null,
      "outputs": [
        {
          "output_type": "stream",
          "name": "stdout",
          "text": [
            "('orange', 'kiwi', 'melon')\n"
          ]
        }
      ]
    },
    {
      "cell_type": "markdown",
      "source": [
        "##**Check if Item Exists**\n",
        "To determine if a specified item is present in a tuple use the in keyword."
      ],
      "metadata": {
        "id": "02_G0See349f"
      },
      "id": "02_G0See349f"
    },
    {
      "cell_type": "code",
      "source": [
        "# Check if \"apple\" is present in the tuple:\n",
        "\n",
        "thistuple = (\"apple\", \"banana\", \"cherry\")\n",
        "if \"apple\" in thistuple:\n",
        "  print(\"Yes, 'apple' is in the fruits tuple\")"
      ],
      "metadata": {
        "colab": {
          "base_uri": "https://localhost:8080/"
        },
        "id": "c40lJ2tv3904",
        "outputId": "5c5d469b-cbaf-4986-e3e8-4b457d88a68c"
      },
      "id": "c40lJ2tv3904",
      "execution_count": null,
      "outputs": [
        {
          "output_type": "stream",
          "name": "stdout",
          "text": [
            "Yes, 'apple' is in the fruits tuple\n"
          ]
        }
      ]
    },
    {
      "cell_type": "markdown",
      "source": [
        "##**Update Tuples**"
      ],
      "metadata": {
        "id": "s0DfnATw4G4V"
      },
      "id": "s0DfnATw4G4V"
    },
    {
      "cell_type": "markdown",
      "source": [
        "###**Change Tuple Values**\n",
        "Once a tuple is created, you cannot change its values. Tuples are unchangeable, or immutable as it also is called.\n",
        "\n",
        "But there is a workaround. You can convert the tuple into a list, change the list, and convert the list back into a tuple."
      ],
      "metadata": {
        "id": "HvzDNTf54uxN"
      },
      "id": "HvzDNTf54uxN"
    },
    {
      "cell_type": "code",
      "source": [
        "# Convert the tuple into a list to be able to change it\n",
        "\n",
        "x = (\"apple\", \"banana\", \"cherry\")\n",
        "y = list(x)\n",
        "y[1] = \"kiwi\"\n",
        "x = tuple(y)\n",
        "\n",
        "print(x)"
      ],
      "metadata": {
        "colab": {
          "base_uri": "https://localhost:8080/"
        },
        "id": "1-yNVsM642af",
        "outputId": "6df4f3ea-569e-44e8-f625-befe44ec4f6e"
      },
      "id": "1-yNVsM642af",
      "execution_count": null,
      "outputs": [
        {
          "output_type": "stream",
          "name": "stdout",
          "text": [
            "('apple', 'kiwi', 'cherry')\n"
          ]
        }
      ]
    },
    {
      "cell_type": "markdown",
      "source": [
        "###**Add Items**\n",
        "Since tuples are immutable, they do not have a build-in append() method, but there are other ways to add items to a tuple."
      ],
      "metadata": {
        "id": "pHQAGOgW46Nb"
      },
      "id": "pHQAGOgW46Nb"
    },
    {
      "cell_type": "markdown",
      "source": [
        "####**1. Convert into a list: Just like the workaround for changing a tuple, you can convert it into a list, add your item(s), and convert it back into a tuple.**"
      ],
      "metadata": {
        "id": "4T0j5A2F5LOU"
      },
      "id": "4T0j5A2F5LOU"
    },
    {
      "cell_type": "code",
      "source": [
        "# Convert the tuple into a list, add \"orange\", and convert it back into a tuple:\n",
        "\n",
        "thistuple = (\"apple\", \"banana\", \"cherry\")\n",
        "y = list(thistuple)\n",
        "y.append(\"orange\")\n",
        "thistuple = tuple(y)\n",
        "print(thistuple)"
      ],
      "metadata": {
        "colab": {
          "base_uri": "https://localhost:8080/"
        },
        "id": "XawHJs7O5FZw",
        "outputId": "6dee922f-7932-4543-f237-10af745f4ea0"
      },
      "id": "XawHJs7O5FZw",
      "execution_count": null,
      "outputs": [
        {
          "output_type": "stream",
          "name": "stdout",
          "text": [
            "('apple', 'banana', 'cherry', 'orange')\n"
          ]
        }
      ]
    },
    {
      "cell_type": "markdown",
      "source": [
        "####**2. Add tuple to a tuple. You are allowed to add tuples to tuples, so if you want to add one item, (or many), create a new tuple with the item(s), and add it to the existing tuple.**"
      ],
      "metadata": {
        "id": "M6Y_4xlU5NYs"
      },
      "id": "M6Y_4xlU5NYs"
    },
    {
      "cell_type": "code",
      "source": [
        "# Create a new tuple with the value \"orange\", and add that tuple:\n",
        "\n",
        "thistuple = (\"apple\", \"banana\", \"cherry\")\n",
        "y = (\"orange\",)\n",
        "thistuple += y\n",
        "\n",
        "print(thistuple)"
      ],
      "metadata": {
        "colab": {
          "base_uri": "https://localhost:8080/"
        },
        "id": "8V_gDwIj5VxC",
        "outputId": "72609479-d87d-4749-a3f0-40ce958e329f"
      },
      "id": "8V_gDwIj5VxC",
      "execution_count": null,
      "outputs": [
        {
          "output_type": "stream",
          "name": "stdout",
          "text": [
            "('apple', 'banana', 'cherry', 'orange')\n"
          ]
        }
      ]
    },
    {
      "cell_type": "markdown",
      "source": [
        "###**Remove Items**\n",
        "**Note:** You cannot remove items in a tuple.\n",
        "\n",
        "Tuples are unchangeable, so you cannot remove items from it, but you can use the same workaround as we used for changing and adding tuple items."
      ],
      "metadata": {
        "id": "dCm_QWQW5cAC"
      },
      "id": "dCm_QWQW5cAC"
    },
    {
      "cell_type": "code",
      "source": [
        "# Convert the tuple into a list, remove \"apple\", and convert it back into a tuple:\n",
        "\n",
        "thistuple = (\"apple\", \"banana\", \"cherry\")\n",
        "y = list(thistuple)\n",
        "y.remove(\"apple\")\n",
        "thistuple = tuple(y)\n",
        "print(thistuple)"
      ],
      "metadata": {
        "colab": {
          "base_uri": "https://localhost:8080/"
        },
        "id": "mGmQm57e5iiU",
        "outputId": "c68f22b8-ef57-4b5a-b53b-5f84b3a80749"
      },
      "id": "mGmQm57e5iiU",
      "execution_count": null,
      "outputs": [
        {
          "output_type": "stream",
          "name": "stdout",
          "text": [
            "('banana', 'cherry')\n"
          ]
        }
      ]
    },
    {
      "cell_type": "markdown",
      "source": [
        "**Or you can delete the tuple completely**"
      ],
      "metadata": {
        "id": "ppv3Ajus5lGQ"
      },
      "id": "ppv3Ajus5lGQ"
    },
    {
      "cell_type": "code",
      "source": [
        "# The del keyword can delete the tuple completely:\n",
        "\n",
        "thistuple = (\"apple\", \"banana\", \"cherry\")\n",
        "del thistuple\n",
        "print(thistuple) #this will raise an error because the tuple no longer exists"
      ],
      "metadata": {
        "colab": {
          "base_uri": "https://localhost:8080/",
          "height": 217
        },
        "id": "JcszlJv65njQ",
        "outputId": "65f84e5b-8973-437d-fb4f-0422ebc2a34d"
      },
      "id": "JcszlJv65njQ",
      "execution_count": null,
      "outputs": [
        {
          "output_type": "error",
          "ename": "NameError",
          "evalue": "ignored",
          "traceback": [
            "\u001b[0;31m---------------------------------------------------------------------------\u001b[0m",
            "\u001b[0;31mNameError\u001b[0m                                 Traceback (most recent call last)",
            "\u001b[0;32m<ipython-input-14-7d592450347e>\u001b[0m in \u001b[0;36m<module>\u001b[0;34m()\u001b[0m\n\u001b[1;32m      3\u001b[0m \u001b[0mthistuple\u001b[0m \u001b[0;34m=\u001b[0m \u001b[0;34m(\u001b[0m\u001b[0;34m\"apple\"\u001b[0m\u001b[0;34m,\u001b[0m \u001b[0;34m\"banana\"\u001b[0m\u001b[0;34m,\u001b[0m \u001b[0;34m\"cherry\"\u001b[0m\u001b[0;34m)\u001b[0m\u001b[0;34m\u001b[0m\u001b[0;34m\u001b[0m\u001b[0m\n\u001b[1;32m      4\u001b[0m \u001b[0;32mdel\u001b[0m \u001b[0mthistuple\u001b[0m\u001b[0;34m\u001b[0m\u001b[0;34m\u001b[0m\u001b[0m\n\u001b[0;32m----> 5\u001b[0;31m \u001b[0mprint\u001b[0m\u001b[0;34m(\u001b[0m\u001b[0mthistuple\u001b[0m\u001b[0;34m)\u001b[0m \u001b[0;31m#this will raise an error because the tuple no longer exists\u001b[0m\u001b[0;34m\u001b[0m\u001b[0;34m\u001b[0m\u001b[0m\n\u001b[0m",
            "\u001b[0;31mNameError\u001b[0m: name 'thistuple' is not defined"
          ]
        }
      ]
    },
    {
      "cell_type": "markdown",
      "source": [
        "##**Unpacking a Tuple**\n",
        "When we create a tuple, we normally assign values to it. This is called \"packing\" a tuple."
      ],
      "metadata": {
        "id": "oy5WgZ_a5tHb"
      },
      "id": "oy5WgZ_a5tHb"
    },
    {
      "cell_type": "code",
      "source": [
        "# Packing a tuple:\n",
        "\n",
        "fruits = (\"apple\", \"banana\", \"cherry\")"
      ],
      "metadata": {
        "id": "8nrRMU1A5wum"
      },
      "id": "8nrRMU1A5wum",
      "execution_count": null,
      "outputs": []
    },
    {
      "cell_type": "markdown",
      "source": [
        "In Python, we are also allowed to extract the values back into variables. This is called \"unpacking\"."
      ],
      "metadata": {
        "id": "4TC5o-FY6DAy"
      },
      "id": "4TC5o-FY6DAy"
    },
    {
      "cell_type": "code",
      "source": [
        "# Unpacking a tuple:\n",
        "\n",
        "fruits = (\"apple\", \"banana\", \"cherry\")\n",
        "\n",
        "(green, yellow, red) = fruits\n",
        "\n",
        "\n",
        "print(green)\n",
        "print(yellow)\n",
        "print(red)"
      ],
      "metadata": {
        "colab": {
          "base_uri": "https://localhost:8080/"
        },
        "id": "t7lb47WB6Fm5",
        "outputId": "7f20fcc6-2bd9-4dea-b143-f49dedb3086a"
      },
      "id": "t7lb47WB6Fm5",
      "execution_count": null,
      "outputs": [
        {
          "output_type": "stream",
          "name": "stdout",
          "text": [
            "apple\n",
            "banana\n",
            "cherry\n"
          ]
        }
      ]
    },
    {
      "cell_type": "markdown",
      "source": [
        "###**Using Asterisk**\n",
        "If the number of variables is less than the number of values, you can add an * to the variable name and the values will be assigned to the variable as a list."
      ],
      "metadata": {
        "id": "OI9cFnMN6J-t"
      },
      "id": "OI9cFnMN6J-t"
    },
    {
      "cell_type": "code",
      "source": [
        "# Assign the rest of the values as a list called \"red\":\n",
        "\n",
        "fruits = (\"apple\", \"banana\", \"cherry\", \"strawberry\", \"raspberry\")\n",
        "\n",
        "(green, yellow, *red) = fruits\n",
        "\n",
        "print(green)\n",
        "print(yellow)\n",
        "print(red)"
      ],
      "metadata": {
        "colab": {
          "base_uri": "https://localhost:8080/"
        },
        "id": "R8Yjrpk06Tsd",
        "outputId": "02114779-444b-421a-8771-288a0a6c4e80"
      },
      "id": "R8Yjrpk06Tsd",
      "execution_count": null,
      "outputs": [
        {
          "output_type": "stream",
          "name": "stdout",
          "text": [
            "apple\n",
            "banana\n",
            "['cherry', 'strawberry', 'raspberry']\n"
          ]
        }
      ]
    },
    {
      "cell_type": "markdown",
      "source": [
        "If the asterisk is added to another variable name than the last, Python will assign values to the variable until the number of values left matches the number of variables left."
      ],
      "metadata": {
        "id": "Uc6wp6cZ6V2_"
      },
      "id": "Uc6wp6cZ6V2_"
    },
    {
      "cell_type": "code",
      "source": [
        "# Add a list of values the \"tropic\" variable:\n",
        "\n",
        "fruits = (\"apple\", \"mango\", \"papaya\", \"pineapple\", \"cherry\")\n",
        "\n",
        "(green, *tropic, red) = fruits\n",
        "\n",
        "print(green)\n",
        "print(tropic)\n",
        "print(red)"
      ],
      "metadata": {
        "colab": {
          "base_uri": "https://localhost:8080/"
        },
        "id": "_SShExTc6Xl-",
        "outputId": "0eaed391-30cb-40d2-8c10-f24e92d04fa6"
      },
      "id": "_SShExTc6Xl-",
      "execution_count": null,
      "outputs": [
        {
          "output_type": "stream",
          "name": "stdout",
          "text": [
            "apple\n",
            "['mango', 'papaya', 'pineapple']\n",
            "cherry\n"
          ]
        }
      ]
    },
    {
      "cell_type": "markdown",
      "source": [
        "##**Loop Through a Tuple**\n",
        "You can loop through the tuple items by using a for loop."
      ],
      "metadata": {
        "id": "Qew-Iqq-6a_D"
      },
      "id": "Qew-Iqq-6a_D"
    },
    {
      "cell_type": "code",
      "source": [
        "# Iterate through the items and print the values:\n",
        "\n",
        "thistuple = (\"apple\", \"banana\", \"cherry\")\n",
        "for x in thistuple:\n",
        "  print(x)\n"
      ],
      "metadata": {
        "colab": {
          "base_uri": "https://localhost:8080/"
        },
        "id": "og6J9UfV6eAQ",
        "outputId": "6a1430dc-c1eb-4da3-c9ff-570fbfed3e9c"
      },
      "id": "og6J9UfV6eAQ",
      "execution_count": null,
      "outputs": [
        {
          "output_type": "stream",
          "name": "stdout",
          "text": [
            "apple\n",
            "banana\n",
            "cherry\n"
          ]
        }
      ]
    },
    {
      "cell_type": "markdown",
      "source": [
        "###**Loop Through the Index Numbers**\n",
        "You can also loop through the tuple items by referring to their index number.\n",
        "\n",
        "Use the range() and len() functions to create a suitable iterable.\n",
        "\n"
      ],
      "metadata": {
        "id": "0wug8Arz6mSU"
      },
      "id": "0wug8Arz6mSU"
    },
    {
      "cell_type": "code",
      "source": [
        "# Print all items by referring to their index number:\n",
        "\n",
        "thistuple = (\"apple\", \"banana\", \"cherry\")\n",
        "for i in range(len(thistuple)):\n",
        "  print(thistuple[i])"
      ],
      "metadata": {
        "colab": {
          "base_uri": "https://localhost:8080/"
        },
        "id": "hIFukxZS6ps6",
        "outputId": "739798c4-301b-4b69-ab0c-07afbfe5acb1"
      },
      "id": "hIFukxZS6ps6",
      "execution_count": null,
      "outputs": [
        {
          "output_type": "stream",
          "name": "stdout",
          "text": [
            "apple\n",
            "banana\n",
            "cherry\n"
          ]
        }
      ]
    },
    {
      "cell_type": "markdown",
      "source": [
        "###**Using a While Loop**\n",
        "You can loop through the list items by using a while loop.\n",
        "\n",
        "Use the len() function to determine the length of the tuple, then start at 0 and loop your way through the tuple items by refering to their indexes.\n",
        "\n",
        "Remember to increase the index by 1 after each iteration."
      ],
      "metadata": {
        "id": "1LY4tJuu6r-K"
      },
      "id": "1LY4tJuu6r-K"
    },
    {
      "cell_type": "code",
      "source": [
        "# Print all items, using a while loop to go through all the index numbers:\n",
        "\n",
        "thistuple = (\"apple\", \"banana\", \"cherry\")\n",
        "i = 0\n",
        "while i < len(thistuple):\n",
        "  print(thistuple[i])\n",
        "  i = i + 1"
      ],
      "metadata": {
        "colab": {
          "base_uri": "https://localhost:8080/"
        },
        "id": "u26pT4Gl6vNp",
        "outputId": "a0ea3cc0-7109-4b86-b0ea-6dbfaec667f1"
      },
      "id": "u26pT4Gl6vNp",
      "execution_count": null,
      "outputs": [
        {
          "output_type": "stream",
          "name": "stdout",
          "text": [
            "apple\n",
            "banana\n",
            "cherry\n"
          ]
        }
      ]
    },
    {
      "cell_type": "markdown",
      "source": [
        "##**Join Tuples**"
      ],
      "metadata": {
        "id": "s6RWz6th6y9o"
      },
      "id": "s6RWz6th6y9o"
    },
    {
      "cell_type": "markdown",
      "source": [
        "###**Join Two Tuples**\n",
        "To join two or more tuples you can use the + operator."
      ],
      "metadata": {
        "id": "VBgTDWoz624r"
      },
      "id": "VBgTDWoz624r"
    },
    {
      "cell_type": "code",
      "source": [
        "# Join two tuples:\n",
        "\n",
        "tuple1 = (\"a\", \"b\" , \"c\")\n",
        "tuple2 = (1, 2, 3)\n",
        "\n",
        "tuple3 = tuple1 + tuple2\n",
        "print(tuple3)"
      ],
      "metadata": {
        "colab": {
          "base_uri": "https://localhost:8080/"
        },
        "id": "Qaq8pbV066Nw",
        "outputId": "d005c9e5-c0c4-4c24-cb49-79aad39fb924"
      },
      "id": "Qaq8pbV066Nw",
      "execution_count": null,
      "outputs": [
        {
          "output_type": "stream",
          "name": "stdout",
          "text": [
            "('a', 'b', 'c', 1, 2, 3)\n"
          ]
        }
      ]
    },
    {
      "cell_type": "markdown",
      "source": [
        "###**Multiply Tuples**\n",
        "If you want to multiply the content of a tuple a given number of times, you can use the * operator."
      ],
      "metadata": {
        "id": "ecOuQlLZ68KA"
      },
      "id": "ecOuQlLZ68KA"
    },
    {
      "cell_type": "code",
      "source": [
        "# Multiply the fruits tuple by 2:\n",
        "\n",
        "fruits = (\"apple\", \"banana\", \"cherry\")\n",
        "mytuple = fruits * 2\n",
        "\n",
        "print(mytuple)"
      ],
      "metadata": {
        "colab": {
          "base_uri": "https://localhost:8080/"
        },
        "id": "YmMg3FXX6_Uf",
        "outputId": "ae47ea1f-6290-46c4-eaf8-f428df15c98e"
      },
      "id": "YmMg3FXX6_Uf",
      "execution_count": null,
      "outputs": [
        {
          "output_type": "stream",
          "name": "stdout",
          "text": [
            "('apple', 'banana', 'cherry', 'apple', 'banana', 'cherry')\n"
          ]
        }
      ]
    },
    {
      "cell_type": "markdown",
      "source": [
        "##**Tuple Methods**\n",
        "\n",
        "Python has two built-in methods that you can use on tuples.\n",
        "\n",
        "![image.png](data:image/png;base64,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)"
      ],
      "metadata": {
        "id": "b2Jjyi487B8J"
      },
      "id": "b2Jjyi487B8J"
    }
  ],
  "metadata": {
    "kernelspec": {
      "display_name": "Python 3 (ipykernel)",
      "language": "python",
      "name": "python3"
    },
    "language_info": {
      "codemirror_mode": {
        "name": "ipython",
        "version": 3
      },
      "file_extension": ".py",
      "mimetype": "text/x-python",
      "name": "python",
      "nbconvert_exporter": "python",
      "pygments_lexer": "ipython3",
      "version": "3.9.7"
    },
    "colab": {
      "name": "Tuple.ipynb",
      "provenance": []
    }
  },
  "nbformat": 4,
  "nbformat_minor": 5
}