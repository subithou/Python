{
  "nbformat": 4,
  "nbformat_minor": 0,
  "metadata": {
    "colab": {
      "name": "Variables.ipynb",
      "provenance": [],
      "collapsed_sections": []
    },
    "kernelspec": {
      "name": "python3",
      "display_name": "Python 3"
    },
    "language_info": {
      "name": "python"
    }
  },
  "cells": [
    {
      "cell_type": "markdown",
      "source": [
        "#**Variables**\n",
        "-----"
      ],
      "metadata": {
        "id": "w_dqC-uJ_Fhq"
      }
    },
    {
      "cell_type": "markdown",
      "source": [
        "##**Variables**\n",
        "Variables are containers for storing data values.\n",
        "\n"
      ],
      "metadata": {
        "id": "eVbQ8nOV_IxB"
      }
    },
    {
      "cell_type": "markdown",
      "source": [
        "###**Creating Variables**\n",
        "Python has no command for declaring a variable.\n",
        "\n",
        "A variable is created the moment you first assign a value to it."
      ],
      "metadata": {
        "id": "yBD_itiZ_TXU"
      }
    },
    {
      "cell_type": "code",
      "source": [
        "x, y = 5, \"John\"\n",
        "print(x)\n",
        "print(y)\n",
        "print(x,\" , \"+ y)"
      ],
      "metadata": {
        "colab": {
          "base_uri": "https://localhost:8080/"
        },
        "id": "Yn0ep375_XLZ",
        "outputId": "5309f545-e7ec-4957-b0c0-6a5ff330935a"
      },
      "execution_count": 5,
      "outputs": [
        {
          "output_type": "stream",
          "name": "stdout",
          "text": [
            "5\n",
            "John\n",
            "5  , John\n"
          ]
        }
      ]
    },
    {
      "cell_type": "markdown",
      "source": [
        "Variables do not need to be declared with any particular type, and can even change type after they have been set."
      ],
      "metadata": {
        "id": "yJJvbYVa_ZhM"
      }
    },
    {
      "cell_type": "code",
      "source": [
        "x = 4       # x is of type int\n",
        "x = \"Sanju\" # x is now of type str\n",
        "print(x)"
      ],
      "metadata": {
        "colab": {
          "base_uri": "https://localhost:8080/"
        },
        "id": "wol--mFK_bHi",
        "outputId": "202a0ce0-05fd-48b2-ed07-1ef838a2a5a8"
      },
      "execution_count": null,
      "outputs": [
        {
          "output_type": "stream",
          "name": "stdout",
          "text": [
            "Sanju\n"
          ]
        }
      ]
    },
    {
      "cell_type": "markdown",
      "source": [
        "##**Casting**\n",
        "If you want to specify the data type of a variable, this can be done with casting."
      ],
      "metadata": {
        "id": "0WBDPy2F_dDT"
      }
    },
    {
      "cell_type": "code",
      "source": [
        "x = str(3)    # x will be '3'\n",
        "y = int(3)    # y will be 3\n",
        "z = float(3)  # z will be 3.0"
      ],
      "metadata": {
        "id": "MxEEXljP_i1U"
      },
      "execution_count": null,
      "outputs": []
    },
    {
      "cell_type": "markdown",
      "source": [
        "##**Get the Type**\n",
        "You can get the data type of a variable with the type() function."
      ],
      "metadata": {
        "id": "4lTZP8Ft_mKm"
      }
    },
    {
      "cell_type": "code",
      "source": [
        "x = 5\n",
        "y = \"John\"\n",
        "print(type(5))\n",
        "print(type(y))"
      ],
      "metadata": {
        "colab": {
          "base_uri": "https://localhost:8080/"
        },
        "id": "3oyE-UAq_pBG",
        "outputId": "08f86ec7-f814-42a9-c977-77028e04e32e"
      },
      "execution_count": 6,
      "outputs": [
        {
          "output_type": "stream",
          "name": "stdout",
          "text": [
            "<class 'int'>\n",
            "<class 'str'>\n"
          ]
        }
      ]
    },
    {
      "cell_type": "markdown",
      "source": [
        "**String variables can be declared either by using single or double quotes.**"
      ],
      "metadata": {
        "id": "Y29pokjy_vAx"
      }
    },
    {
      "cell_type": "code",
      "source": [
        "x = \"John\"\n",
        "# is the same as\n",
        "x = 'John'"
      ],
      "metadata": {
        "id": "ljrv9-pU_y9H"
      },
      "execution_count": null,
      "outputs": []
    },
    {
      "cell_type": "markdown",
      "source": [
        "##**Case-Sensitive**\n",
        "Variable names are case-sensitive."
      ],
      "metadata": {
        "id": "kfKE_6Ob_1n7"
      }
    },
    {
      "cell_type": "code",
      "source": [
        "# This will create two variables:\n",
        "\n",
        "a = 4\n",
        "A = \"Sally\"\n",
        "#A will not overwrite a\n",
        "print(a)\n",
        "print(A)"
      ],
      "metadata": {
        "colab": {
          "base_uri": "https://localhost:8080/"
        },
        "id": "YUZRtY_O_5zg",
        "outputId": "1baa2fbd-711a-4ce2-e042-20f4319a0dd9"
      },
      "execution_count": null,
      "outputs": [
        {
          "output_type": "stream",
          "name": "stdout",
          "text": [
            "4\n",
            "Sally\n"
          ]
        }
      ]
    },
    {
      "cell_type": "markdown",
      "source": [
        "##**Variable Names**\n",
        "A variable can have a short name (like x and y) or a more descriptive name (age, carname, total_volume). Rules for Python variables.\n",
        "\n",
        "* A variable name must start with a letter or the underscore character\n",
        "A variable name cannot start with a number.\n",
        "* A variable name can only contain alpha-numeric characters and underscores (A-z, 0-9, and _ ).\n",
        "* Variable names are case-sensitive (age, Age and AGE are three different variables)."
      ],
      "metadata": {
        "id": "sqZdmIefAK_d"
      }
    },
    {
      "cell_type": "code",
      "source": [
        "# Legal variable names:\n",
        "\n",
        "myvar = \"John\"\n",
        "my_var = \"John\"\n",
        "_my_var = \"John\"\n",
        "myVar = \"John\"\n",
        "MYVAR = \"John\"\n",
        "myvar2 = \"John\""
      ],
      "metadata": {
        "id": "rb_uvMM3AXg2"
      },
      "execution_count": null,
      "outputs": []
    },
    {
      "cell_type": "code",
      "source": [
        "# Illegal variable names:\n",
        "\n",
        "2myvar = \"John\"\n",
        "my-var = \"John\"\n",
        "my var = \"John\""
      ],
      "metadata": {
        "id": "JAMKmlKEAbH-"
      },
      "execution_count": null,
      "outputs": []
    },
    {
      "cell_type": "markdown",
      "source": [
        "**Remember that variable names are case-sensitive.**"
      ],
      "metadata": {
        "id": "XbcBG2jwAf49"
      }
    },
    {
      "cell_type": "markdown",
      "source": [
        "##**Many Values to Multiple Variables**\n",
        "Python allows you to assign values to multiple variables in one line."
      ],
      "metadata": {
        "id": "YPpkYGj1Al9k"
      }
    },
    {
      "cell_type": "code",
      "source": [
        "x, y, z = \"Orange\", \"Banana\", \"Cherry\"\n",
        "print(x)\n",
        "print(y)\n",
        "print(z)"
      ],
      "metadata": {
        "colab": {
          "base_uri": "https://localhost:8080/"
        },
        "id": "TmCq-bEnApeA",
        "outputId": "40aebe25-5a50-4af1-be2b-30f80414f88c"
      },
      "execution_count": null,
      "outputs": [
        {
          "output_type": "stream",
          "name": "stdout",
          "text": [
            "Orange\n",
            "Banana\n",
            "Cherry\n"
          ]
        }
      ]
    },
    {
      "cell_type": "markdown",
      "source": [
        "**Note: Make sure the number of variables matches the number of values, or else you will get an error.**"
      ],
      "metadata": {
        "id": "eNzuSsdEAsco"
      }
    },
    {
      "cell_type": "markdown",
      "source": [
        "##**One Value to Multiple Variables**\n",
        "And you can assign the same value to multiple variables in one line."
      ],
      "metadata": {
        "id": "saMqLP2MAvKT"
      }
    },
    {
      "cell_type": "code",
      "source": [
        "x = y = z = \"Orange\"\n",
        "print(x)\n",
        "print(y)\n",
        "print(z)"
      ],
      "metadata": {
        "colab": {
          "base_uri": "https://localhost:8080/"
        },
        "id": "_FFk7iu3AyBV",
        "outputId": "45ac9710-ccd5-4e9a-d3b2-03a9c42eb710"
      },
      "execution_count": null,
      "outputs": [
        {
          "output_type": "stream",
          "name": "stdout",
          "text": [
            "Orange\n",
            "Orange\n",
            "Orange\n"
          ]
        }
      ]
    },
    {
      "cell_type": "markdown",
      "source": [
        "##**Unpack a Collection**\n",
        "If you have a collection of values in a list, tuple etc. Python allows you to extract the values into variables. This is called unpacking."
      ],
      "metadata": {
        "id": "bRJgFBrdA0HD"
      }
    },
    {
      "cell_type": "code",
      "source": [
        "# Unpack a list:\n",
        "\n",
        "fruits = [\"apple\", \"banana\", \"cherry\"]\n",
        "x, y, z = fruits\n",
        "print(x)\n",
        "print(y)\n",
        "print(z)"
      ],
      "metadata": {
        "colab": {
          "base_uri": "https://localhost:8080/"
        },
        "id": "pZI2OwuZA3CB",
        "outputId": "c6c4b03d-412a-43e6-99a1-fdf1c7b9a11d"
      },
      "execution_count": null,
      "outputs": [
        {
          "output_type": "stream",
          "name": "stdout",
          "text": [
            "apple\n",
            "banana\n",
            "cherry\n"
          ]
        }
      ]
    },
    {
      "cell_type": "markdown",
      "source": [
        "##**Output Variables**\n",
        "The Python print() function is often used to output variables."
      ],
      "metadata": {
        "id": "FRDLm1xRA9SV"
      }
    },
    {
      "cell_type": "code",
      "source": [
        "x = \"Python is awesome\"\n",
        "print(x)"
      ],
      "metadata": {
        "colab": {
          "base_uri": "https://localhost:8080/"
        },
        "id": "bdQp7LRwA_1n",
        "outputId": "40642828-d269-4e42-ffed-d5c531c29ef1"
      },
      "execution_count": null,
      "outputs": [
        {
          "output_type": "stream",
          "name": "stdout",
          "text": [
            "Python is awesome\n"
          ]
        }
      ]
    },
    {
      "cell_type": "markdown",
      "source": [
        "**In the print() function, you output multiple variables, separated by a comma.**"
      ],
      "metadata": {
        "id": "U5JpoidgBCLu"
      }
    },
    {
      "cell_type": "code",
      "source": [
        "x = \"Python\"\n",
        "y = \"is\"\n",
        "z = \"awesome\"\n",
        "print(x, y, z)"
      ],
      "metadata": {
        "colab": {
          "base_uri": "https://localhost:8080/"
        },
        "id": "eNSuzcrGBEgk",
        "outputId": "67ac5747-63ff-4f7e-a579-6b4582ec2376"
      },
      "execution_count": null,
      "outputs": [
        {
          "output_type": "stream",
          "name": "stdout",
          "text": [
            "Python is awesome\n"
          ]
        }
      ]
    },
    {
      "cell_type": "markdown",
      "source": [
        "**You can also use the + operator to output multiple variables.**"
      ],
      "metadata": {
        "id": "hXA49HVnBGve"
      }
    },
    {
      "cell_type": "code",
      "source": [
        "x = \"Python \"\n",
        "y = \"is \"\n",
        "z = \"awesome\"\n",
        "print(x + y + z)"
      ],
      "metadata": {
        "colab": {
          "base_uri": "https://localhost:8080/"
        },
        "id": "OrUsgd4OBIzB",
        "outputId": "3ac96dd7-1468-42c9-a8e1-eaa81e759bbc"
      },
      "execution_count": null,
      "outputs": [
        {
          "output_type": "stream",
          "name": "stdout",
          "text": [
            "Python is awesome\n"
          ]
        }
      ]
    },
    {
      "cell_type": "markdown",
      "source": [
        "**Notice the space character after \"Python \" and \"is \", without them the result would be \"Pythonisawesome\".**"
      ],
      "metadata": {
        "id": "Mx9oUWuNBMH-"
      }
    },
    {
      "cell_type": "markdown",
      "source": [
        "**For numbers, the + character works as a mathematical operator.**"
      ],
      "metadata": {
        "id": "GBPjRHWrBPYY"
      }
    },
    {
      "cell_type": "code",
      "source": [
        "x = 5\n",
        "y = 10\n",
        "print(x + y)"
      ],
      "metadata": {
        "colab": {
          "base_uri": "https://localhost:8080/"
        },
        "id": "VSxio9sNBSby",
        "outputId": "6f87ab53-818e-4b46-dc4f-985c145e25d7"
      },
      "execution_count": null,
      "outputs": [
        {
          "output_type": "stream",
          "name": "stdout",
          "text": [
            "15\n"
          ]
        }
      ]
    },
    {
      "cell_type": "markdown",
      "source": [
        "**In the print() function, when you try to combine a string and a number with the + operator, Python will give you an error.**"
      ],
      "metadata": {
        "id": "c1oxrOy1BU86"
      }
    },
    {
      "cell_type": "code",
      "source": [
        "x = 5\n",
        "y = \"John\"\n",
        "print(x + y)"
      ],
      "metadata": {
        "colab": {
          "base_uri": "https://localhost:8080/",
          "height": 200
        },
        "id": "ox9SdcNyBXSU",
        "outputId": "dda705a3-4536-46fd-92f4-40edfdcd4086"
      },
      "execution_count": null,
      "outputs": [
        {
          "output_type": "error",
          "ename": "TypeError",
          "evalue": "ignored",
          "traceback": [
            "\u001b[0;31m---------------------------------------------------------------------------\u001b[0m",
            "\u001b[0;31mTypeError\u001b[0m                                 Traceback (most recent call last)",
            "\u001b[0;32m<ipython-input-15-00c66e4310ff>\u001b[0m in \u001b[0;36m<module>\u001b[0;34m()\u001b[0m\n\u001b[1;32m      1\u001b[0m \u001b[0mx\u001b[0m \u001b[0;34m=\u001b[0m \u001b[0;36m5\u001b[0m\u001b[0;34m\u001b[0m\u001b[0;34m\u001b[0m\u001b[0m\n\u001b[1;32m      2\u001b[0m \u001b[0my\u001b[0m \u001b[0;34m=\u001b[0m \u001b[0;34m\"John\"\u001b[0m\u001b[0;34m\u001b[0m\u001b[0;34m\u001b[0m\u001b[0m\n\u001b[0;32m----> 3\u001b[0;31m \u001b[0mprint\u001b[0m\u001b[0;34m(\u001b[0m\u001b[0mx\u001b[0m \u001b[0;34m+\u001b[0m \u001b[0my\u001b[0m\u001b[0;34m)\u001b[0m\u001b[0;34m\u001b[0m\u001b[0;34m\u001b[0m\u001b[0m\n\u001b[0m",
            "\u001b[0;31mTypeError\u001b[0m: unsupported operand type(s) for +: 'int' and 'str'"
          ]
        }
      ]
    },
    {
      "cell_type": "markdown",
      "source": [
        "**The best way to output multiple variables in the print() function is to separate them with commas, which even support different data types.**"
      ],
      "metadata": {
        "id": "o-w1WbzxBalD"
      }
    },
    {
      "cell_type": "code",
      "source": [
        "x = 5\n",
        "y = \"John\"\n",
        "print(x, y)"
      ],
      "metadata": {
        "colab": {
          "base_uri": "https://localhost:8080/"
        },
        "id": "9K3Zpwg7Bcyl",
        "outputId": "bba02c0d-d655-4eac-bff2-a386f1aee6a9"
      },
      "execution_count": null,
      "outputs": [
        {
          "output_type": "stream",
          "name": "stdout",
          "text": [
            "5 John\n"
          ]
        }
      ]
    },
    {
      "cell_type": "markdown",
      "source": [
        "##**Global Variables**\n",
        "\n",
        "Variables that are created outside of a function (as in all of the examples above) are known as global variables.\n",
        "\n",
        "Global variables can be used by everyone, both inside of functions and outside."
      ],
      "metadata": {
        "id": "vlYW-auUBlqD"
      }
    },
    {
      "cell_type": "code",
      "source": [
        "# Create a variable outside of a function, and use it inside the function\n",
        "\n",
        "x = \"awesome\"\n",
        "\n",
        "def myfunc():\n",
        "  print(\"Python is \" + x)\n",
        "\n",
        "myfunc()"
      ],
      "metadata": {
        "colab": {
          "base_uri": "https://localhost:8080/"
        },
        "id": "8vu7pSHwBq6o",
        "outputId": "30e3153c-d866-4eba-c897-1027db4cd040"
      },
      "execution_count": null,
      "outputs": [
        {
          "output_type": "stream",
          "name": "stdout",
          "text": [
            "Python is awesome\n"
          ]
        }
      ]
    },
    {
      "cell_type": "markdown",
      "source": [
        "If you create a variable with the same name inside a function, this variable will be local, and can only be used inside the function. The global variable with the same name will remain as it was, global and with the original value."
      ],
      "metadata": {
        "id": "QbXKHTMUBua3"
      }
    },
    {
      "cell_type": "code",
      "source": [
        "# Create a variable inside a function, with the same name as the global variable\n",
        "\n",
        "x = \"awesome\"\n",
        "\n",
        "def myfunc():\n",
        "  x = \"fantastic\"\n",
        "  print(\"Python is \" + x)\n",
        "\n",
        "myfunc()\n",
        "\n",
        "print(\"Python is \" + x)"
      ],
      "metadata": {
        "id": "cPGwDRdtBwOa",
        "outputId": "0a20f724-1ef3-46b0-8856-9275ef1ee3f8",
        "colab": {
          "base_uri": "https://localhost:8080/"
        }
      },
      "execution_count": 12,
      "outputs": [
        {
          "output_type": "stream",
          "name": "stdout",
          "text": [
            "Python is fantastic\n",
            "Python is fantastic\n",
            "fantastic\n"
          ]
        }
      ]
    }
  ]
}