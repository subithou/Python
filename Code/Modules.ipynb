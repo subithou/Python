{
 "cells": [
  {
   "cell_type": "code",
   "execution_count": null,
   "id": "0f061d41",
   "metadata": {},
   "outputs": [],
   "source": [
    "'''Python Modules\n",
    "---------------\n",
    "1. Consider a module to be the same as a code library.\n",
    "2. A file containing a set of functions you want to include in your application.'''\n",
    "\n",
    "# Create a Module\n",
    "# To create a module just save the code you want in a file with the file extension .py\n",
    "\n",
    "# Save this code in a file named mymodule.py\n",
    "\n",
    "def greeting(name):\n",
    "  print(\"Hello, \" + name)\n",
    "\n",
    "# Use a Module\n",
    "# Now we can use the module we just created, by using the import statement\n",
    "\n",
    "# Import the module named mymodule, and call the greeting function:\n",
    "\n",
    "import mymodule\n",
    "mymodule.greeting(\"Jonathan\")\n"
   ]
  },
  {
   "cell_type": "code",
   "execution_count": null,
   "id": "17a64736",
   "metadata": {},
   "outputs": [],
   "source": [
    "'''\n",
    "Variables in Module\n",
    "-------------------\n",
    "The module can contain functions, as already described, but also variables of all types (arrays, dictionaries, objects etc)\n",
    "'''\n",
    "\n",
    "# Save this code in the file mymodule.py\n",
    "person1 = {\n",
    "  \"name\": \"John\",\n",
    "  \"age\": 36,\n",
    "  \"country\": \"Norway\"\n",
    "}\n",
    "\n",
    "\n",
    "# Import the module named mymodule, and access the person1 dictionary\n",
    "import mymodule\n",
    "\n",
    "a = mymodule.person1[\"age\"]\n",
    "print(a)"
   ]
  },
  {
   "cell_type": "code",
   "execution_count": null,
   "id": "8647a878",
   "metadata": {},
   "outputs": [],
   "source": [
    "'''\n",
    "Naming a Module\n",
    "----------------\n",
    "You can name the module file whatever you like, but it must have the file extension .py\n",
    "'''"
   ]
  },
  {
   "cell_type": "code",
   "execution_count": null,
   "id": "84a6f538",
   "metadata": {},
   "outputs": [],
   "source": [
    "'''\n",
    "Re-naming a Module\n",
    "--------------------\n",
    "You can create an alias when you import a module, by using the as keyword\n",
    "'''\n",
    "\n",
    "# Create an alias for mymodule called mx\n",
    "import mymodule as mx\n",
    "\n",
    "a = mx.person1[\"age\"]\n",
    "print(a)"
   ]
  },
  {
   "cell_type": "code",
   "execution_count": null,
   "id": "b3d5bed8",
   "metadata": {},
   "outputs": [],
   "source": [
    "# Import From Module\n",
    "# -------------------\n",
    "# You can choose to import only parts from a module, by using the from keyword\n",
    "\n",
    "#The module named mymodule has one function and one dictionary (THIS CODE IN ANOTHER PYTHON FILE NAMED mymodule.py)\n",
    "def greeting(name):\n",
    "  print(\"Hello, \" + name)\n",
    "\n",
    "person1 = {\n",
    "  \"name\": \"John\",\n",
    "  \"age\": 36,\n",
    "  \"country\": \"Norway\"\n",
    "}\n",
    "\n",
    "\n",
    "# Import only the person1 dictionary from the module:\n",
    "from mymodule import person1\n",
    "\n",
    "print (person1[\"age\"])"
   ]
  },
  {
   "cell_type": "code",
   "execution_count": 3,
   "id": "2a6cf007",
   "metadata": {},
   "outputs": [
    {
     "name": "stdout",
     "output_type": "stream",
     "text": [
      "0.5714025946899135\n"
     ]
    }
   ],
   "source": [
    "'''\n",
    "Built-in Modules\n",
    "------------------\n",
    "There are several built-in modules in Python, which you can import whenever you like\n",
    "'''\n",
    "# Python Random\n",
    "\n",
    "'''\n",
    "The seed() method is used to initialize the random number generator.\n",
    "The random number generator needs a number to start with (a seed value), to be able to generate a random number.\n",
    "By default the random number generator uses the current system time.\n",
    "Use the seed() method to customize the start number of the random number generator.\n",
    "Note: If you use the same seed value twice you will get the same random number twice\n",
    "'''\n",
    "\n",
    "# Set the seed value to 10 and see what happens:\n",
    "\n",
    "import random\n",
    "random.seed(10)\n",
    "print(random.random())"
   ]
  },
  {
   "cell_type": "code",
   "execution_count": 4,
   "id": "6be5d78d",
   "metadata": {},
   "outputs": [
    {
     "name": "stdout",
     "output_type": "stream",
     "text": [
      "0.5714025946899135\n",
      "0.5714025946899135\n"
     ]
    }
   ],
   "source": [
    "# Demonstrate that if you use the same seed value twice, you will get the same random number twice:\n",
    "\n",
    "import random\n",
    "\n",
    "random.seed(10)\n",
    "print(random.random())\n",
    "\n",
    "random.seed(10)\n",
    "print(random.random())"
   ]
  },
  {
   "cell_type": "code",
   "execution_count": 5,
   "id": "fc5838ee",
   "metadata": {},
   "outputs": [
    {
     "name": "stdout",
     "output_type": "stream",
     "text": [
      "Current working directory: D:\\redlot academy\\Keltron Python\n"
     ]
    }
   ],
   "source": [
    "# importing os module\n",
    "import os\n",
    "     \n",
    "# Get the current working\n",
    "# directory (CWD)\n",
    "cwd = os.getcwd()\n",
    "     \n",
    "# Print the current working\n",
    "# directory (CWD)\n",
    "print(\"Current working directory:\", cwd)"
   ]
  },
  {
   "cell_type": "code",
   "execution_count": null,
   "id": "923893b2",
   "metadata": {},
   "outputs": [],
   "source": []
  }
 ],
 "metadata": {
  "kernelspec": {
   "display_name": "Python 3 (ipykernel)",
   "language": "python",
   "name": "python3"
  },
  "language_info": {
   "codemirror_mode": {
    "name": "ipython",
    "version": 3
   },
   "file_extension": ".py",
   "mimetype": "text/x-python",
   "name": "python",
   "nbconvert_exporter": "python",
   "pygments_lexer": "ipython3",
   "version": "3.9.7"
  }
 },
 "nbformat": 4,
 "nbformat_minor": 5
}
