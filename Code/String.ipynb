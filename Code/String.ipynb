{
  "cells": [
    {
      "cell_type": "markdown",
      "source": [
        "#**Strings**\n",
        "---\n",
        "Strings in python are surrounded by either single quotation marks, or double quotation marks.\n",
        "\n",
        "'hello' is the same as \"hello\".\n",
        "\n",
        "You can display a string literal with the print() function.\n"
      ],
      "metadata": {
        "id": "TsjRgrAvIGmK"
      },
      "id": "TsjRgrAvIGmK"
    },
    {
      "cell_type": "code",
      "source": [
        "print(\"Hello\")\n",
        "print('Hello')"
      ],
      "metadata": {
        "colab": {
          "base_uri": "https://localhost:8080/"
        },
        "id": "B3qTALEYIRKf",
        "outputId": "f7b40221-84c2-440c-ac7d-c8026c68cab9"
      },
      "id": "B3qTALEYIRKf",
      "execution_count": null,
      "outputs": [
        {
          "output_type": "stream",
          "name": "stdout",
          "text": [
            "Hello\n",
            "Hello\n"
          ]
        }
      ]
    },
    {
      "cell_type": "code",
      "execution_count": 4,
      "id": "87fe07d9",
      "metadata": {
        "id": "87fe07d9",
        "outputId": "24b50582-3eeb-471b-f75f-ea8a83be2c9e",
        "colab": {
          "base_uri": "https://localhost:8080/"
        }
      },
      "outputs": [
        {
          "output_type": "stream",
          "name": "stdout",
          "text": [
            "Single line String\n",
            "------------------\n",
            "('Kasaragod', 'Kerala')\n",
            "India, Kerala\n",
            "\n",
            " Multiline String\n",
            "----------------\n",
            "Kasaragod,\n",
            "Kerala,\n",
            "India\n",
            "\n"
          ]
        }
      ],
      "source": [
        "# String Representation\n",
        "# ---------------------\n",
        "# Using single or double quote\n",
        "\n",
        "print(\"Single line String\")\n",
        "print(\"------------------\")\n",
        "name_1 = \"Kasaragod\",\"Kerala\"\n",
        "name_2 = 'Kasaragod'\n",
        "print(name_1)\n",
        "print(\"India, Kerala\")\n",
        "\n",
        "\n",
        "print(\"\\n Multiline String\")\n",
        "print(\"----------------\")\n",
        "address = '''Kasaragod,\n",
        "Kerala,\n",
        "India\n",
        "'''\n",
        "print(address)"
      ]
    },
    {
      "cell_type": "markdown",
      "source": [
        "##**Strings as Array**\n",
        "You can access the elements in a string using square brackets by specifying the position.\n"
      ],
      "metadata": {
        "id": "yQrGzyxQImtD"
      },
      "id": "yQrGzyxQImtD"
    },
    {
      "cell_type": "code",
      "execution_count": 6,
      "id": "2e35ca3b",
      "metadata": {
        "colab": {
          "base_uri": "https://localhost:8080/",
          "height": 225
        },
        "id": "2e35ca3b",
        "outputId": "eef5189f-5024-40eb-e539-bfb86a93525c"
      },
      "outputs": [
        {
          "output_type": "error",
          "ename": "TypeError",
          "evalue": "ignored",
          "traceback": [
            "\u001b[0;31m---------------------------------------------------------------------------\u001b[0m",
            "\u001b[0;31mTypeError\u001b[0m                                 Traceback (most recent call last)",
            "\u001b[0;32m<ipython-input-6-5c7b679d9d0c>\u001b[0m in \u001b[0;36m<module>\u001b[0;34m()\u001b[0m\n\u001b[1;32m      1\u001b[0m \u001b[0mname\u001b[0m \u001b[0;34m=\u001b[0m \u001b[0;34m\"Kasaragod\"\u001b[0m\u001b[0;34m\u001b[0m\u001b[0;34m\u001b[0m\u001b[0m\n\u001b[0;32m----> 2\u001b[0;31m \u001b[0mname\u001b[0m\u001b[0;34m[\u001b[0m\u001b[0;36m0\u001b[0m\u001b[0;34m]\u001b[0m \u001b[0;34m=\u001b[0m \u001b[0;34m\"S\"\u001b[0m\u001b[0;34m\u001b[0m\u001b[0;34m\u001b[0m\u001b[0m\n\u001b[0m\u001b[1;32m      3\u001b[0m \u001b[0mprint\u001b[0m\u001b[0;34m(\u001b[0m\u001b[0mname\u001b[0m\u001b[0;34m[\u001b[0m\u001b[0;34m-\u001b[0m\u001b[0;36m1\u001b[0m\u001b[0;34m]\u001b[0m\u001b[0;34m)\u001b[0m\u001b[0;34m\u001b[0m\u001b[0;34m\u001b[0m\u001b[0m\n\u001b[1;32m      4\u001b[0m \u001b[0mprint\u001b[0m\u001b[0;34m(\u001b[0m\u001b[0mname\u001b[0m\u001b[0;34m[\u001b[0m\u001b[0;36m3\u001b[0m\u001b[0;34m]\u001b[0m\u001b[0;34m)\u001b[0m\u001b[0;34m\u001b[0m\u001b[0;34m\u001b[0m\u001b[0m\n",
            "\u001b[0;31mTypeError\u001b[0m: 'str' object does not support item assignment"
          ]
        }
      ],
      "source": [
        "name = \"Kasaragod\"\n",
        "print(name[-1])\n",
        "print(name[3])"
      ]
    },
    {
      "cell_type": "markdown",
      "source": [
        "##**Looping through a String**"
      ],
      "metadata": {
        "id": "Ms2VcAHCIy1q"
      },
      "id": "Ms2VcAHCIy1q"
    },
    {
      "cell_type": "code",
      "execution_count": null,
      "id": "ee88b26c",
      "metadata": {
        "colab": {
          "base_uri": "https://localhost:8080/"
        },
        "id": "ee88b26c",
        "outputId": "d111535a-adbc-4904-95f0-7d8d8c503537"
      },
      "outputs": [
        {
          "output_type": "stream",
          "name": "stdout",
          "text": [
            "K\n",
            "a\n",
            "s\n",
            "a\n",
            "r\n",
            "a\n",
            "g\n",
            "o\n",
            "d\n",
            "\n",
            "\n"
          ]
        }
      ],
      "source": [
        "for i in \"Kasaragod\":\n",
        "    print(i)\n",
        "    \n",
        "print(\"\\n\")"
      ]
    },
    {
      "cell_type": "markdown",
      "source": [
        "##**String Length**\n",
        "\n",
        " The len() function returns the length of a string."
      ],
      "metadata": {
        "id": "SbjhCQxRI6v-"
      },
      "id": "SbjhCQxRI6v-"
    },
    {
      "cell_type": "code",
      "execution_count": null,
      "id": "2d203fdc",
      "metadata": {
        "id": "2d203fdc",
        "outputId": "a63279ef-495b-423e-d91b-898dfecfb0d3"
      },
      "outputs": [
        {
          "name": "stdout",
          "output_type": "stream",
          "text": [
            "length :  9\n"
          ]
        }
      ],
      "source": [
        "name = \"Kasaragod\"\n",
        "print(\"length : \", len(name))"
      ]
    },
    {
      "cell_type": "markdown",
      "source": [
        "##**Check String**\n",
        "To check if a certain phrase or character is present in a string, we can use the keyword in.\n"
      ],
      "metadata": {
        "id": "EAFbqUxhJEMv"
      },
      "id": "EAFbqUxhJEMv"
    },
    {
      "cell_type": "code",
      "execution_count": null,
      "id": "da3c1b36",
      "metadata": {
        "id": "da3c1b36",
        "outputId": "53a4c0ac-6fa7-40c1-a9b9-4f7daf90c016",
        "colab": {
          "base_uri": "https://localhost:8080/",
          "height": 133
        }
      },
      "outputs": [
        {
          "output_type": "error",
          "ename": "IndentationError",
          "evalue": "ignored",
          "traceback": [
            "\u001b[0;36m  File \u001b[0;32m\"<ipython-input-1-1f2c314619ba>\"\u001b[0;36m, line \u001b[0;32m8\u001b[0m\n\u001b[0;31m    print(\"thank you\")\u001b[0m\n\u001b[0m                      ^\u001b[0m\n\u001b[0;31mIndentationError\u001b[0m\u001b[0;31m:\u001b[0m unindent does not match any outer indentation level\n"
          ]
        }
      ],
      "source": [
        "location = \"District : Kasaragod\"\n",
        "print(\"District\" in location)\n",
        "\n",
        "# Using if statement\n",
        "location = \"District : Kasaragod\"\n",
        "if \"District\" in location:\n",
        "    print(\"'District' is present\")\n",
        "    print(\"thank you\")\n",
        "\n"
      ]
    },
    {
      "cell_type": "markdown",
      "source": [
        "##**Check if Not**\n",
        " To check if a certain phrase or character is NOT present in a string, we can use the keyword not in\n"
      ],
      "metadata": {
        "id": "tXsQ0zHfJODV"
      },
      "id": "tXsQ0zHfJODV"
    },
    {
      "cell_type": "code",
      "execution_count": null,
      "id": "516a42ec",
      "metadata": {
        "colab": {
          "base_uri": "https://localhost:8080/"
        },
        "id": "516a42ec",
        "outputId": "6f902780-ce1a-4ca6-a188-697cc8e143b1"
      },
      "outputs": [
        {
          "output_type": "stream",
          "name": "stdout",
          "text": [
            "False\n",
            "'Distance' is not present\n"
          ]
        }
      ],
      "source": [
        "location = \"District : Kasaragod\"\n",
        "print(\"District\" not in location)\n",
        "\n",
        "# Using if statement\n",
        "location = \"District : Kasaragod\"\n",
        "if \"Distance\" not in location:\n",
        "    print(\"'Distance' is not present\")"
      ]
    },
    {
      "cell_type": "markdown",
      "source": [
        "##**String Slicing**\n",
        "* Return a range of characters by using the slice syntax.\n",
        "* Posetive indexing are done by left to right, start from zero.\n",
        "* Negative indexing are done by right to left, start from -1."
      ],
      "metadata": {
        "id": "laTDzlC6JUEL"
      },
      "id": "laTDzlC6JUEL"
    },
    {
      "cell_type": "code",
      "execution_count": null,
      "id": "ee9ae08f",
      "metadata": {
        "colab": {
          "base_uri": "https://localhost:8080/"
        },
        "id": "ee9ae08f",
        "outputId": "fbf7d0e1-4834-446b-cf6a-3a6ec491f7d1"
      },
      "outputs": [
        {
          "output_type": "stream",
          "name": "stdout",
          "text": [
            "stric\n",
            "District : Kasaragod\n",
            "rict : Kasaragod\n",
            "asara\n"
          ]
        }
      ],
      "source": [
        "location = \"District : Kasaragod\"\n",
        "\n",
        "print(location[2:7])\n",
        "print(location[:20])\n",
        "print(location[4:])\n",
        "\n",
        "print(location[-8:-3])"
      ]
    },
    {
      "cell_type": "markdown",
      "source": [
        "##**Modify Strings**"
      ],
      "metadata": {
        "id": "5BmGODGCJjF3"
      },
      "id": "5BmGODGCJjF3"
    },
    {
      "cell_type": "code",
      "execution_count": 8,
      "id": "97c31d46",
      "metadata": {
        "colab": {
          "base_uri": "https://localhost:8080/"
        },
        "id": "97c31d46",
        "outputId": "43a7f6e2-368d-451c-9cb1-2fc2a2bcccab"
      },
      "outputs": [
        {
          "output_type": "stream",
          "name": "stdout",
          "text": [
            "DISTRICT : KASARAGOD \n",
            "District : Kasaragod \n"
          ]
        }
      ],
      "source": [
        "# The upper() method returns the string in upper case\n",
        "\n",
        "a = \"District : Kasaragod \"\n",
        "print(a.upper())\n",
        "print(a)"
      ]
    },
    {
      "cell_type": "code",
      "source": [
        "# The lower() method returns the string in lower case\n",
        "\n",
        "a = \"District : Kasaragod \"\n",
        "print(a.lower())"
      ],
      "metadata": {
        "colab": {
          "base_uri": "https://localhost:8080/"
        },
        "id": "aZqX5t2HJrvt",
        "outputId": "47485548-254e-488b-998c-2157e9354641"
      },
      "id": "aZqX5t2HJrvt",
      "execution_count": null,
      "outputs": [
        {
          "output_type": "stream",
          "name": "stdout",
          "text": [
            "district : kasaragod \n"
          ]
        }
      ]
    },
    {
      "cell_type": "code",
      "source": [
        "# The strip() method removes any whitespace from the beginning or the end\n",
        "\n",
        "a = \"  District : Kasaragod   \"\n",
        "print(a.strip())\n",
        "print(a)"
      ],
      "metadata": {
        "colab": {
          "base_uri": "https://localhost:8080/"
        },
        "id": "duMrvJMUJwVX",
        "outputId": "2520707c-0dab-472e-8af4-e06d46a136e8"
      },
      "id": "duMrvJMUJwVX",
      "execution_count": 10,
      "outputs": [
        {
          "output_type": "stream",
          "name": "stdout",
          "text": [
            "District : Kasaragod\n",
            "  District : Kasaragod   \n"
          ]
        }
      ]
    },
    {
      "cell_type": "code",
      "source": [
        "# The replace() method replaces a string with another string\n",
        "\n",
        "a = \"District : Kasaragod\"\n",
        "print(a.replace(\"t\", \"J\"))\n",
        "print(a)"
      ],
      "metadata": {
        "colab": {
          "base_uri": "https://localhost:8080/"
        },
        "id": "QdReah5WJzLH",
        "outputId": "6bbb8d84-dc4d-4c1a-f117-d56d4b265a7c"
      },
      "id": "QdReah5WJzLH",
      "execution_count": null,
      "outputs": [
        {
          "output_type": "stream",
          "name": "stdout",
          "text": [
            "DisJricJ : Kasaragod \n",
            "District : Kasaragod \n"
          ]
        }
      ]
    },
    {
      "cell_type": "code",
      "source": [
        "# The split() method splits the string into substrings if it finds instances of the separator\n",
        "\n",
        "a = \"District : Kasaragod\"\n",
        "print(a.split(\":\")) #default delimiter is space"
      ],
      "metadata": {
        "colab": {
          "base_uri": "https://localhost:8080/"
        },
        "id": "_FgDCusFJ29d",
        "outputId": "5cddd054-83b9-4656-8961-1049157a3265"
      },
      "id": "_FgDCusFJ29d",
      "execution_count": 12,
      "outputs": [
        {
          "output_type": "stream",
          "name": "stdout",
          "text": [
            "['District ', ' Kasaragod']\n"
          ]
        }
      ]
    },
    {
      "cell_type": "markdown",
      "source": [
        "##**String Concatenation**"
      ],
      "metadata": {
        "id": "--k_tMHJJ8AJ"
      },
      "id": "--k_tMHJJ8AJ"
    },
    {
      "cell_type": "code",
      "execution_count": 21,
      "id": "ec7814fb",
      "metadata": {
        "id": "ec7814fb",
        "outputId": "664071cc-884b-40ae-e311-db047fe99b4e",
        "colab": {
          "base_uri": "https://localhost:8080/"
        }
      },
      "outputs": [
        {
          "output_type": "stream",
          "name": "stdout",
          "text": [
            ": tcirtsiD\n",
            "District :Kasaragod\n"
          ]
        }
      ],
      "source": [
        "a = \"District :\"\n",
        "b = \"Kasaragod\"\n",
        "print(a[::-1])\n",
        "print(a+b)"
      ]
    },
    {
      "cell_type": "code",
      "source": [
        "a=11\n",
        "b=str(a)\n",
        "print(b[::-1])\n",
        "print(a==int(b))"
      ],
      "metadata": {
        "colab": {
          "base_uri": "https://localhost:8080/"
        },
        "id": "3A38NyOxshnB",
        "outputId": "fb1e92bc-0426-457a-9728-c2f079b77c56"
      },
      "id": "3A38NyOxshnB",
      "execution_count": 27,
      "outputs": [
        {
          "output_type": "stream",
          "name": "stdout",
          "text": [
            "11\n",
            "True\n"
          ]
        }
      ]
    },
    {
      "cell_type": "markdown",
      "source": [
        "##**String Format**\n",
        "we cannot combine strings and numbers using +.\n",
        "\n",
        "we can combine strings and numbers by using the format() method.\n",
        "\n",
        "The format() method takes the passed arguments, formats them, and places them in the string where the placeholders {} are.\n"
      ],
      "metadata": {
        "id": "SNDTpYVRJ_G8"
      },
      "id": "SNDTpYVRJ_G8"
    },
    {
      "cell_type": "code",
      "execution_count": 15,
      "id": "5462bde6",
      "metadata": {
        "colab": {
          "base_uri": "https://localhost:8080/"
        },
        "id": "5462bde6",
        "outputId": "533d7f29-772c-493d-9f8a-42ea1488063d"
      },
      "outputs": [
        {
          "output_type": "stream",
          "name": "stdout",
          "text": [
            "My age is 36\n",
            "I want 52 pieces of item 567 for 49.95 dollars.\n",
            "I want to pay 49.95 dollars for 3 pieces of item 567.\n"
          ]
        }
      ],
      "source": [
        "age = 36\n",
        "details = \"My age is {}\"\n",
        "print(details.format(age))\n",
        "\n",
        "# The format() method takes unlimited number of arguments, and are placed into the respective placeholders.\n",
        "quantity = 3\n",
        "itemno = 567\n",
        "price = 49.95\n",
        "myorder = \"I want {} pieces of item {} for {} dollars.\"\n",
        "print(myorder.format(quantity, itemno, price))\n",
        "\n",
        "# You can use index numbers {0} to be sure the arguments are placed in the correct placeholders\n",
        "quantity = 3\n",
        "itemno = 567\n",
        "price = 49.95\n",
        "myorder = \"I want to pay {2} dollars for {0} pieces of item {1}.\"\n",
        "print(myorder.format(quantity, itemno, price))"
      ]
    },
    {
      "cell_type": "markdown",
      "source": [
        "##**Escape Characters**"
      ],
      "metadata": {
        "id": "4ur3kfJEKLQa"
      },
      "id": "4ur3kfJEKLQa"
    },
    {
      "cell_type": "code",
      "execution_count": null,
      "id": "2922779a",
      "metadata": {
        "id": "2922779a"
      },
      "outputs": [],
      "source": [
        "\\   Single Quote\n",
        "\\\\  Backslash\n",
        "\\n  New Line\n",
        "\\t  Tab\n",
        "\\b  Backspace"
      ]
    },
    {
      "cell_type": "markdown",
      "source": [
        "##**String Methods**\n"
      ],
      "metadata": {
        "id": "zCNKUwDyKdi_"
      },
      "id": "zCNKUwDyKdi_"
    },
    {
      "cell_type": "code",
      "source": [
        "capitalize()    Converts the first character to upper case\n",
        "casefold()      Converts string into lower case\n",
        "center()        Returns a centered string\n",
        "count()         Returns the number of times a specified value occurs in a string\n",
        "find()          Searches the string for a specified value and returns the position of where it was found\n",
        "index()         Searches the string for a specified value and returns the position of where it was found\n",
        "isalnum()       Returns True if all characters in the string are alphanumeric\n",
        "isalpha()       Returns True if all characters in the string are in the alphabet\n",
        "isdecimal()     Returns True if all characters in the string are decimals\n",
        "isdigit()       Returns True if all characters in the string are digits\n"
      ],
      "metadata": {
        "id": "HR7OzZLFKi3L"
      },
      "id": "HR7OzZLFKi3L",
      "execution_count": null,
      "outputs": []
    }
  ],
  "metadata": {
    "celltoolbar": "Raw Cell Format",
    "kernelspec": {
      "display_name": "Python 3 (ipykernel)",
      "language": "python",
      "name": "python3"
    },
    "language_info": {
      "codemirror_mode": {
        "name": "ipython",
        "version": 3
      },
      "file_extension": ".py",
      "mimetype": "text/x-python",
      "name": "python",
      "nbconvert_exporter": "python",
      "pygments_lexer": "ipython3",
      "version": "3.10.2"
    },
    "colab": {
      "name": " String.ipynb",
      "provenance": []
    }
  },
  "nbformat": 4,
  "nbformat_minor": 5
}