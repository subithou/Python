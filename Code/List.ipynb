{
 "cells": [
  {
   "cell_type": "code",
   "execution_count": null,
   "id": "e39ab179",
   "metadata": {},
   "outputs": [],
   "source": [
    "# The list() Constructor\n",
    "# ----------------------\n",
    "# Using the list() constructor to make a List\n",
    "\n",
    "\n",
    "fruits = list((\"apple\", \"banana\", \"cherry\")) # note the double round-brackets\n",
    "print(fruits)\n"
   ]
  },
  {
   "cell_type": "code",
   "execution_count": null,
   "id": "8827e151",
   "metadata": {},
   "outputs": [],
   "source": [
    "# Access List Items\n",
    "# -----------------\n",
    "# ist items are indexed and you can access them by referring to the index number\n",
    "thislist = [\"apple\", \"banana\", \"cherry\"]\n",
    "print(thislist[1])\n",
    "\n",
    "# Negative Indexing\n",
    "thislist = [\"apple\", \"banana\", \"cherry\"]\n",
    "print(thislist[-1])\n",
    "\n",
    "# Range of Indexes\n",
    "thislist = [\"apple\", \"banana\", \"cherry\", \"orange\", \"kiwi\", \"melon\", \"mango\"]\n",
    "print(thislist[2:5])\n",
    "\n",
    "thislist = [\"apple\", \"banana\", \"cherry\", \"orange\", \"kiwi\", \"melon\", \"mango\"]\n",
    "print(thislist[:4])\n",
    "\n",
    "thislist = [\"apple\", \"banana\", \"cherry\", \"orange\", \"kiwi\", \"melon\", \"mango\"]\n",
    "print(thislist[2:])\n",
    "\n",
    "# Range of Negative Indexes\n",
    "thislist = [\"apple\", \"banana\", \"cherry\", \"orange\", \"kiwi\", \"melon\", \"mango\"]\n",
    "print(thislist[-4:-1])"
   ]
  },
  {
   "cell_type": "code",
   "execution_count": null,
   "id": "f51de840",
   "metadata": {},
   "outputs": [],
   "source": [
    "# Check if Item Exists\n",
    "# --------------------\n",
    "\n",
    "thislist = [\"apple\", \"banana\", \"cherry\"]\n",
    "if \"apple\" in thislist:\n",
    "  print(\"Yes, 'apple' is in the fruits list\")\n"
   ]
  },
  {
   "cell_type": "code",
   "execution_count": null,
   "id": "f3f63d8c",
   "metadata": {},
   "outputs": [],
   "source": [
    "# Change Item Value\n",
    "# -----------------\n",
    "\n",
    "thislist = [\"apple\", \"banana\", \"cherry\"]\n",
    "thislist[1] = \"blackcurrant\"\n",
    "print(thislist)\n",
    "\n",
    "# Change a Range of Item Values\n",
    "thislist = [\"apple\", \"banana\", \"cherry\", \"orange\", \"kiwi\", \"mango\"]\n",
    "thislist[1:3] = [\"blackcurrant\", \"watermelon\"]\n",
    "print(thislist)\n",
    "\n",
    "# Change the second value by replacing it with two new values\n",
    "thislist = [\"apple\", \"banana\", \"cherry\"]\n",
    "thislist[1:2] = [\"blackcurrant\", \"watermelon\"]\n",
    "print(thislist)\n",
    "\n",
    "# Change the second and third value by replacing it with one value\n",
    "thislist = [\"apple\", \"banana\", \"cherry\"]\n",
    "thislist[1:3] = [\"watermelon\"]\n",
    "print(thislist)"
   ]
  },
  {
   "cell_type": "code",
   "execution_count": 1,
   "id": "14036cdd",
   "metadata": {},
   "outputs": [
    {
     "name": "stdout",
     "output_type": "stream",
     "text": [
      "['apple', 'banana', 'watermelon', 'cherry']\n"
     ]
    }
   ],
   "source": [
    "# Insert Items\n",
    "# ------------\n",
    "\n",
    "thislist = [\"apple\", \"banana\", \"cherry\"]\n",
    "thislist.insert(2, \"watermelon\")\n",
    "print(thislist)\n"
   ]
  },
  {
   "cell_type": "code",
   "execution_count": 2,
   "id": "8d39210d",
   "metadata": {},
   "outputs": [
    {
     "name": "stdout",
     "output_type": "stream",
     "text": [
      "['apple', 'banana', 'cherry', 'orange']\n",
      "['apple', 'banana', 'cherry', 'mango', 'pineapple', 'papaya']\n",
      "['apple', 'banana', 'cherry', 'kiwi', 'orange']\n"
     ]
    }
   ],
   "source": [
    "# Add List Items\n",
    "# --------------\n",
    "\n",
    "# Using the append() method to append an item\n",
    "thislist = [\"apple\", \"banana\", \"cherry\"]\n",
    "thislist.append(\"orange\")\n",
    "print(thislist)\n",
    "\n",
    "# Extend List\n",
    "# To append elements from another list to the current list, use the extend() method\n",
    "thislist = [\"apple\", \"banana\", \"cherry\"]\n",
    "tropical = [\"mango\", \"pineapple\", \"papaya\"]\n",
    "thislist.extend(tropical)\n",
    "print(thislist)\n",
    "\n",
    "#The extend() method does not have to append lists, you can add any iterable object (tuples, sets, dictionaries etc.).\n",
    "thislist = [\"apple\", \"banana\", \"cherry\"]\n",
    "thistuple = (\"kiwi\", \"orange\")\n",
    "thislist.extend(thistuple)\n",
    "print(thislist)"
   ]
  },
  {
   "cell_type": "code",
   "execution_count": null,
   "id": "f4554124",
   "metadata": {},
   "outputs": [],
   "source": [
    "# Remove List Items\n",
    "# -----------------\n",
    "\n",
    "# The remove() method removes the specified item\n",
    "thislist = [\"apple\", \"banana\", \"cherry\"]\n",
    "thislist.remove(\"banana\")\n",
    "print(thislist)\n",
    "\n",
    "# Remove Specified Index\n",
    "# The pop() method removes the specified index\n",
    "# If you do not specify the index, the pop() method removes the last item\n",
    "\n",
    "thislist = [\"apple\", \"banana\", \"cherry\"]\n",
    "thislist.pop(1)\n",
    "print(thislist)\n",
    "\n",
    "# Remove the last item\n",
    "\n",
    "thislist = [\"apple\", \"banana\", \"cherry\"]\n",
    "thislist.pop()\n",
    "print(thislist)\n",
    "\n",
    "# The del keyword also removes the specified index\n",
    "\n",
    "thislist = [\"apple\", \"banana\", \"cherry\"]\n",
    "del thislist[0]\n",
    "print(thislist)\n",
    "\n",
    "# Delete the entire list\n",
    "\n",
    "thislist = [\"apple\", \"banana\", \"cherry\"]\n",
    "del thislist\n",
    "\n",
    "# The clear() method empties the list\n",
    "thislist = [\"apple\", \"banana\", \"cherry\"]\n",
    "thislist.clear()\n",
    "print(thislist)"
   ]
  },
  {
   "cell_type": "code",
   "execution_count": 3,
   "id": "4d6b7867",
   "metadata": {},
   "outputs": [
    {
     "name": "stdout",
     "output_type": "stream",
     "text": [
      "['banana', 'kiwi', 'mango', 'orange', 'pineapple']\n",
      "[23, 50, 65, 82, 100]\n",
      "['pineapple', 'orange', 'mango', 'kiwi', 'banana']\n",
      "[100, 82, 65, 50, 23]\n",
      "['Kiwi', 'Orange', 'banana', 'cherry']\n",
      "['banana', 'cherry', 'Kiwi', 'Orange']\n",
      "['cherry', 'Kiwi', 'Orange', 'banana']\n"
     ]
    }
   ],
   "source": [
    "#  Sort Lists\n",
    "# -----------\n",
    "\n",
    "# Sort the list alphabetically\n",
    "thislist = [\"orange\", \"mango\", \"kiwi\", \"pineapple\", \"banana\"]\n",
    "thislist.sort()\n",
    "print(thislist)\n",
    "\n",
    "# Sort the list numerically\n",
    "thislist = [100, 50, 65, 82, 23]\n",
    "thislist.sort()\n",
    "print(thislist)\n",
    "\n",
    "# Sort the list descending:\n",
    "thislist = [\"orange\", \"mango\", \"kiwi\", \"pineapple\", \"banana\"]\n",
    "thislist.sort(reverse = True)\n",
    "print(thislist)\n",
    "\n",
    "# Sort the list descending:\n",
    "thislist = [100, 50, 65, 82, 23]\n",
    "thislist.sort(reverse = True)\n",
    "print(thislist)\n",
    "\n",
    "# By default the sort() method is case sensitive, resulting in all capital letters being sorted before lower case letters\n",
    "# Case sensitive sorting can give an unexpected result:\n",
    "thislist = [\"banana\", \"Orange\", \"Kiwi\", \"cherry\"]\n",
    "thislist.sort()\n",
    "print(thislist)\n",
    "\n",
    "# Perform a case-insensitive sort of the list:\n",
    "thislist = [\"banana\", \"Orange\", \"Kiwi\", \"cherry\"]\n",
    "thislist.sort(key = str.lower)\n",
    "print(thislist)\n",
    "\n",
    "# The reverse() method reverses the current sorting order of the elements\n",
    "thislist = [\"banana\", \"Orange\", \"Kiwi\", \"cherry\"]\n",
    "thislist.reverse()\n",
    "print(thislist)"
   ]
  },
  {
   "cell_type": "code",
   "execution_count": null,
   "id": "6ec80707",
   "metadata": {},
   "outputs": [],
   "source": [
    "# Copy Lists\n",
    "# ----------\n",
    "# You cannot copy a list simply by typing list2 = list1, because: list2 will only be a reference to list1, and changes made in list1 will automatically also be made in list2\n",
    "\n",
    "# Make a copy of a list with the copy() method:\n",
    "thislist = [\"apple\", \"banana\", \"cherry\"]\n",
    "mylist = thislist.copy()\n",
    "print(mylist)\n",
    "\n",
    "# Another way to make a copy is to use the built-in method list().\n",
    "# Make a copy of a list with the list() method\n",
    "thislist = [\"apple\", \"banana\", \"cherry\"]\n",
    "mylist = list(thislist)\n",
    "print(mylist)"
   ]
  },
  {
   "cell_type": "code",
   "execution_count": null,
   "id": "9810e206",
   "metadata": {},
   "outputs": [],
   "source": [
    "# Join Lists\n",
    "# ----------\n",
    "\n",
    "list1 = [\"a\", \"b\", \"c\"]\n",
    "list2 = [1, 2, 3]\n",
    "\n",
    "list3 = list1 + list2\n",
    "print(list3)\n",
    "\n",
    "# Append list2 into list1\n",
    "list1 = [\"a\", \"b\" , \"c\"]\n",
    "list2 = [1, 2, 3]\n",
    "\n",
    "for x in list2:\n",
    "  list1.append(x)\n",
    "\n",
    "print(list1)\n",
    "\n",
    "# Use the extend() method to add list2 at the end of list1\n",
    "list1 = [\"a\", \"b\" , \"c\"]\n",
    "list2 = [1, 2, 3]\n",
    "\n",
    "list1.extend(list2)\n",
    "print(list1)"
   ]
  },
  {
   "cell_type": "code",
   "execution_count": null,
   "id": "fac5aa84",
   "metadata": {},
   "outputs": [],
   "source": [
    "# List Methods\n",
    "# ------------\n",
    "\n",
    "append()    Adds an element at the end of the list\n",
    "clear()     Removes all the elements from the list\n",
    "copy()      Returns a copy of the list\n",
    "count()     Returns the number of elements with the specified value\n",
    "extend()    Add the elements of a list (or any iterable), to the end of the current list\n",
    "index()     Returns the index of the first element with the specified value\n",
    "insert()    Adds an element at the specified position\n",
    "pop()       Removes the element at the specified position\n",
    "remove()    Removes the item with the specified value\n",
    "reverse()   Reverses the order of the list\n",
    "sort()      Sorts the list\n"
   ]
  }
 ],
 "metadata": {
  "celltoolbar": "Raw Cell Format",
  "kernelspec": {
   "display_name": "Python 3 (ipykernel)",
   "language": "python",
   "name": "python3"
  },
  "language_info": {
   "codemirror_mode": {
    "name": "ipython",
    "version": 3
   },
   "file_extension": ".py",
   "mimetype": "text/x-python",
   "name": "python",
   "nbconvert_exporter": "python",
   "pygments_lexer": "ipython3",
   "version": "3.9.7"
  }
 },
 "nbformat": 4,
 "nbformat_minor": 5
}
