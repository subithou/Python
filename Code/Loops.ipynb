{
 "cells": [
  {
   "cell_type": "code",
   "execution_count": 6,
   "id": "94c77dde",
   "metadata": {},
   "outputs": [
    {
     "ename": "SyntaxError",
     "evalue": "invalid syntax (Temp/ipykernel_16000/2334880314.py, line 1)",
     "output_type": "error",
     "traceback": [
      "\u001b[1;36m  File \u001b[1;32m\"C:\\Users\\unknown\\AppData\\Local\\Temp/ipykernel_16000/2334880314.py\"\u001b[1;36m, line \u001b[1;32m1\u001b[0m\n\u001b[1;33m    Python While Loops\u001b[0m\n\u001b[1;37m           ^\u001b[0m\n\u001b[1;31mSyntaxError\u001b[0m\u001b[1;31m:\u001b[0m invalid syntax\n"
     ]
    }
   ],
   "source": [
    "Python While Loops\n",
    "-------------------\n",
    "Python has two primitive loop commands:\n",
    "\n",
    "while loops\n",
    "for loops"
   ]
  },
  {
   "cell_type": "code",
   "execution_count": 7,
   "id": "8ad4ea5a",
   "metadata": {},
   "outputs": [
    {
     "name": "stdout",
     "output_type": "stream",
     "text": [
      "1\n",
      "2\n",
      "3\n",
      "4\n",
      "5\n"
     ]
    }
   ],
   "source": [
    "# The while Loop\n",
    "# --------------\n",
    "# With the while loop we can execute a set of statements as long as a condition is true.\n",
    "# Print i as long as i is less than 6\n",
    "\n",
    "i = 1\n",
    "while i < 6:\n",
    "  print(i)\n",
    "  i += 1\n",
    "    \n",
    "'''Note: remember to increment i, or else the loop will continue forever.'''"
   ]
  },
  {
   "cell_type": "code",
   "execution_count": 9,
   "id": "d147943b",
   "metadata": {},
   "outputs": [
    {
     "name": "stdout",
     "output_type": "stream",
     "text": [
      "1\n",
      "2\n",
      "3\n"
     ]
    }
   ],
   "source": [
    "# he break Statement\n",
    "# -------------------\n",
    "# With the break statement we can stop the loop even if the while condition is true:\n",
    "\n",
    "# Exit the loop when i is 3:\n",
    "\n",
    "i = 1\n",
    "while i < 6:\n",
    "  print(i)\n",
    "  if i == 3:\n",
    "    break\n",
    "  i += 1"
   ]
  },
  {
   "cell_type": "code",
   "execution_count": 10,
   "id": "770401fa",
   "metadata": {},
   "outputs": [
    {
     "name": "stdout",
     "output_type": "stream",
     "text": [
      "1\n",
      "2\n",
      "4\n",
      "5\n",
      "6\n"
     ]
    }
   ],
   "source": [
    "# The continue Statement\n",
    "# ----------------------\n",
    "# With the continue statement we can stop the current iteration, and continue with the next:\n",
    "\n",
    "# Continue to the next iteration if i is 3:\n",
    "\n",
    "i = 0\n",
    "while i < 6:\n",
    "  i += 1\n",
    "  if i == 3:\n",
    "    continue\n",
    "  print(i)"
   ]
  },
  {
   "cell_type": "code",
   "execution_count": 11,
   "id": "2c8ec365",
   "metadata": {},
   "outputs": [
    {
     "name": "stdout",
     "output_type": "stream",
     "text": [
      "1\n",
      "2\n",
      "3\n",
      "4\n",
      "5\n",
      "i is no longer less than 6\n"
     ]
    }
   ],
   "source": [
    "# The else Statement\n",
    "# ------------------\n",
    "# With the else statement we can run a block of code once when the condition no longer is true:\n",
    "\n",
    "# Print a message once the condition is false:\n",
    "\n",
    "i = 1\n",
    "while i < 6:\n",
    "  print(i)\n",
    "  i += 1\n",
    "else:\n",
    "  print(\"i is no longer less than 6\")"
   ]
  },
  {
   "cell_type": "code",
   "execution_count": 12,
   "id": "526a7b98",
   "metadata": {},
   "outputs": [
    {
     "name": "stdout",
     "output_type": "stream",
     "text": [
      "apple\n",
      "banana\n",
      "cherry\n"
     ]
    }
   ],
   "source": [
    "'''Python For Loops\n",
    "----------------\n",
    "1. A for loop is used for iterating over a sequence (that is either a list, a tuple, a dictionary, a set, or a string).\n",
    "2. This is less like the for keyword in other programming languages, and works more like an iterator method as found in \n",
    "other object-orientated programming languages.\n",
    "3. With the for loop we can execute a set of statements, once for each item in a list, tuple, set etc.'''\n",
    "\n",
    "# Print each fruit in a fruit list:\n",
    "\n",
    "fruits = [\"apple\", \"banana\", \"cherry\"]\n",
    "for x in fruits:\n",
    "  print(x)"
   ]
  },
  {
   "cell_type": "code",
   "execution_count": 13,
   "id": "478e9202",
   "metadata": {},
   "outputs": [
    {
     "name": "stdout",
     "output_type": "stream",
     "text": [
      "b\n",
      "a\n",
      "n\n",
      "a\n",
      "n\n",
      "a\n"
     ]
    }
   ],
   "source": [
    "# Looping Through a String\n",
    "# -----------------------\n",
    "# Even strings are iterable objects, they contain a sequence of characters:\n",
    "\n",
    "for x in \"banana\":\n",
    "  print(x)\n"
   ]
  },
  {
   "cell_type": "code",
   "execution_count": 14,
   "id": "662311d1",
   "metadata": {},
   "outputs": [
    {
     "name": "stdout",
     "output_type": "stream",
     "text": [
      "apple\n",
      "banana\n"
     ]
    }
   ],
   "source": [
    "# The break Statement\n",
    "# -------------------\n",
    "# With the break statement we can stop the loop before it has looped through all the items:\n",
    "\n",
    "# Exit the loop when x is \"banana\":\n",
    "\n",
    "fruits = [\"apple\", \"banana\", \"cherry\"]\n",
    "for x in fruits:\n",
    "  print(x)\n",
    "  if x == \"banana\":\n",
    "    break\n"
   ]
  },
  {
   "cell_type": "code",
   "execution_count": 15,
   "id": "2b3b3ff6",
   "metadata": {},
   "outputs": [
    {
     "name": "stdout",
     "output_type": "stream",
     "text": [
      "apple\n"
     ]
    }
   ],
   "source": [
    "# Exit the loop when x is \"banana\", but this time the break comes before the print:\n",
    "\n",
    "fruits = [\"apple\", \"banana\", \"cherry\"]\n",
    "for x in fruits:\n",
    "  if x == \"banana\":\n",
    "    break\n",
    "  print(x)"
   ]
  },
  {
   "cell_type": "code",
   "execution_count": 16,
   "id": "ede5d467",
   "metadata": {},
   "outputs": [
    {
     "name": "stdout",
     "output_type": "stream",
     "text": [
      "apple\n",
      "cherry\n"
     ]
    }
   ],
   "source": [
    "# The continue Statement\n",
    "# ----------------------\n",
    "# With the continue statement we can stop the current iteration of the loop, and continue with the next:\n",
    "\n",
    "# Do not print banana:\n",
    "\n",
    "fruits = [\"apple\", \"banana\", \"cherry\"]\n",
    "for x in fruits:\n",
    "  if x == \"banana\":\n",
    "    continue\n",
    "  print(x)"
   ]
  },
  {
   "cell_type": "code",
   "execution_count": 17,
   "id": "22b7fefa",
   "metadata": {},
   "outputs": [
    {
     "name": "stdout",
     "output_type": "stream",
     "text": [
      "0\n",
      "1\n",
      "2\n",
      "3\n",
      "4\n",
      "5\n"
     ]
    }
   ],
   "source": [
    "# The range() Function\n",
    "# --------------------\n",
    "# To loop through a set of code a specified number of times, we can use the range() function,\n",
    "# The range() function returns a sequence of numbers, starting from 0 by default, and increments by 1 (by default),\n",
    "# and ends at a specified number.\n",
    "\n",
    "# Using the range() function:\n",
    "\n",
    "for x in range(6):\n",
    "  print(x)\n",
    "\n",
    "'''Note: that range(6) is not the values of 0 to 6, but the values 0 to 5.'''"
   ]
  },
  {
   "cell_type": "code",
   "execution_count": 18,
   "id": "7cf32582",
   "metadata": {},
   "outputs": [
    {
     "name": "stdout",
     "output_type": "stream",
     "text": [
      "2\n",
      "3\n",
      "4\n",
      "5\n"
     ]
    }
   ],
   "source": [
    "'''\n",
    "The range() function defaults to 0 as a starting value, \n",
    "however it is possible to specify the starting value by adding a parameter: range(2, 6), \n",
    "which means values from 2 to 6 (but not including 6):\n",
    "'''\n",
    "# Using the start parameter:\n",
    "\n",
    "for x in range(2, 6):\n",
    "  print(x)"
   ]
  },
  {
   "cell_type": "code",
   "execution_count": 19,
   "id": "fdc4f501",
   "metadata": {},
   "outputs": [
    {
     "name": "stdout",
     "output_type": "stream",
     "text": [
      "2\n",
      "5\n",
      "8\n",
      "11\n",
      "14\n",
      "17\n",
      "20\n",
      "23\n",
      "26\n",
      "29\n"
     ]
    }
   ],
   "source": [
    "'''\n",
    "The range() function defaults to increment the sequence by 1, \n",
    "however it is possible to specify the increment value by adding a third parameter: range(2, 30, 3)\n",
    "'''\n",
    "\n",
    "# Increment the sequence with 3 (default is 1):\n",
    "\n",
    "for x in range(2, 30, 3):\n",
    "  print(x)"
   ]
  },
  {
   "cell_type": "code",
   "execution_count": 20,
   "id": "cdc1ebe0",
   "metadata": {},
   "outputs": [
    {
     "name": "stdout",
     "output_type": "stream",
     "text": [
      "0\n",
      "1\n",
      "2\n",
      "3\n",
      "4\n",
      "5\n",
      "Finally finished!\n"
     ]
    }
   ],
   "source": [
    "'''\n",
    "Else in For Loop\n",
    "The else keyword in a for loop specifies a block of code to be executed when the loop is finished\n",
    "'''\n",
    "# Print all numbers from 0 to 5, and print a message when the loop has ended:\n",
    "\n",
    "for x in range(6):\n",
    "  print(x)\n",
    "else:\n",
    "  print(\"Finally finished!\")\n",
    "\n",
    "\n",
    "'''Note: The else block will NOT be executed if the loop is stopped by a break statement.'''"
   ]
  },
  {
   "cell_type": "code",
   "execution_count": 21,
   "id": "0778a503",
   "metadata": {},
   "outputs": [
    {
     "name": "stdout",
     "output_type": "stream",
     "text": [
      "red apple\n",
      "red banana\n",
      "red cherry\n",
      "big apple\n",
      "big banana\n",
      "big cherry\n",
      "tasty apple\n",
      "tasty banana\n",
      "tasty cherry\n"
     ]
    }
   ],
   "source": [
    "# Nested Loops\n",
    "# ------------\n",
    "# A nested loop is a loop inside a loop.\n",
    "# The \"inner loop\" will be executed one time for each iteration of the \"outer loop\"\n",
    "\n",
    "# Print each adjective for every fruit:\n",
    "\n",
    "adj = [\"red\", \"big\", \"tasty\"]\n",
    "fruits = [\"apple\", \"banana\", \"cherry\"]\n",
    "\n",
    "for x in adj:\n",
    "  for y in fruits:\n",
    "    print(x, y)"
   ]
  },
  {
   "cell_type": "code",
   "execution_count": 22,
   "id": "5b9120cb",
   "metadata": {},
   "outputs": [],
   "source": [
    "# The pass Statement\n",
    "# ------------------\n",
    "# for loops cannot be empty, but if you for some reason have a for loop with no content, \n",
    "# put in the pass statement to avoid getting an error.\n",
    "\n",
    "for x in [0, 1, 2]:\n",
    "  pass"
   ]
  },
  {
   "cell_type": "code",
   "execution_count": null,
   "id": "3db5aeca",
   "metadata": {},
   "outputs": [],
   "source": []
  }
 ],
 "metadata": {
  "kernelspec": {
   "display_name": "Python 3 (ipykernel)",
   "language": "python",
   "name": "python3"
  },
  "language_info": {
   "codemirror_mode": {
    "name": "ipython",
    "version": 3
   },
   "file_extension": ".py",
   "mimetype": "text/x-python",
   "name": "python",
   "nbconvert_exporter": "python",
   "pygments_lexer": "ipython3",
   "version": "3.9.7"
  }
 },
 "nbformat": 4,
 "nbformat_minor": 5
}
