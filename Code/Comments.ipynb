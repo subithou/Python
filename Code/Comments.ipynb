{
 "cells": [
  {
   "cell_type": "code",
   "execution_count": null,
   "id": "4e8097c8",
   "metadata": {},
   "outputs": [],
   "source": [
    "Python Comments\n",
    "---------------\n",
    "1. Comments can be used to explain Python code.\n",
    "2. Comments can be used to make the code more readable.\n",
    "3. Comments can be used to prevent execution when testing code"
   ]
  },
  {
   "cell_type": "code",
   "execution_count": 1,
   "id": "2a7b52f0",
   "metadata": {},
   "outputs": [
    {
     "name": "stdout",
     "output_type": "stream",
     "text": [
      "Hello, World!\n"
     ]
    }
   ],
   "source": [
    "'''\n",
    "Creating a Comment\n",
    "------------------\n",
    "Comments starts with a #, and Python will ignore them\n",
    "'''\n",
    "\n",
    "#This is a comment\n",
    "print(\"Hello, World!\")"
   ]
  },
  {
   "cell_type": "code",
   "execution_count": 2,
   "id": "5a40c4f5",
   "metadata": {},
   "outputs": [
    {
     "name": "stdout",
     "output_type": "stream",
     "text": [
      "Hello, World!\n"
     ]
    }
   ],
   "source": [
    "# Comments can be placed at the end of a line, and Python will ignore the rest of the line\n",
    "print(\"Hello, World!\") #This is a comment"
   ]
  },
  {
   "cell_type": "code",
   "execution_count": null,
   "id": "0a31fdec",
   "metadata": {},
   "outputs": [],
   "source": [
    "# A comment does not have to be text that explains the code, it can also be used to prevent Python from executing code\n",
    "\n",
    "# print(\"Hello, World!\")\n",
    "print(\"Cheers, Mate!\")"
   ]
  },
  {
   "cell_type": "code",
   "execution_count": null,
   "id": "26063d4d",
   "metadata": {},
   "outputs": [],
   "source": [
    "Multi Line Comments\n",
    "-----------------------\n",
    "Python does not really have a syntax for multi line comments.\n",
    "To add a multiline comment you could insert a # for each line\n"
   ]
  },
  {
   "cell_type": "code",
   "execution_count": 4,
   "id": "f2381698",
   "metadata": {},
   "outputs": [
    {
     "name": "stdout",
     "output_type": "stream",
     "text": [
      "Hello, World!\n"
     ]
    }
   ],
   "source": [
    "# This is a comment\n",
    "# written in\n",
    "# more than just one line\n",
    "print(\"Hello, World!\")"
   ]
  },
  {
   "cell_type": "code",
   "execution_count": 5,
   "id": "b28140af",
   "metadata": {},
   "outputs": [
    {
     "name": "stdout",
     "output_type": "stream",
     "text": [
      "Hello, World!\n"
     ]
    }
   ],
   "source": [
    "\"\"\"\n",
    "This is a comment\n",
    "written in\n",
    "more than just one line\n",
    "\"\"\"\n",
    "print(\"Hello, World!\")\n"
   ]
  }
 ],
 "metadata": {
  "kernelspec": {
   "display_name": "Python 3 (ipykernel)",
   "language": "python",
   "name": "python3"
  },
  "language_info": {
   "codemirror_mode": {
    "name": "ipython",
    "version": 3
   },
   "file_extension": ".py",
   "mimetype": "text/x-python",
   "name": "python",
   "nbconvert_exporter": "python",
   "pygments_lexer": "ipython3",
   "version": "3.9.7"
  }
 },
 "nbformat": 4,
 "nbformat_minor": 5
}
