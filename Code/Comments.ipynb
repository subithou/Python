{
  "cells": [
    {
      "cell_type": "markdown",
      "source": [
        "#**Python Comments**\n",
        "---------------\n",
        "1. Comments can be used to explain Python code.\n",
        "2. Comments can be used to make the code more readable.\n",
        "3. Comments can be used to prevent execution when testing code"
      ],
      "metadata": {
        "id": "ue48o3KQmEc1"
      },
      "id": "ue48o3KQmEc1"
    },
    {
      "cell_type": "markdown",
      "source": [
        "###**Creating a Comment**\n",
        "Comments starts with a #, and Python will ignore them"
      ],
      "metadata": {
        "id": "-mTRw7KlmVcO"
      },
      "id": "-mTRw7KlmVcO"
    },
    {
      "cell_type": "code",
      "execution_count": null,
      "id": "2a7b52f0",
      "metadata": {
        "id": "2a7b52f0",
        "outputId": "815dea9c-cdeb-47e5-f8f7-eeb8e04ffd01"
      },
      "outputs": [
        {
          "name": "stdout",
          "output_type": "stream",
          "text": [
            "Hello, World!\n"
          ]
        }
      ],
      "source": [
        "#This is a comment\n",
        "print(\"Hello, World!\")"
      ]
    },
    {
      "cell_type": "markdown",
      "source": [
        "Comments can be placed at the end of a line, and Python will ignore the rest of the line\n"
      ],
      "metadata": {
        "id": "lWqu9oCVmiRv"
      },
      "id": "lWqu9oCVmiRv"
    },
    {
      "cell_type": "code",
      "execution_count": null,
      "id": "5a40c4f5",
      "metadata": {
        "id": "5a40c4f5",
        "outputId": "bca1a32e-eda8-4579-f743-f7484a88454c"
      },
      "outputs": [
        {
          "name": "stdout",
          "output_type": "stream",
          "text": [
            "Hello, World!\n"
          ]
        }
      ],
      "source": [
        "print(\"Hello, World!\") #This is a comment"
      ]
    },
    {
      "cell_type": "markdown",
      "source": [
        "A comment does not have to be text that explains the code, it can also be used to prevent Python from executing code\n",
        "\n"
      ],
      "metadata": {
        "id": "HMm9a96emw_P"
      },
      "id": "HMm9a96emw_P"
    },
    {
      "cell_type": "code",
      "execution_count": null,
      "id": "0a31fdec",
      "metadata": {
        "id": "0a31fdec"
      },
      "outputs": [],
      "source": [
        "# print(\"Hello, World!\")\n",
        "print(\"Cheers, Mate!\")"
      ]
    },
    {
      "cell_type": "markdown",
      "source": [
        "###**Multi Line Comments**\n",
        "* Python does not really have a syntax for multi line comments.\n",
        "* To add a multiline comment you could insert a # for each line"
      ],
      "metadata": {
        "id": "GFS-0-s7nCBC"
      },
      "id": "GFS-0-s7nCBC"
    },
    {
      "cell_type": "code",
      "execution_count": null,
      "id": "f2381698",
      "metadata": {
        "id": "f2381698",
        "outputId": "b33d9127-4939-4985-861a-4af13c6ac38d"
      },
      "outputs": [
        {
          "name": "stdout",
          "output_type": "stream",
          "text": [
            "Hello, World!\n"
          ]
        }
      ],
      "source": [
        "# This is a comment\n",
        "# written in\n",
        "# more than just one line\n",
        "print(\"Hello, World!\")"
      ]
    },
    {
      "cell_type": "markdown",
      "source": [
        "Since Python will ignore string literals that are not assigned to a variable, you can add a multiline string (triple quotes) in your code, and place your comment inside it."
      ],
      "metadata": {
        "id": "LzwHxfNOnaCB"
      },
      "id": "LzwHxfNOnaCB"
    },
    {
      "cell_type": "code",
      "execution_count": null,
      "id": "b28140af",
      "metadata": {
        "colab": {
          "base_uri": "https://localhost:8080/"
        },
        "id": "b28140af",
        "outputId": "2eeac1d8-ebb3-41cf-8f3e-14c3af225f10"
      },
      "outputs": [
        {
          "output_type": "stream",
          "name": "stdout",
          "text": [
            "Hello, World!\n"
          ]
        }
      ],
      "source": [
        "\"\"\"\n",
        "This is a comment\n",
        "written in\n",
        "more than just one line\n",
        "\"\"\"\n",
        "print(\"Hello, World!\")\n"
      ]
    }
  ],
  "metadata": {
    "kernelspec": {
      "display_name": "Python 3 (ipykernel)",
      "language": "python",
      "name": "python3"
    },
    "language_info": {
      "codemirror_mode": {
        "name": "ipython",
        "version": 3
      },
      "file_extension": ".py",
      "mimetype": "text/x-python",
      "name": "python",
      "nbconvert_exporter": "python",
      "pygments_lexer": "ipython3",
      "version": "3.9.7"
    },
    "colab": {
      "name": "Comments.ipynb",
      "provenance": []
    }
  },
  "nbformat": 4,
  "nbformat_minor": 5
}