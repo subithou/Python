{
  "cells": [
    {
      "cell_type": "markdown",
      "source": [
        "#**Python Project**\n",
        "Creating a Python project for credit and debit transaction in a bank using Mysql."
      ],
      "metadata": {
        "id": "pVQrrFLLmT-y"
      }
    },
    {
      "cell_type": "markdown",
      "source": [
        "Install the Mysql connector for Python"
      ],
      "metadata": {
        "id": "hMMMjEn2mp-o"
      }
    },
    {
      "cell_type": "code",
      "execution_count": null,
      "metadata": {
        "id": "jTh4WcwDmQAo"
      },
      "outputs": [],
      "source": [
        "pip install mysql-connector-python"
      ]
    },
    {
      "cell_type": "markdown",
      "source": [
        "Create a python file and run the below code. If the code runs succesfully then, the mysql connector is existing in our system."
      ],
      "metadata": {
        "id": "v81RxbpImy29"
      }
    },
    {
      "cell_type": "code",
      "execution_count": null,
      "metadata": {
        "id": "YLZBKiHGmQA8"
      },
      "outputs": [],
      "source": [
        "import mysql.connector"
      ]
    },
    {
      "cell_type": "markdown",
      "source": [
        "Connect to Mysql server using Pthon."
      ],
      "metadata": {
        "id": "XykMIglanH2H"
      }
    },
    {
      "cell_type": "code",
      "execution_count": null,
      "metadata": {
        "id": "oKUCLgBBmQA_"
      },
      "outputs": [],
      "source": [
        "import mysql.connector\n",
        "\n",
        "mydb = mysql.connector.connect(\n",
        "    host=\"localhost\",\n",
        "    user=\"root\",\n",
        "    password=\"123456789\"\n",
        ")"
      ]
    },
    {
      "cell_type": "markdown",
      "source": [
        "Creating a database."
      ],
      "metadata": {
        "id": "vnXcAVFSnN6b"
      }
    },
    {
      "cell_type": "code",
      "execution_count": null,
      "metadata": {
        "id": "aP_2lxdcmQBD"
      },
      "outputs": [],
      "source": [
        "import mysql.connector\n",
        "\n",
        "mydb = mysql.connector.connect(\n",
        "    host=\"localhost\",\n",
        "    user=\"root\",\n",
        "    password=\"123456789\"\n",
        ")\n",
        "\n",
        "my_curser = mydb.cursor()\n",
        "my_curser.execute(\"CREATE DATABASE kmvhss_project\")"
      ]
    },
    {
      "cell_type": "markdown",
      "source": [
        "Display the available databases."
      ],
      "metadata": {
        "id": "5J_e2LgfnRRh"
      }
    },
    {
      "cell_type": "code",
      "execution_count": null,
      "metadata": {
        "scrolled": true,
        "id": "rB5crLz2mQBI",
        "outputId": "a22523c4-3013-4f33-fbe2-aea87fd14926"
      },
      "outputs": [
        {
          "name": "stdout",
          "output_type": "stream",
          "text": [
            "('gvhss_project',)\n",
            "('information_schema',)\n",
            "('kmvhss_project',)\n",
            "('mini_project',)\n",
            "('mysql',)\n",
            "('performance_schema',)\n",
            "('project',)\n",
            "('project_gvhss',)\n",
            "('sakila',)\n",
            "('sys',)\n",
            "('world',)\n"
          ]
        }
      ],
      "source": [
        "import mysql.connector\n",
        "\n",
        "mydb = mysql.connector.connect(\n",
        "    host=\"localhost\",\n",
        "    user=\"root\",\n",
        "    password=\"123456789\"\n",
        ")\n",
        "\n",
        "my_curser = mydb.cursor()\n",
        "my_curser.execute(\"SHOW DATABASES\")\n",
        "for i in my_curser:\n",
        "    print(i)"
      ]
    },
    {
      "cell_type": "markdown",
      "source": [
        "Creating the Tables **user, credit and debit.**"
      ],
      "metadata": {
        "id": "cNGTceN-nXCB"
      }
    },
    {
      "cell_type": "code",
      "execution_count": null,
      "metadata": {
        "scrolled": true,
        "id": "grZmP6PCmQBM",
        "outputId": "805a7f14-7b5f-4f51-8185-ab9985d16758"
      },
      "outputs": [
        {
          "name": "stdout",
          "output_type": "stream",
          "text": [
            "0\n"
          ]
        }
      ],
      "source": [
        "# creating tables\n",
        "\n",
        "import mysql.connector\n",
        "\n",
        "mydb = mysql.connector.connect(\n",
        "    host=\"localhost\",\n",
        "    user=\"root\",\n",
        "    password=\"123456789\",\n",
        "    database=\"kmvhss_project\"\n",
        ")\n",
        "\n",
        "my_curser = mydb.cursor()\n",
        "my_curser.execute(\"CREATE TABLE credit(ac_no varchar(50), amount dec(10,2))\")\n",
        "my_curser.execute(\"CREATE TABLE debit(ac_no varchar(50), amount dec(10,2))\")\n",
        "my_curser.execute(\"CREATE TABLE user(ac_no varchar(50) primary key, name varchar(50), ph_no int(10), balance dec(10,2))\")\n",
        "\n",
        "print(my_curser.rowcount)\n"
      ]
    },
    {
      "cell_type": "markdown",
      "source": [
        "Inserting the values into **user** table."
      ],
      "metadata": {
        "id": "B2e57jtpnhh9"
      }
    },
    {
      "cell_type": "code",
      "execution_count": null,
      "metadata": {
        "id": "XGmm_sQWmQBQ",
        "outputId": "fb170250-ac4d-45e8-90a0-89884f5e8ef3"
      },
      "outputs": [
        {
          "name": "stdout",
          "output_type": "stream",
          "text": [
            "3\n"
          ]
        }
      ],
      "source": [
        "#insert values into user table\n",
        "import mysql.connector\n",
        "\n",
        "mydb = mysql.connector.connect(\n",
        "    host=\"localhost\",\n",
        "    user=\"root\",\n",
        "    password=\"123456789\",\n",
        "    database=\"kmvhss_project\"\n",
        ")\n",
        "\n",
        "my_curser = mydb.cursor()\n",
        "\n",
        "sql = \"INSERT INTO user(ac_no, name,ph_no, balance) VALUES (%s, %s, %s, %s)\"\n",
        "val = [\n",
        "    ('1001','Arjun', 999999999, 12000),\n",
        "    ('1002', 'Nabeel', 99999999, 2000.00),\n",
        "    ('1003', 'Layana', 87777777, 100.00),\n",
        "    ('1004', 'Naseem', 66666666, 0.00)\n",
        "    ]\n",
        "\n",
        "my_curser.executemany(sql, val)\n",
        "mydb.commit()\n",
        "\n",
        "print(my_curser.rowcount)\n"
      ]
    },
    {
      "cell_type": "markdown",
      "source": [
        "Creating the two functions credit and debit for transaction."
      ],
      "metadata": {
        "id": "Z8ld8AaVnpiW"
      }
    },
    {
      "cell_type": "code",
      "execution_count": null,
      "metadata": {
        "scrolled": true,
        "id": "eoCyvxCamQBU"
      },
      "outputs": [],
      "source": [
        "import mysql.connector\n",
        "\n",
        "mydb = mysql.connector.connect(\n",
        "    host=\"localhost\",\n",
        "    user=\"root\",\n",
        "    password=\"123456789\",\n",
        "    database=\"kmvhss_project\"\n",
        ")\n",
        "\n",
        "my_curser = mydb.cursor()\n",
        "\n",
        "def credit(ac_no, amount):\n",
        "    # Check the account number is valid or not.\n",
        "    my_curser.execute(\"SELECT * FROM user WHERE ac_no=%s\", (ac_no,))\n",
        "    my_curser.fetchall()\n",
        "    \n",
        "    if my_curser.rowcount == 0:\n",
        "        print(\"Invalid Account Number\")\n",
        "        exit()\n",
        "    \n",
        "    # If the account number is valid then credit the amount. \n",
        "    else:\n",
        "        sql1 = \"INSERT INTO credit(ac_no, amount) VALUES(%s, %s)\"\n",
        "        val = (ac_no, amount)\n",
        "        my_curser.execute(sql1, val)\n",
        "        mydb.commit()\n",
        "    \n",
        "        sql2 = \"UPDATE user SET balance=balance+%s WHERE ac_no=%s\"\n",
        "        amnt = (amount, ac_no)\n",
        "        my_curser.execute(sql2, amnt)\n",
        "        mydb.commit()\n",
        "    \n",
        "        print(\"The amount \", amount, \" is successfully deposited in account \", ac_no,\"\\n\")\n",
        "\n",
        "    \n",
        "def debit(ac_no, amount):\n",
        "    # Check the account number is valid or not.\n",
        "    my_curser.execute(\"SELECT * FROM user WHERE ac_no=%s\", (ac_no,))\n",
        "    my_curser.fetchall()\n",
        "    \n",
        "    if my_curser.rowcount == 0:\n",
        "        print(\"Invalid Account Number \\n\")\n",
        "        exit()\n",
        "        \n",
        "    # If the account number is valid then debit the amount. \n",
        "    else:\n",
        "        sql1 = \"INSERT INTO debit(ac_no, amount) VALUES(%s, %s)\"\n",
        "        val = (ac_no, amount)\n",
        "        my_curser.execute(sql1, val)\n",
        "        mydb.commit()\n",
        "    \n",
        "        sql2 = \"UPDATE user SET balance=balance-%s WHERE ac_no=%s\"\n",
        "        amnt = (amount, ac_no)\n",
        "        my_curser.execute(sql2, amnt)\n",
        "        mydb.commit()\n",
        "        print(\"The amount \", amount, \" is successfully debited from account \", ac_no,\"\\n\")\n",
        "    \n",
        "while True:\n",
        "     print(\"Select the following options\")\n",
        "     print(\"1. Credit\")\n",
        "     print(\"2. Debit\")\n",
        "     print(\"3. Exit\")\n",
        "     option = int(input())\n",
        "     if option == 1:\n",
        "        ac_no = input(\"Enter your account number : \")\n",
        "        amount = int(input(\"Enter the amount for Credit : \"))\n",
        "        credit(ac_no, amount)\n",
        "        \n",
        "     elif option == 2:\n",
        "        ac_no = input(\"Enter your account number : \")\n",
        "        amount = float(input(\"Enter the amount for deposit : \"))\n",
        "        debit(ac_no, amount)\n",
        "        \n",
        "     elif option == 3:\n",
        "        break\n",
        "        \n",
        "     else:\n",
        "        print(\"Invalid input \\n\")\n",
        "\n",
        "print(\"Thank you\")"
      ]
    }
  ],
  "metadata": {
    "interpreter": {
      "hash": "83f48eb679164737e1df6d884f576d24c0f1beb33ed43871a04d2d61500e8ba5"
    },
    "kernelspec": {
      "display_name": "Python 3 (ipykernel)",
      "language": "python",
      "name": "python3"
    },
    "language_info": {
      "codemirror_mode": {
        "name": "ipython",
        "version": 3
      },
      "file_extension": ".py",
      "mimetype": "text/x-python",
      "name": "python",
      "nbconvert_exporter": "python",
      "pygments_lexer": "ipython3",
      "version": "3.9.7"
    },
    "colab": {
      "name": "mini_project.ipynb",
      "provenance": [],
      "collapsed_sections": []
    }
  },
  "nbformat": 4,
  "nbformat_minor": 0
}