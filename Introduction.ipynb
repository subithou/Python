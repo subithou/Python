{
  "nbformat": 4,
  "nbformat_minor": 0,
  "metadata": {
    "colab": {
      "name": "Introduction.ipynb",
      "provenance": [],
      "authorship_tag": "ABX9TyNbJ2uOp4t7k/1kMk7KXPUz",
      "include_colab_link": true
    },
    "kernelspec": {
      "name": "python3",
      "display_name": "Python 3"
    },
    "language_info": {
      "name": "python"
    },
    "accelerator": "TPU"
  },
  "cells": [
    {
      "cell_type": "markdown",
      "metadata": {
        "id": "view-in-github",
        "colab_type": "text"
      },
      "source": [
        "<a href=\"https://colab.research.google.com/github/subithou/Python/blob/main/Introduction.ipynb\" target=\"_parent\"><img src=\"https://colab.research.google.com/assets/colab-badge.svg\" alt=\"Open In Colab\"/></a>"
      ]
    },
    {
      "cell_type": "markdown",
      "source": [
        "# **Python Introduction**\n",
        "---\n",
        "\n",
        "* Python is a popular programming language. It was created by Guido van Rossum, and released in 1991.\n",
        "\n",
        "**Applications**\n",
        "\n",
        "* web development (server-side)\n",
        "* software development\n",
        "* mathematics\n",
        "* system scripting\n",
        "\n",
        "**What can Python do?**\n",
        "* Python can be used on a server to create web applications.\n",
        "* Python can be used alongside software to create workflows.\n",
        "* Python can connect to database systems. It can also read and modify files.\n",
        "* Python can be used to handle big data and perform complex mathematics.\n",
        "* Python can be used for rapid prototyping, or for production-ready software development.\n",
        "\n",
        "**Why Python?**\n",
        "* Python works on different platforms (Windows, Mac, Linux, Raspberry Pi, etc).\n",
        "Python has a simple syntax similar to the English language.\n",
        "* Python has syntax that allows developers to write programs with fewer lines than some other programming languages.\n",
        "* Python runs on an interpreter system, meaning that code can be executed as soon as it is written. This means that prototyping can be very quick.\n",
        "* Python can be treated in a procedural way, an object-oriented way or a functional way.\n",
        "\n",
        "**Versions**\n",
        "* The most recent major version of Python is Python 3, which we shall be using in this tutorial. However, Python 2, although not being updated with anything other than security updates, is still quite popular.\n",
        "\n",
        "**Python Syntax compared to other programming languages**\n",
        "* Python was designed for readability, and has some similarities to the English language with influence from mathematics.\n",
        "* Python uses new lines to complete a command, as opposed to other programming languages which often use semicolons or parentheses.\n",
        "* Python relies on indentation, using whitespace, to define scope; such as the scope of loops, functions and classes. Other programming languages often use curly-brackets for this purpose."
      ],
      "metadata": {
        "id": "-IqVqnziEX9s"
      }
    }
  ]
}